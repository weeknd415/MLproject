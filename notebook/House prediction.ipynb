{
 "cells": [
  {
   "cell_type": "code",
   "execution_count": 2,
   "metadata": {},
   "outputs": [],
   "source": [
    "import pandas as pd\n",
    "import numpy as np\n",
    "import matplotlib.pyplot as plt\n",
    "import seaborn as sns\n",
    "sns.set()\n",
    "from sklearn.metrics import mean_absolute_error\n",
    "from sklearn.model_selection import train_test_split\n",
    "from sklearn.linear_model import LinearRegression\n",
    "from sklearn.neighbors import KNeighborsRegressor"
   ]
  },
  {
   "cell_type": "code",
   "execution_count": 3,
   "metadata": {},
   "outputs": [],
   "source": [
    "data=pd.read_csv(r\"C:\\Machine learning\\Retail House Predictor\\Bengaluru_House_Data.csv\")"
   ]
  },
  {
   "cell_type": "code",
   "execution_count": 4,
   "metadata": {},
   "outputs": [
    {
     "data": {
      "text/html": [
       "<div>\n",
       "<style scoped>\n",
       "    .dataframe tbody tr th:only-of-type {\n",
       "        vertical-align: middle;\n",
       "    }\n",
       "\n",
       "    .dataframe tbody tr th {\n",
       "        vertical-align: top;\n",
       "    }\n",
       "\n",
       "    .dataframe thead th {\n",
       "        text-align: right;\n",
       "    }\n",
       "</style>\n",
       "<table border=\"1\" class=\"dataframe\">\n",
       "  <thead>\n",
       "    <tr style=\"text-align: right;\">\n",
       "      <th></th>\n",
       "      <th>area_type</th>\n",
       "      <th>availability</th>\n",
       "      <th>location</th>\n",
       "      <th>size</th>\n",
       "      <th>society</th>\n",
       "      <th>total_sqft</th>\n",
       "      <th>bath</th>\n",
       "      <th>balcony</th>\n",
       "      <th>price</th>\n",
       "    </tr>\n",
       "  </thead>\n",
       "  <tbody>\n",
       "    <tr>\n",
       "      <th>0</th>\n",
       "      <td>Super built-up  Area</td>\n",
       "      <td>19-Dec</td>\n",
       "      <td>Electronic City Phase II</td>\n",
       "      <td>2 BHK</td>\n",
       "      <td>Coomee</td>\n",
       "      <td>1056</td>\n",
       "      <td>2.0</td>\n",
       "      <td>1.0</td>\n",
       "      <td>39.07</td>\n",
       "    </tr>\n",
       "    <tr>\n",
       "      <th>1</th>\n",
       "      <td>Plot  Area</td>\n",
       "      <td>Ready To Move</td>\n",
       "      <td>Chikka Tirupathi</td>\n",
       "      <td>4 Bedroom</td>\n",
       "      <td>Theanmp</td>\n",
       "      <td>2600</td>\n",
       "      <td>5.0</td>\n",
       "      <td>3.0</td>\n",
       "      <td>120.00</td>\n",
       "    </tr>\n",
       "    <tr>\n",
       "      <th>2</th>\n",
       "      <td>Built-up  Area</td>\n",
       "      <td>Ready To Move</td>\n",
       "      <td>Uttarahalli</td>\n",
       "      <td>3 BHK</td>\n",
       "      <td>NaN</td>\n",
       "      <td>1440</td>\n",
       "      <td>2.0</td>\n",
       "      <td>3.0</td>\n",
       "      <td>62.00</td>\n",
       "    </tr>\n",
       "    <tr>\n",
       "      <th>3</th>\n",
       "      <td>Super built-up  Area</td>\n",
       "      <td>Ready To Move</td>\n",
       "      <td>Lingadheeranahalli</td>\n",
       "      <td>3 BHK</td>\n",
       "      <td>Soiewre</td>\n",
       "      <td>1521</td>\n",
       "      <td>3.0</td>\n",
       "      <td>1.0</td>\n",
       "      <td>95.00</td>\n",
       "    </tr>\n",
       "    <tr>\n",
       "      <th>4</th>\n",
       "      <td>Super built-up  Area</td>\n",
       "      <td>Ready To Move</td>\n",
       "      <td>Kothanur</td>\n",
       "      <td>2 BHK</td>\n",
       "      <td>NaN</td>\n",
       "      <td>1200</td>\n",
       "      <td>2.0</td>\n",
       "      <td>1.0</td>\n",
       "      <td>51.00</td>\n",
       "    </tr>\n",
       "  </tbody>\n",
       "</table>\n",
       "</div>"
      ],
      "text/plain": [
       "              area_type   availability                  location       size  \\\n",
       "0  Super built-up  Area         19-Dec  Electronic City Phase II      2 BHK   \n",
       "1            Plot  Area  Ready To Move          Chikka Tirupathi  4 Bedroom   \n",
       "2        Built-up  Area  Ready To Move               Uttarahalli      3 BHK   \n",
       "3  Super built-up  Area  Ready To Move        Lingadheeranahalli      3 BHK   \n",
       "4  Super built-up  Area  Ready To Move                  Kothanur      2 BHK   \n",
       "\n",
       "   society total_sqft  bath  balcony   price  \n",
       "0  Coomee        1056   2.0      1.0   39.07  \n",
       "1  Theanmp       2600   5.0      3.0  120.00  \n",
       "2      NaN       1440   2.0      3.0   62.00  \n",
       "3  Soiewre       1521   3.0      1.0   95.00  \n",
       "4      NaN       1200   2.0      1.0   51.00  "
      ]
     },
     "execution_count": 4,
     "metadata": {},
     "output_type": "execute_result"
    }
   ],
   "source": [
    "data.head()"
   ]
  },
  {
   "cell_type": "code",
   "execution_count": 5,
   "metadata": {},
   "outputs": [
    {
     "data": {
      "text/plain": [
       "area_type          0\n",
       "availability       0\n",
       "location           1\n",
       "size              16\n",
       "society         5502\n",
       "total_sqft         0\n",
       "bath              73\n",
       "balcony          609\n",
       "price              0\n",
       "dtype: int64"
      ]
     },
     "execution_count": 5,
     "metadata": {},
     "output_type": "execute_result"
    }
   ],
   "source": [
    "data.isnull().sum()"
   ]
  },
  {
   "cell_type": "code",
   "execution_count": 6,
   "metadata": {},
   "outputs": [],
   "source": [
    "data=data.dropna()"
   ]
  },
  {
   "cell_type": "code",
   "execution_count": 7,
   "metadata": {},
   "outputs": [
    {
     "data": {
      "text/plain": [
       "(7496, 9)"
      ]
     },
     "execution_count": 7,
     "metadata": {},
     "output_type": "execute_result"
    }
   ],
   "source": [
    "data.shape"
   ]
  },
  {
   "cell_type": "code",
   "execution_count": 8,
   "metadata": {},
   "outputs": [
    {
     "data": {
      "image/png": "[encoded data removed]",
      "text/plain": [
       "<Figure size 750x750 with 12 Axes>"
      ]
     },
     "metadata": {},
     "output_type": "display_data"
    }
   ],
   "source": [
    "sns.pairplot(data);"
   ]
  },
  {
   "cell_type": "code",
   "execution_count": 9,
   "metadata": {},
   "outputs": [
    {
     "data": {
      "text/plain": [
       "area_type\n",
       "Super built-up  Area    6017\n",
       "Built-up  Area          1158\n",
       "Plot  Area               269\n",
       "Carpet  Area              52\n",
       "Name: count, dtype: int64"
      ]
     },
     "execution_count": 9,
     "metadata": {},
     "output_type": "execute_result"
    }
   ],
   "source": [
    "data['area_type'].value_counts()"
   ]
  },
  {
   "cell_type": "code",
   "execution_count": 10,
   "metadata": {},
   "outputs": [
    {
     "data": {
      "text/plain": [
       "array(['2 BHK', '4 Bedroom', '3 BHK', '3 Bedroom', '1 RK', '4 BHK',\n",
       "       '1 BHK', '5 BHK', '11 BHK', '5 Bedroom', '9 BHK', '2 Bedroom',\n",
       "       '6 BHK', '7 BHK', '6 Bedroom'], dtype=object)"
      ]
     },
     "execution_count": 10,
     "metadata": {},
     "output_type": "execute_result"
    }
   ],
   "source": [
    "data['size'].unique()"
   ]
  },
  {
   "cell_type": "code",
   "execution_count": 11,
   "metadata": {},
   "outputs": [],
   "source": [
    "d1=data"
   ]
  },
  {
   "cell_type": "code",
   "execution_count": 12,
   "metadata": {},
   "outputs": [
    {
     "name": "stdout",
     "output_type": "stream",
     "text": [
      "<class 'pandas.core.frame.DataFrame'>\n",
      "Index: 7496 entries, 0 to 13318\n",
      "Data columns (total 9 columns):\n",
      " #   Column        Non-Null Count  Dtype  \n",
      "---  ------        --------------  -----  \n",
      " 0   area_type     7496 non-null   object \n",
      " 1   availability  7496 non-null   object \n",
      " 2   location      7496 non-null   object \n",
      " 3   size          7496 non-null   object \n",
      " 4   society       7496 non-null   object \n",
      " 5   total_sqft    7496 non-null   object \n",
      " 6   bath          7496 non-null   float64\n",
      " 7   balcony       7496 non-null   float64\n",
      " 8   price         7496 non-null   float64\n",
      "dtypes: float64(3), object(6)\n",
      "memory usage: 585.6+ KB\n"
     ]
    }
   ],
   "source": [
    "d1.info()"
   ]
  },
  {
   "cell_type": "code",
   "execution_count": 13,
   "metadata": {},
   "outputs": [],
   "source": [
    "d1['bhk']=d1['size'].astype(str).apply(lambda x: x.split(' ')[0])"
   ]
  },
  {
   "cell_type": "code",
   "execution_count": 14,
   "metadata": {},
   "outputs": [],
   "source": [
    "d1=d1.drop(['size'],axis=1)"
   ]
  },
  {
   "cell_type": "code",
   "execution_count": 15,
   "metadata": {},
   "outputs": [
    {
     "data": {
      "text/html": [
       "<div>\n",
       "<style scoped>\n",
       "    .dataframe tbody tr th:only-of-type {\n",
       "        vertical-align: middle;\n",
       "    }\n",
       "\n",
       "    .dataframe tbody tr th {\n",
       "        vertical-align: top;\n",
       "    }\n",
       "\n",
       "    .dataframe thead th {\n",
       "        text-align: right;\n",
       "    }\n",
       "</style>\n",
       "<table border=\"1\" class=\"dataframe\">\n",
       "  <thead>\n",
       "    <tr style=\"text-align: right;\">\n",
       "      <th></th>\n",
       "      <th>area_type</th>\n",
       "      <th>availability</th>\n",
       "      <th>location</th>\n",
       "      <th>society</th>\n",
       "      <th>total_sqft</th>\n",
       "      <th>bath</th>\n",
       "      <th>balcony</th>\n",
       "      <th>price</th>\n",
       "      <th>bhk</th>\n",
       "    </tr>\n",
       "  </thead>\n",
       "  <tbody>\n",
       "    <tr>\n",
       "      <th>0</th>\n",
       "      <td>Super built-up  Area</td>\n",
       "      <td>19-Dec</td>\n",
       "      <td>Electronic City Phase II</td>\n",
       "      <td>Coomee</td>\n",
       "      <td>1056</td>\n",
       "      <td>2.0</td>\n",
       "      <td>1.0</td>\n",
       "      <td>39.07</td>\n",
       "      <td>2</td>\n",
       "    </tr>\n",
       "    <tr>\n",
       "      <th>1</th>\n",
       "      <td>Plot  Area</td>\n",
       "      <td>Ready To Move</td>\n",
       "      <td>Chikka Tirupathi</td>\n",
       "      <td>Theanmp</td>\n",
       "      <td>2600</td>\n",
       "      <td>5.0</td>\n",
       "      <td>3.0</td>\n",
       "      <td>120.00</td>\n",
       "      <td>4</td>\n",
       "    </tr>\n",
       "    <tr>\n",
       "      <th>3</th>\n",
       "      <td>Super built-up  Area</td>\n",
       "      <td>Ready To Move</td>\n",
       "      <td>Lingadheeranahalli</td>\n",
       "      <td>Soiewre</td>\n",
       "      <td>1521</td>\n",
       "      <td>3.0</td>\n",
       "      <td>1.0</td>\n",
       "      <td>95.00</td>\n",
       "      <td>3</td>\n",
       "    </tr>\n",
       "    <tr>\n",
       "      <th>5</th>\n",
       "      <td>Super built-up  Area</td>\n",
       "      <td>Ready To Move</td>\n",
       "      <td>Whitefield</td>\n",
       "      <td>DuenaTa</td>\n",
       "      <td>1170</td>\n",
       "      <td>2.0</td>\n",
       "      <td>1.0</td>\n",
       "      <td>38.00</td>\n",
       "      <td>2</td>\n",
       "    </tr>\n",
       "    <tr>\n",
       "      <th>11</th>\n",
       "      <td>Plot  Area</td>\n",
       "      <td>Ready To Move</td>\n",
       "      <td>Whitefield</td>\n",
       "      <td>Prrry M</td>\n",
       "      <td>2785</td>\n",
       "      <td>5.0</td>\n",
       "      <td>3.0</td>\n",
       "      <td>295.00</td>\n",
       "      <td>4</td>\n",
       "    </tr>\n",
       "  </tbody>\n",
       "</table>\n",
       "</div>"
      ],
      "text/plain": [
       "               area_type   availability                  location  society  \\\n",
       "0   Super built-up  Area         19-Dec  Electronic City Phase II  Coomee    \n",
       "1             Plot  Area  Ready To Move          Chikka Tirupathi  Theanmp   \n",
       "3   Super built-up  Area  Ready To Move        Lingadheeranahalli  Soiewre   \n",
       "5   Super built-up  Area  Ready To Move                Whitefield  DuenaTa   \n",
       "11            Plot  Area  Ready To Move                Whitefield  Prrry M   \n",
       "\n",
       "   total_sqft  bath  balcony   price bhk  \n",
       "0        1056   2.0      1.0   39.07   2  \n",
       "1        2600   5.0      3.0  120.00   4  \n",
       "3        1521   3.0      1.0   95.00   3  \n",
       "5        1170   2.0      1.0   38.00   2  \n",
       "11       2785   5.0      3.0  295.00   4  "
      ]
     },
     "execution_count": 15,
     "metadata": {},
     "output_type": "execute_result"
    }
   ],
   "source": [
    "d1.head()"
   ]
  },
  {
   "cell_type": "code",
   "execution_count": 16,
   "metadata": {},
   "outputs": [],
   "source": [
    "d1=d1.drop(['area_type','availability','society','balcony'],axis=1)"
   ]
  },
  {
   "cell_type": "code",
   "execution_count": 17,
   "metadata": {},
   "outputs": [],
   "source": [
    "d1=d1.dropna()"
   ]
  },
  {
   "cell_type": "code",
   "execution_count": 18,
   "metadata": {},
   "outputs": [
    {
     "data": {
      "text/plain": [
       "array(['1056', '2600', '1521', ..., '1919', '2111', '4689'], dtype=object)"
      ]
     },
     "execution_count": 18,
     "metadata": {},
     "output_type": "execute_result"
    }
   ],
   "source": [
    "d1['total_sqft'].unique()"
   ]
  },
  {
   "cell_type": "code",
   "execution_count": 19,
   "metadata": {},
   "outputs": [],
   "source": [
    "def numbers(x):\n",
    "    a=x.split('-')\n",
    "    if len(a)==2:\n",
    "        return (float(a[0])+float(a[1]))/2\n",
    "    try:\n",
    "        return float(a[0])\n",
    "    except:\n",
    "        return None"
   ]
  },
  {
   "cell_type": "code",
   "execution_count": 20,
   "metadata": {},
   "outputs": [],
   "source": [
    "d2=d1.copy()\n",
    "d2['total_sqft']=d2['total_sqft'].apply(numbers)\n"
   ]
  },
  {
   "cell_type": "code",
   "execution_count": 21,
   "metadata": {},
   "outputs": [
    {
     "data": {
      "text/html": [
       "<div>\n",
       "<style scoped>\n",
       "    .dataframe tbody tr th:only-of-type {\n",
       "        vertical-align: middle;\n",
       "    }\n",
       "\n",
       "    .dataframe tbody tr th {\n",
       "        vertical-align: top;\n",
       "    }\n",
       "\n",
       "    .dataframe thead th {\n",
       "        text-align: right;\n",
       "    }\n",
       "</style>\n",
       "<table border=\"1\" class=\"dataframe\">\n",
       "  <thead>\n",
       "    <tr style=\"text-align: right;\">\n",
       "      <th></th>\n",
       "      <th>location</th>\n",
       "      <th>total_sqft</th>\n",
       "      <th>bath</th>\n",
       "      <th>price</th>\n",
       "      <th>bhk</th>\n",
       "    </tr>\n",
       "  </thead>\n",
       "  <tbody>\n",
       "    <tr>\n",
       "      <th>0</th>\n",
       "      <td>Electronic City Phase II</td>\n",
       "      <td>1056.0</td>\n",
       "      <td>2.0</td>\n",
       "      <td>39.07</td>\n",
       "      <td>2</td>\n",
       "    </tr>\n",
       "    <tr>\n",
       "      <th>1</th>\n",
       "      <td>Chikka Tirupathi</td>\n",
       "      <td>2600.0</td>\n",
       "      <td>5.0</td>\n",
       "      <td>120.00</td>\n",
       "      <td>4</td>\n",
       "    </tr>\n",
       "    <tr>\n",
       "      <th>3</th>\n",
       "      <td>Lingadheeranahalli</td>\n",
       "      <td>1521.0</td>\n",
       "      <td>3.0</td>\n",
       "      <td>95.00</td>\n",
       "      <td>3</td>\n",
       "    </tr>\n",
       "    <tr>\n",
       "      <th>5</th>\n",
       "      <td>Whitefield</td>\n",
       "      <td>1170.0</td>\n",
       "      <td>2.0</td>\n",
       "      <td>38.00</td>\n",
       "      <td>2</td>\n",
       "    </tr>\n",
       "    <tr>\n",
       "      <th>11</th>\n",
       "      <td>Whitefield</td>\n",
       "      <td>2785.0</td>\n",
       "      <td>5.0</td>\n",
       "      <td>295.00</td>\n",
       "      <td>4</td>\n",
       "    </tr>\n",
       "  </tbody>\n",
       "</table>\n",
       "</div>"
      ],
      "text/plain": [
       "                    location  total_sqft  bath   price bhk\n",
       "0   Electronic City Phase II      1056.0   2.0   39.07   2\n",
       "1           Chikka Tirupathi      2600.0   5.0  120.00   4\n",
       "3         Lingadheeranahalli      1521.0   3.0   95.00   3\n",
       "5                 Whitefield      1170.0   2.0   38.00   2\n",
       "11                Whitefield      2785.0   5.0  295.00   4"
      ]
     },
     "execution_count": 21,
     "metadata": {},
     "output_type": "execute_result"
    }
   ],
   "source": [
    "d2.head()"
   ]
  },
  {
   "cell_type": "code",
   "execution_count": 22,
   "metadata": {},
   "outputs": [],
   "source": [
    "d2=d2.dropna()"
   ]
  },
  {
   "cell_type": "code",
   "execution_count": 23,
   "metadata": {},
   "outputs": [
    {
     "data": {
      "text/plain": [
       "(7481, 5)"
      ]
     },
     "execution_count": 23,
     "metadata": {},
     "output_type": "execute_result"
    }
   ],
   "source": [
    "d2.shape"
   ]
  },
  {
   "cell_type": "code",
   "execution_count": 24,
   "metadata": {},
   "outputs": [],
   "source": [
    "d3=d2.copy()\n",
    "d3['bath']=d3['bath'].apply(lambda x: int(x))\n",
    "d3['bhk']=d3['bhk'].apply(lambda x: int(x))\n"
   ]
  },
  {
   "cell_type": "code",
   "execution_count": 25,
   "metadata": {},
   "outputs": [],
   "source": [
    "d4=d3.copy()\n",
    "d4['location']=d4['location'].apply(lambda x: x.strip())"
   ]
  },
  {
   "cell_type": "code",
   "execution_count": 26,
   "metadata": {},
   "outputs": [],
   "source": [
    "a=d4.groupby('location')['location'].agg('count').sort_values(ascending=False)"
   ]
  },
  {
   "cell_type": "code",
   "execution_count": 27,
   "metadata": {},
   "outputs": [],
   "source": [
    "others=a[a<10]\n",
    "d4['location']=d4['location'].apply(lambda x: \"others\" if x in others else x)"
   ]
  },
  {
   "cell_type": "code",
   "execution_count": 28,
   "metadata": {},
   "outputs": [
    {
     "data": {
      "text/plain": [
       "location\n",
       "others                    1330\n",
       "Whitefield                 397\n",
       "Sarjapur  Road             310\n",
       "Electronic City            238\n",
       "Kanakpura Road             216\n",
       "                          ... \n",
       "Amruthahalli                10\n",
       "Arekere                     10\n",
       "Banashankari Stage III      10\n",
       "Jalahalli East              10\n",
       "Dairy Circle                10\n",
       "Name: count, Length: 155, dtype: int64"
      ]
     },
     "execution_count": 28,
     "metadata": {},
     "output_type": "execute_result"
    }
   ],
   "source": [
    "d4['location'].value_counts()"
   ]
  },
  {
   "cell_type": "code",
   "execution_count": 29,
   "metadata": {},
   "outputs": [],
   "source": [
    "d4['price_sqft']=d4['price']*100000/d4['total_sqft']"
   ]
  },
  {
   "cell_type": "code",
   "execution_count": 30,
   "metadata": {},
   "outputs": [
    {
     "data": {
      "text/html": [
       "<div>\n",
       "<style scoped>\n",
       "    .dataframe tbody tr th:only-of-type {\n",
       "        vertical-align: middle;\n",
       "    }\n",
       "\n",
       "    .dataframe tbody tr th {\n",
       "        vertical-align: top;\n",
       "    }\n",
       "\n",
       "    .dataframe thead th {\n",
       "        text-align: right;\n",
       "    }\n",
       "</style>\n",
       "<table border=\"1\" class=\"dataframe\">\n",
       "  <thead>\n",
       "    <tr style=\"text-align: right;\">\n",
       "      <th></th>\n",
       "      <th>location</th>\n",
       "      <th>total_sqft</th>\n",
       "      <th>bath</th>\n",
       "      <th>price</th>\n",
       "      <th>bhk</th>\n",
       "      <th>price_sqft</th>\n",
       "    </tr>\n",
       "  </thead>\n",
       "  <tbody>\n",
       "    <tr>\n",
       "      <th>0</th>\n",
       "      <td>Electronic City Phase II</td>\n",
       "      <td>1056.0</td>\n",
       "      <td>2</td>\n",
       "      <td>39.07</td>\n",
       "      <td>2</td>\n",
       "      <td>3699.810606</td>\n",
       "    </tr>\n",
       "    <tr>\n",
       "      <th>1</th>\n",
       "      <td>Chikka Tirupathi</td>\n",
       "      <td>2600.0</td>\n",
       "      <td>5</td>\n",
       "      <td>120.00</td>\n",
       "      <td>4</td>\n",
       "      <td>4615.384615</td>\n",
       "    </tr>\n",
       "    <tr>\n",
       "      <th>3</th>\n",
       "      <td>Lingadheeranahalli</td>\n",
       "      <td>1521.0</td>\n",
       "      <td>3</td>\n",
       "      <td>95.00</td>\n",
       "      <td>3</td>\n",
       "      <td>6245.890861</td>\n",
       "    </tr>\n",
       "    <tr>\n",
       "      <th>5</th>\n",
       "      <td>Whitefield</td>\n",
       "      <td>1170.0</td>\n",
       "      <td>2</td>\n",
       "      <td>38.00</td>\n",
       "      <td>2</td>\n",
       "      <td>3247.863248</td>\n",
       "    </tr>\n",
       "    <tr>\n",
       "      <th>11</th>\n",
       "      <td>Whitefield</td>\n",
       "      <td>2785.0</td>\n",
       "      <td>5</td>\n",
       "      <td>295.00</td>\n",
       "      <td>4</td>\n",
       "      <td>10592.459605</td>\n",
       "    </tr>\n",
       "  </tbody>\n",
       "</table>\n",
       "</div>"
      ],
      "text/plain": [
       "                    location  total_sqft  bath   price  bhk    price_sqft\n",
       "0   Electronic City Phase II      1056.0     2   39.07    2   3699.810606\n",
       "1           Chikka Tirupathi      2600.0     5  120.00    4   4615.384615\n",
       "3         Lingadheeranahalli      1521.0     3   95.00    3   6245.890861\n",
       "5                 Whitefield      1170.0     2   38.00    2   3247.863248\n",
       "11                Whitefield      2785.0     5  295.00    4  10592.459605"
      ]
     },
     "execution_count": 30,
     "metadata": {},
     "output_type": "execute_result"
    }
   ],
   "source": [
    "d4.head()"
   ]
  },
  {
   "cell_type": "code",
   "execution_count": 194,
   "metadata": {},
   "outputs": [
    {
     "data": {
      "text/plain": [
       "<seaborn.axisgrid.PairGrid at 0x26a76576150>"
      ]
     },
     "execution_count": 194,
     "metadata": {},
     "output_type": "execute_result"
    },
    {
     "data": {
      "image/png": "[encoded data removed]",
      "text/plain": [
       "<Figure size 1250x1250 with 30 Axes>"
      ]
     },
     "metadata": {},
     "output_type": "display_data"
    }
   ],
   "source": [
    "sns.pairplot(d4)"
   ]
  },
  {
   "cell_type": "code",
   "execution_count": 38,
   "metadata": {},
   "outputs": [
    {
     "data": {
      "text/plain": [
       "Text(0.5, 1.0, 'price')"
      ]
     },
     "execution_count": 38,
     "metadata": {},
     "output_type": "execute_result"
    },
    {
     "data": {
      "image/png": "[encoded data removed]",
      "text/plain": [
       "<Figure size 1500x1500 with 4 Axes>"
      ]
     },
     "metadata": {},
     "output_type": "display_data"
    }
   ],
   "source": [
    "fig, axs = plt.subplots(2, 2, figsize=(15, 15))\n",
    "sns.boxplot(d4['total_sqft'], ax=axs[0, 0])\n",
    "axs[0, 0].set_title('Total_sqft')\n",
    "\n",
    "sns.boxplot(d4['bath'], ax=axs[0, 1])\n",
    "axs[0, 1].set_title('bath')\n",
    "\n",
    "sns.boxplot(d4['bhk'], ax=axs[1, 0])\n",
    "axs[1, 0].set_title('bhk')\n",
    "\n",
    "sns.boxplot(d4['price'], ax=axs[1, 1])\n",
    "axs[1, 1].set_title('price')"
   ]
  },
  {
   "cell_type": "code",
   "execution_count": 107,
   "metadata": {},
   "outputs": [
    {
     "data": {
      "text/plain": [
       "Index(['location', 'total_sqft', 'bath', 'price', 'bhk', 'price_sqft'], dtype='object')"
      ]
     },
     "execution_count": 107,
     "metadata": {},
     "output_type": "execute_result"
    }
   ],
   "source": [
    "d4.columns"
   ]
  },
  {
   "cell_type": "code",
   "execution_count": 197,
   "metadata": {},
   "outputs": [
    {
     "name": "stderr",
     "output_type": "stream",
     "text": [
      "C:\\Users\\choco\\AppData\\Local\\Temp\\ipykernel_37812\\3513438388.py:1: UserWarning: \n",
      "\n",
      "`distplot` is a deprecated function and will be removed in seaborn v0.14.0.\n",
      "\n",
      "Please adapt your code to use either `displot` (a figure-level function with\n",
      "similar flexibility) or `histplot` (an axes-level function for histograms).\n",
      "\n",
      "For a guide to updating your code to use the new functions, please see\n",
      "https://gist.github.com/mwaskom/de44147ed2974457ad6372750bbe5751\n",
      "\n",
      "  sns.distplot(d4['price'])\n"
     ]
    },
    {
     "data": {
      "text/plain": [
       "<Axes: xlabel='price', ylabel='Density'>"
      ]
     },
     "execution_count": 197,
     "metadata": {},
     "output_type": "execute_result"
    },
    {
     "data": {
      "image/png": "[encoded data removed]",
      "text/plain": [
       "<Figure size 640x480 with 1 Axes>"
      ]
     },
     "metadata": {},
     "output_type": "display_data"
    }
   ],
   "source": [
    "sns.distplot(d4['price'])"
   ]
  },
  {
   "cell_type": "code",
   "execution_count": 32,
   "metadata": {},
   "outputs": [],
   "source": [
    "d5=d4.copy()\n",
    "d5=d5[d5['price']<500]"
   ]
  },
  {
   "cell_type": "code",
   "execution_count": 33,
   "metadata": {},
   "outputs": [
    {
     "data": {
      "text/plain": [
       "<seaborn.axisgrid.FacetGrid at 0x220fe061290>"
      ]
     },
     "execution_count": 33,
     "metadata": {},
     "output_type": "execute_result"
    },
    {
     "data": {
      "image/png": "[encoded data removed]",
      "text/plain": [
       "<Figure size 500x500 with 1 Axes>"
      ]
     },
     "metadata": {},
     "output_type": "display_data"
    }
   ],
   "source": [
    "sns.displot(d5['price'])"
   ]
  },
  {
   "cell_type": "code",
   "execution_count": 35,
   "metadata": {},
   "outputs": [
    {
     "name": "stderr",
     "output_type": "stream",
     "text": [
      "C:\\Users\\choco\\AppData\\Local\\Temp\\ipykernel_2872\\1196113909.py:1: UserWarning: \n",
      "\n",
      "`distplot` is a deprecated function and will be removed in seaborn v0.14.0.\n",
      "\n",
      "Please adapt your code to use either `displot` (a figure-level function with\n",
      "similar flexibility) or `histplot` (an axes-level function for histograms).\n",
      "\n",
      "For a guide to updating your code to use the new functions, please see\n",
      "https://gist.github.com/mwaskom/de44147ed2974457ad6372750bbe5751\n",
      "\n",
      "  sns.distplot(d5['total_sqft'])\n"
     ]
    },
    {
     "data": {
      "text/plain": [
       "<Axes: xlabel='total_sqft', ylabel='Density'>"
      ]
     },
     "execution_count": 35,
     "metadata": {},
     "output_type": "execute_result"
    },
    {
     "data": {
      "image/png": "[encoded data removed]",
      "text/plain": [
       "<Figure size 640x480 with 1 Axes>"
      ]
     },
     "metadata": {},
     "output_type": "display_data"
    }
   ],
   "source": [
    "sns.distplot(d5['total_sqft'])"
   ]
  },
  {
   "cell_type": "code",
   "execution_count": 36,
   "metadata": {},
   "outputs": [],
   "source": [
    "d5=d5[d5['total_sqft']<5100]"
   ]
  },
  {
   "cell_type": "code",
   "execution_count": 37,
   "metadata": {},
   "outputs": [
    {
     "data": {
      "text/plain": [
       "<seaborn.axisgrid.FacetGrid at 0x220ffa4a990>"
      ]
     },
     "execution_count": 37,
     "metadata": {},
     "output_type": "execute_result"
    },
    {
     "data": {
      "image/png": "[encoded data removed]",
      "text/plain": [
       "<Figure size 500x500 with 1 Axes>"
      ]
     },
     "metadata": {},
     "output_type": "display_data"
    }
   ],
   "source": [
    "sns.displot(d5['total_sqft'])"
   ]
  },
  {
   "cell_type": "code",
   "execution_count": 39,
   "metadata": {},
   "outputs": [
    {
     "data": {
      "text/plain": [
       "(array([3.610e+02, 3.425e+03, 3.105e+03, 4.650e+02, 1.800e+01, 4.000e+00,\n",
       "        1.000e+00, 0.000e+00, 1.000e+00, 1.000e+00]),\n",
       " array([ 1.,  2.,  3.,  4.,  5.,  6.,  7.,  8.,  9., 10., 11.]),\n",
       " <BarContainer object of 10 artists>)"
      ]
     },
     "execution_count": 39,
     "metadata": {},
     "output_type": "execute_result"
    },
    {
     "data": {
      "image/png": "[encoded data removed]",
      "text/plain": [
       "<Figure size 640x480 with 1 Axes>"
      ]
     },
     "metadata": {},
     "output_type": "display_data"
    }
   ],
   "source": [
    "plt.hist(d5['bhk'])"
   ]
  },
  {
   "cell_type": "code",
   "execution_count": 40,
   "metadata": {},
   "outputs": [
    {
     "data": {
      "text/plain": [
       "(7381, 6)"
      ]
     },
     "execution_count": 40,
     "metadata": {},
     "output_type": "execute_result"
    }
   ],
   "source": [
    "d5.shape"
   ]
  },
  {
   "cell_type": "code",
   "execution_count": 41,
   "metadata": {},
   "outputs": [
    {
     "data": {
      "text/plain": [
       "(7300, 6)"
      ]
     },
     "execution_count": 41,
     "metadata": {},
     "output_type": "execute_result"
    }
   ],
   "source": [
    "df5 = d5[d5.bath<d5.bhk+2]\n",
    "df5.shape"
   ]
  },
  {
   "cell_type": "code",
   "execution_count": 42,
   "metadata": {},
   "outputs": [
    {
     "data": {
      "text/plain": [
       "(5805, 6)"
      ]
     },
     "execution_count": 42,
     "metadata": {},
     "output_type": "execute_result"
    }
   ],
   "source": [
    "def remove_pps_outliers(df):\n",
    "    df_out = pd.DataFrame()\n",
    "    for key, subdf in df.groupby('location'):\n",
    "        m = np.mean(subdf.price_sqft)\n",
    "        st = np.std(subdf.price_sqft)\n",
    "        reduced_df = subdf[(subdf.price_sqft>(m-st)) & (subdf.price_sqft<=(m+st))]\n",
    "        df_out = pd.concat([df_out,reduced_df],ignore_index=True)\n",
    "    return df_out\n",
    "df10 = remove_pps_outliers(df5)\n",
    "df10.shape"
   ]
  },
  {
   "cell_type": "code",
   "execution_count": 206,
   "metadata": {},
   "outputs": [
    {
     "data": {
      "text/plain": [
       "<bound method NDFrame.astype of 0        2\n",
       "1        4\n",
       "3        3\n",
       "5        2\n",
       "11       4\n",
       "        ..\n",
       "13313    3\n",
       "13314    3\n",
       "13315    5\n",
       "13317    2\n",
       "13318    4\n",
       "Name: bhk, Length: 7476, dtype: int64>"
      ]
     },
     "execution_count": 206,
     "metadata": {},
     "output_type": "execute_result"
    }
   ],
   "source": [
    "d5['bhk'].astype"
   ]
  },
  {
   "cell_type": "code",
   "execution_count": 43,
   "metadata": {},
   "outputs": [],
   "source": [
    "d6=df10.copy()\n",
    "dummies=pd.get_dummies(d6['location'])\n",
    "d6=pd.concat([d6,dummies],axis='columns')"
   ]
  },
  {
   "cell_type": "code",
   "execution_count": 44,
   "metadata": {},
   "outputs": [],
   "source": [
    "d6=d6.drop(['location'],axis=1)"
   ]
  },
  {
   "cell_type": "code",
   "execution_count": 45,
   "metadata": {},
   "outputs": [
    {
     "data": {
      "text/plain": [
       "5568.54247055154"
      ]
     },
     "execution_count": 45,
     "metadata": {},
     "output_type": "execute_result"
    }
   ],
   "source": [
    "d6['price_sqft'].mean()"
   ]
  },
  {
   "cell_type": "code",
   "execution_count": 210,
   "metadata": {},
   "outputs": [
    {
     "data": {
      "text/html": [
       "<div>\n",
       "<style scoped>\n",
       "    .dataframe tbody tr th:only-of-type {\n",
       "        vertical-align: middle;\n",
       "    }\n",
       "\n",
       "    .dataframe tbody tr th {\n",
       "        vertical-align: top;\n",
       "    }\n",
       "\n",
       "    .dataframe thead th {\n",
       "        text-align: right;\n",
       "    }\n",
       "</style>\n",
       "<table border=\"1\" class=\"dataframe\">\n",
       "  <thead>\n",
       "    <tr style=\"text-align: right;\">\n",
       "      <th></th>\n",
       "      <th>total_sqft</th>\n",
       "      <th>bath</th>\n",
       "      <th>price</th>\n",
       "      <th>bhk</th>\n",
       "      <th>price_sqft</th>\n",
       "      <th>1st Phase JP Nagar</th>\n",
       "      <th>5th Phase JP Nagar</th>\n",
       "      <th>7th Phase JP Nagar</th>\n",
       "      <th>8th Phase JP Nagar</th>\n",
       "      <th>9th Phase JP Nagar</th>\n",
       "      <th>...</th>\n",
       "      <th>Uttarahalli</th>\n",
       "      <th>Varthur</th>\n",
       "      <th>Vidyaranyapura</th>\n",
       "      <th>Vijayanagar</th>\n",
       "      <th>Vittasandra</th>\n",
       "      <th>Whitefield</th>\n",
       "      <th>Yelahanka</th>\n",
       "      <th>Yelahanka New Town</th>\n",
       "      <th>Yeshwanthpur</th>\n",
       "      <th>others</th>\n",
       "    </tr>\n",
       "  </thead>\n",
       "  <tbody>\n",
       "    <tr>\n",
       "      <th>0</th>\n",
       "      <td>2825.0</td>\n",
       "      <td>4</td>\n",
       "      <td>250.00</td>\n",
       "      <td>4</td>\n",
       "      <td>8849.557522</td>\n",
       "      <td>True</td>\n",
       "      <td>False</td>\n",
       "      <td>False</td>\n",
       "      <td>False</td>\n",
       "      <td>False</td>\n",
       "      <td>...</td>\n",
       "      <td>False</td>\n",
       "      <td>False</td>\n",
       "      <td>False</td>\n",
       "      <td>False</td>\n",
       "      <td>False</td>\n",
       "      <td>False</td>\n",
       "      <td>False</td>\n",
       "      <td>False</td>\n",
       "      <td>False</td>\n",
       "      <td>False</td>\n",
       "    </tr>\n",
       "    <tr>\n",
       "      <th>1</th>\n",
       "      <td>1875.0</td>\n",
       "      <td>3</td>\n",
       "      <td>167.00</td>\n",
       "      <td>3</td>\n",
       "      <td>8906.666667</td>\n",
       "      <td>True</td>\n",
       "      <td>False</td>\n",
       "      <td>False</td>\n",
       "      <td>False</td>\n",
       "      <td>False</td>\n",
       "      <td>...</td>\n",
       "      <td>False</td>\n",
       "      <td>False</td>\n",
       "      <td>False</td>\n",
       "      <td>False</td>\n",
       "      <td>False</td>\n",
       "      <td>False</td>\n",
       "      <td>False</td>\n",
       "      <td>False</td>\n",
       "      <td>False</td>\n",
       "      <td>False</td>\n",
       "    </tr>\n",
       "    <tr>\n",
       "      <th>2</th>\n",
       "      <td>1394.0</td>\n",
       "      <td>2</td>\n",
       "      <td>100.00</td>\n",
       "      <td>2</td>\n",
       "      <td>7173.601148</td>\n",
       "      <td>True</td>\n",
       "      <td>False</td>\n",
       "      <td>False</td>\n",
       "      <td>False</td>\n",
       "      <td>False</td>\n",
       "      <td>...</td>\n",
       "      <td>False</td>\n",
       "      <td>False</td>\n",
       "      <td>False</td>\n",
       "      <td>False</td>\n",
       "      <td>False</td>\n",
       "      <td>False</td>\n",
       "      <td>False</td>\n",
       "      <td>False</td>\n",
       "      <td>False</td>\n",
       "      <td>False</td>\n",
       "    </tr>\n",
       "    <tr>\n",
       "      <th>3</th>\n",
       "      <td>1077.0</td>\n",
       "      <td>2</td>\n",
       "      <td>93.00</td>\n",
       "      <td>2</td>\n",
       "      <td>8635.097493</td>\n",
       "      <td>True</td>\n",
       "      <td>False</td>\n",
       "      <td>False</td>\n",
       "      <td>False</td>\n",
       "      <td>False</td>\n",
       "      <td>...</td>\n",
       "      <td>False</td>\n",
       "      <td>False</td>\n",
       "      <td>False</td>\n",
       "      <td>False</td>\n",
       "      <td>False</td>\n",
       "      <td>False</td>\n",
       "      <td>False</td>\n",
       "      <td>False</td>\n",
       "      <td>False</td>\n",
       "      <td>False</td>\n",
       "    </tr>\n",
       "    <tr>\n",
       "      <th>4</th>\n",
       "      <td>1590.0</td>\n",
       "      <td>3</td>\n",
       "      <td>131.00</td>\n",
       "      <td>3</td>\n",
       "      <td>8238.993711</td>\n",
       "      <td>True</td>\n",
       "      <td>False</td>\n",
       "      <td>False</td>\n",
       "      <td>False</td>\n",
       "      <td>False</td>\n",
       "      <td>...</td>\n",
       "      <td>False</td>\n",
       "      <td>False</td>\n",
       "      <td>False</td>\n",
       "      <td>False</td>\n",
       "      <td>False</td>\n",
       "      <td>False</td>\n",
       "      <td>False</td>\n",
       "      <td>False</td>\n",
       "      <td>False</td>\n",
       "      <td>False</td>\n",
       "    </tr>\n",
       "    <tr>\n",
       "      <th>...</th>\n",
       "      <td>...</td>\n",
       "      <td>...</td>\n",
       "      <td>...</td>\n",
       "      <td>...</td>\n",
       "      <td>...</td>\n",
       "      <td>...</td>\n",
       "      <td>...</td>\n",
       "      <td>...</td>\n",
       "      <td>...</td>\n",
       "      <td>...</td>\n",
       "      <td>...</td>\n",
       "      <td>...</td>\n",
       "      <td>...</td>\n",
       "      <td>...</td>\n",
       "      <td>...</td>\n",
       "      <td>...</td>\n",
       "      <td>...</td>\n",
       "      <td>...</td>\n",
       "      <td>...</td>\n",
       "      <td>...</td>\n",
       "      <td>...</td>\n",
       "    </tr>\n",
       "    <tr>\n",
       "      <th>5983</th>\n",
       "      <td>1000.0</td>\n",
       "      <td>2</td>\n",
       "      <td>49.50</td>\n",
       "      <td>2</td>\n",
       "      <td>4950.000000</td>\n",
       "      <td>False</td>\n",
       "      <td>False</td>\n",
       "      <td>False</td>\n",
       "      <td>False</td>\n",
       "      <td>False</td>\n",
       "      <td>...</td>\n",
       "      <td>False</td>\n",
       "      <td>False</td>\n",
       "      <td>False</td>\n",
       "      <td>False</td>\n",
       "      <td>False</td>\n",
       "      <td>False</td>\n",
       "      <td>False</td>\n",
       "      <td>False</td>\n",
       "      <td>False</td>\n",
       "      <td>True</td>\n",
       "    </tr>\n",
       "    <tr>\n",
       "      <th>5984</th>\n",
       "      <td>1256.0</td>\n",
       "      <td>2</td>\n",
       "      <td>65.00</td>\n",
       "      <td>2</td>\n",
       "      <td>5175.159236</td>\n",
       "      <td>False</td>\n",
       "      <td>False</td>\n",
       "      <td>False</td>\n",
       "      <td>False</td>\n",
       "      <td>False</td>\n",
       "      <td>...</td>\n",
       "      <td>False</td>\n",
       "      <td>False</td>\n",
       "      <td>False</td>\n",
       "      <td>False</td>\n",
       "      <td>False</td>\n",
       "      <td>False</td>\n",
       "      <td>False</td>\n",
       "      <td>False</td>\n",
       "      <td>False</td>\n",
       "      <td>True</td>\n",
       "    </tr>\n",
       "    <tr>\n",
       "      <th>5985</th>\n",
       "      <td>1353.0</td>\n",
       "      <td>2</td>\n",
       "      <td>110.00</td>\n",
       "      <td>2</td>\n",
       "      <td>8130.081301</td>\n",
       "      <td>False</td>\n",
       "      <td>False</td>\n",
       "      <td>False</td>\n",
       "      <td>False</td>\n",
       "      <td>False</td>\n",
       "      <td>...</td>\n",
       "      <td>False</td>\n",
       "      <td>False</td>\n",
       "      <td>False</td>\n",
       "      <td>False</td>\n",
       "      <td>False</td>\n",
       "      <td>False</td>\n",
       "      <td>False</td>\n",
       "      <td>False</td>\n",
       "      <td>False</td>\n",
       "      <td>True</td>\n",
       "    </tr>\n",
       "    <tr>\n",
       "      <th>5986</th>\n",
       "      <td>1440.0</td>\n",
       "      <td>2</td>\n",
       "      <td>63.93</td>\n",
       "      <td>3</td>\n",
       "      <td>4439.583333</td>\n",
       "      <td>False</td>\n",
       "      <td>False</td>\n",
       "      <td>False</td>\n",
       "      <td>False</td>\n",
       "      <td>False</td>\n",
       "      <td>...</td>\n",
       "      <td>False</td>\n",
       "      <td>False</td>\n",
       "      <td>False</td>\n",
       "      <td>False</td>\n",
       "      <td>False</td>\n",
       "      <td>False</td>\n",
       "      <td>False</td>\n",
       "      <td>False</td>\n",
       "      <td>False</td>\n",
       "      <td>True</td>\n",
       "    </tr>\n",
       "    <tr>\n",
       "      <th>5987</th>\n",
       "      <td>2200.0</td>\n",
       "      <td>3</td>\n",
       "      <td>80.00</td>\n",
       "      <td>4</td>\n",
       "      <td>3636.363636</td>\n",
       "      <td>False</td>\n",
       "      <td>False</td>\n",
       "      <td>False</td>\n",
       "      <td>False</td>\n",
       "      <td>False</td>\n",
       "      <td>...</td>\n",
       "      <td>False</td>\n",
       "      <td>False</td>\n",
       "      <td>False</td>\n",
       "      <td>False</td>\n",
       "      <td>False</td>\n",
       "      <td>False</td>\n",
       "      <td>False</td>\n",
       "      <td>False</td>\n",
       "      <td>False</td>\n",
       "      <td>True</td>\n",
       "    </tr>\n",
       "  </tbody>\n",
       "</table>\n",
       "<p>5988 rows × 160 columns</p>\n",
       "</div>"
      ],
      "text/plain": [
       "      total_sqft  bath   price  bhk   price_sqft  1st Phase JP Nagar  \\\n",
       "0         2825.0     4  250.00    4  8849.557522                True   \n",
       "1         1875.0     3  167.00    3  8906.666667                True   \n",
       "2         1394.0     2  100.00    2  7173.601148                True   \n",
       "3         1077.0     2   93.00    2  8635.097493                True   \n",
       "4         1590.0     3  131.00    3  8238.993711                True   \n",
       "...          ...   ...     ...  ...          ...                 ...   \n",
       "5983      1000.0     2   49.50    2  4950.000000               False   \n",
       "5984      1256.0     2   65.00    2  5175.159236               False   \n",
       "5985      1353.0     2  110.00    2  8130.081301               False   \n",
       "5986      1440.0     2   63.93    3  4439.583333               False   \n",
       "5987      2200.0     3   80.00    4  3636.363636               False   \n",
       "\n",
       "      5th Phase JP Nagar  7th Phase JP Nagar  8th Phase JP Nagar  \\\n",
       "0                  False               False               False   \n",
       "1                  False               False               False   \n",
       "2                  False               False               False   \n",
       "3                  False               False               False   \n",
       "4                  False               False               False   \n",
       "...                  ...                 ...                 ...   \n",
       "5983               False               False               False   \n",
       "5984               False               False               False   \n",
       "5985               False               False               False   \n",
       "5986               False               False               False   \n",
       "5987               False               False               False   \n",
       "\n",
       "      9th Phase JP Nagar  ...  Uttarahalli  Varthur  Vidyaranyapura  \\\n",
       "0                  False  ...        False    False           False   \n",
       "1                  False  ...        False    False           False   \n",
       "2                  False  ...        False    False           False   \n",
       "3                  False  ...        False    False           False   \n",
       "4                  False  ...        False    False           False   \n",
       "...                  ...  ...          ...      ...             ...   \n",
       "5983               False  ...        False    False           False   \n",
       "5984               False  ...        False    False           False   \n",
       "5985               False  ...        False    False           False   \n",
       "5986               False  ...        False    False           False   \n",
       "5987               False  ...        False    False           False   \n",
       "\n",
       "      Vijayanagar  Vittasandra  Whitefield  Yelahanka  Yelahanka New Town  \\\n",
       "0           False        False       False      False               False   \n",
       "1           False        False       False      False               False   \n",
       "2           False        False       False      False               False   \n",
       "3           False        False       False      False               False   \n",
       "4           False        False       False      False               False   \n",
       "...           ...          ...         ...        ...                 ...   \n",
       "5983        False        False       False      False               False   \n",
       "5984        False        False       False      False               False   \n",
       "5985        False        False       False      False               False   \n",
       "5986        False        False       False      False               False   \n",
       "5987        False        False       False      False               False   \n",
       "\n",
       "      Yeshwanthpur  others  \n",
       "0            False   False  \n",
       "1            False   False  \n",
       "2            False   False  \n",
       "3            False   False  \n",
       "4            False   False  \n",
       "...            ...     ...  \n",
       "5983         False    True  \n",
       "5984         False    True  \n",
       "5985         False    True  \n",
       "5986         False    True  \n",
       "5987         False    True  \n",
       "\n",
       "[5988 rows x 160 columns]"
      ]
     },
     "execution_count": 210,
     "metadata": {},
     "output_type": "execute_result"
    }
   ],
   "source": [
    "d6"
   ]
  },
  {
   "cell_type": "code",
   "execution_count": 46,
   "metadata": {},
   "outputs": [],
   "source": [
    "d7=d6.copy()\n",
    "d7=d7.drop(['others'],axis=1)\n",
    "d7=d7.drop(['price_sqft'],axis=1)"
   ]
  },
  {
   "cell_type": "code",
   "execution_count": 47,
   "metadata": {},
   "outputs": [
    {
     "data": {
      "text/html": [
       "<div>\n",
       "<style scoped>\n",
       "    .dataframe tbody tr th:only-of-type {\n",
       "        vertical-align: middle;\n",
       "    }\n",
       "\n",
       "    .dataframe tbody tr th {\n",
       "        vertical-align: top;\n",
       "    }\n",
       "\n",
       "    .dataframe thead th {\n",
       "        text-align: right;\n",
       "    }\n",
       "</style>\n",
       "<table border=\"1\" class=\"dataframe\">\n",
       "  <thead>\n",
       "    <tr style=\"text-align: right;\">\n",
       "      <th></th>\n",
       "      <th>total_sqft</th>\n",
       "      <th>bath</th>\n",
       "      <th>price</th>\n",
       "      <th>bhk</th>\n",
       "      <th>1st Phase JP Nagar</th>\n",
       "      <th>5th Phase JP Nagar</th>\n",
       "      <th>7th Phase JP Nagar</th>\n",
       "      <th>8th Phase JP Nagar</th>\n",
       "      <th>9th Phase JP Nagar</th>\n",
       "      <th>AECS Layout</th>\n",
       "      <th>...</th>\n",
       "      <th>Tumkur Road</th>\n",
       "      <th>Uttarahalli</th>\n",
       "      <th>Varthur</th>\n",
       "      <th>Vidyaranyapura</th>\n",
       "      <th>Vijayanagar</th>\n",
       "      <th>Vittasandra</th>\n",
       "      <th>Whitefield</th>\n",
       "      <th>Yelahanka</th>\n",
       "      <th>Yelahanka New Town</th>\n",
       "      <th>Yeshwanthpur</th>\n",
       "    </tr>\n",
       "  </thead>\n",
       "  <tbody>\n",
       "    <tr>\n",
       "      <th>0</th>\n",
       "      <td>2825.0</td>\n",
       "      <td>4</td>\n",
       "      <td>250.00</td>\n",
       "      <td>4</td>\n",
       "      <td>True</td>\n",
       "      <td>False</td>\n",
       "      <td>False</td>\n",
       "      <td>False</td>\n",
       "      <td>False</td>\n",
       "      <td>False</td>\n",
       "      <td>...</td>\n",
       "      <td>False</td>\n",
       "      <td>False</td>\n",
       "      <td>False</td>\n",
       "      <td>False</td>\n",
       "      <td>False</td>\n",
       "      <td>False</td>\n",
       "      <td>False</td>\n",
       "      <td>False</td>\n",
       "      <td>False</td>\n",
       "      <td>False</td>\n",
       "    </tr>\n",
       "    <tr>\n",
       "      <th>1</th>\n",
       "      <td>1875.0</td>\n",
       "      <td>3</td>\n",
       "      <td>167.00</td>\n",
       "      <td>3</td>\n",
       "      <td>True</td>\n",
       "      <td>False</td>\n",
       "      <td>False</td>\n",
       "      <td>False</td>\n",
       "      <td>False</td>\n",
       "      <td>False</td>\n",
       "      <td>...</td>\n",
       "      <td>False</td>\n",
       "      <td>False</td>\n",
       "      <td>False</td>\n",
       "      <td>False</td>\n",
       "      <td>False</td>\n",
       "      <td>False</td>\n",
       "      <td>False</td>\n",
       "      <td>False</td>\n",
       "      <td>False</td>\n",
       "      <td>False</td>\n",
       "    </tr>\n",
       "    <tr>\n",
       "      <th>2</th>\n",
       "      <td>1394.0</td>\n",
       "      <td>2</td>\n",
       "      <td>100.00</td>\n",
       "      <td>2</td>\n",
       "      <td>True</td>\n",
       "      <td>False</td>\n",
       "      <td>False</td>\n",
       "      <td>False</td>\n",
       "      <td>False</td>\n",
       "      <td>False</td>\n",
       "      <td>...</td>\n",
       "      <td>False</td>\n",
       "      <td>False</td>\n",
       "      <td>False</td>\n",
       "      <td>False</td>\n",
       "      <td>False</td>\n",
       "      <td>False</td>\n",
       "      <td>False</td>\n",
       "      <td>False</td>\n",
       "      <td>False</td>\n",
       "      <td>False</td>\n",
       "    </tr>\n",
       "    <tr>\n",
       "      <th>3</th>\n",
       "      <td>1077.0</td>\n",
       "      <td>2</td>\n",
       "      <td>93.00</td>\n",
       "      <td>2</td>\n",
       "      <td>True</td>\n",
       "      <td>False</td>\n",
       "      <td>False</td>\n",
       "      <td>False</td>\n",
       "      <td>False</td>\n",
       "      <td>False</td>\n",
       "      <td>...</td>\n",
       "      <td>False</td>\n",
       "      <td>False</td>\n",
       "      <td>False</td>\n",
       "      <td>False</td>\n",
       "      <td>False</td>\n",
       "      <td>False</td>\n",
       "      <td>False</td>\n",
       "      <td>False</td>\n",
       "      <td>False</td>\n",
       "      <td>False</td>\n",
       "    </tr>\n",
       "    <tr>\n",
       "      <th>4</th>\n",
       "      <td>1590.0</td>\n",
       "      <td>3</td>\n",
       "      <td>131.00</td>\n",
       "      <td>3</td>\n",
       "      <td>True</td>\n",
       "      <td>False</td>\n",
       "      <td>False</td>\n",
       "      <td>False</td>\n",
       "      <td>False</td>\n",
       "      <td>False</td>\n",
       "      <td>...</td>\n",
       "      <td>False</td>\n",
       "      <td>False</td>\n",
       "      <td>False</td>\n",
       "      <td>False</td>\n",
       "      <td>False</td>\n",
       "      <td>False</td>\n",
       "      <td>False</td>\n",
       "      <td>False</td>\n",
       "      <td>False</td>\n",
       "      <td>False</td>\n",
       "    </tr>\n",
       "    <tr>\n",
       "      <th>...</th>\n",
       "      <td>...</td>\n",
       "      <td>...</td>\n",
       "      <td>...</td>\n",
       "      <td>...</td>\n",
       "      <td>...</td>\n",
       "      <td>...</td>\n",
       "      <td>...</td>\n",
       "      <td>...</td>\n",
       "      <td>...</td>\n",
       "      <td>...</td>\n",
       "      <td>...</td>\n",
       "      <td>...</td>\n",
       "      <td>...</td>\n",
       "      <td>...</td>\n",
       "      <td>...</td>\n",
       "      <td>...</td>\n",
       "      <td>...</td>\n",
       "      <td>...</td>\n",
       "      <td>...</td>\n",
       "      <td>...</td>\n",
       "      <td>...</td>\n",
       "    </tr>\n",
       "    <tr>\n",
       "      <th>5800</th>\n",
       "      <td>1000.0</td>\n",
       "      <td>2</td>\n",
       "      <td>49.50</td>\n",
       "      <td>2</td>\n",
       "      <td>False</td>\n",
       "      <td>False</td>\n",
       "      <td>False</td>\n",
       "      <td>False</td>\n",
       "      <td>False</td>\n",
       "      <td>False</td>\n",
       "      <td>...</td>\n",
       "      <td>False</td>\n",
       "      <td>False</td>\n",
       "      <td>False</td>\n",
       "      <td>False</td>\n",
       "      <td>False</td>\n",
       "      <td>False</td>\n",
       "      <td>False</td>\n",
       "      <td>False</td>\n",
       "      <td>False</td>\n",
       "      <td>False</td>\n",
       "    </tr>\n",
       "    <tr>\n",
       "      <th>5801</th>\n",
       "      <td>1256.0</td>\n",
       "      <td>2</td>\n",
       "      <td>65.00</td>\n",
       "      <td>2</td>\n",
       "      <td>False</td>\n",
       "      <td>False</td>\n",
       "      <td>False</td>\n",
       "      <td>False</td>\n",
       "      <td>False</td>\n",
       "      <td>False</td>\n",
       "      <td>...</td>\n",
       "      <td>False</td>\n",
       "      <td>False</td>\n",
       "      <td>False</td>\n",
       "      <td>False</td>\n",
       "      <td>False</td>\n",
       "      <td>False</td>\n",
       "      <td>False</td>\n",
       "      <td>False</td>\n",
       "      <td>False</td>\n",
       "      <td>False</td>\n",
       "    </tr>\n",
       "    <tr>\n",
       "      <th>5802</th>\n",
       "      <td>1353.0</td>\n",
       "      <td>2</td>\n",
       "      <td>110.00</td>\n",
       "      <td>2</td>\n",
       "      <td>False</td>\n",
       "      <td>False</td>\n",
       "      <td>False</td>\n",
       "      <td>False</td>\n",
       "      <td>False</td>\n",
       "      <td>False</td>\n",
       "      <td>...</td>\n",
       "      <td>False</td>\n",
       "      <td>False</td>\n",
       "      <td>False</td>\n",
       "      <td>False</td>\n",
       "      <td>False</td>\n",
       "      <td>False</td>\n",
       "      <td>False</td>\n",
       "      <td>False</td>\n",
       "      <td>False</td>\n",
       "      <td>False</td>\n",
       "    </tr>\n",
       "    <tr>\n",
       "      <th>5803</th>\n",
       "      <td>1440.0</td>\n",
       "      <td>2</td>\n",
       "      <td>63.93</td>\n",
       "      <td>3</td>\n",
       "      <td>False</td>\n",
       "      <td>False</td>\n",
       "      <td>False</td>\n",
       "      <td>False</td>\n",
       "      <td>False</td>\n",
       "      <td>False</td>\n",
       "      <td>...</td>\n",
       "      <td>False</td>\n",
       "      <td>False</td>\n",
       "      <td>False</td>\n",
       "      <td>False</td>\n",
       "      <td>False</td>\n",
       "      <td>False</td>\n",
       "      <td>False</td>\n",
       "      <td>False</td>\n",
       "      <td>False</td>\n",
       "      <td>False</td>\n",
       "    </tr>\n",
       "    <tr>\n",
       "      <th>5804</th>\n",
       "      <td>2200.0</td>\n",
       "      <td>3</td>\n",
       "      <td>80.00</td>\n",
       "      <td>4</td>\n",
       "      <td>False</td>\n",
       "      <td>False</td>\n",
       "      <td>False</td>\n",
       "      <td>False</td>\n",
       "      <td>False</td>\n",
       "      <td>False</td>\n",
       "      <td>...</td>\n",
       "      <td>False</td>\n",
       "      <td>False</td>\n",
       "      <td>False</td>\n",
       "      <td>False</td>\n",
       "      <td>False</td>\n",
       "      <td>False</td>\n",
       "      <td>False</td>\n",
       "      <td>False</td>\n",
       "      <td>False</td>\n",
       "      <td>False</td>\n",
       "    </tr>\n",
       "  </tbody>\n",
       "</table>\n",
       "<p>5805 rows × 158 columns</p>\n",
       "</div>"
      ],
      "text/plain": [
       "      total_sqft  bath   price  bhk  1st Phase JP Nagar  5th Phase JP Nagar  \\\n",
       "0         2825.0     4  250.00    4                True               False   \n",
       "1         1875.0     3  167.00    3                True               False   \n",
       "2         1394.0     2  100.00    2                True               False   \n",
       "3         1077.0     2   93.00    2                True               False   \n",
       "4         1590.0     3  131.00    3                True               False   \n",
       "...          ...   ...     ...  ...                 ...                 ...   \n",
       "5800      1000.0     2   49.50    2               False               False   \n",
       "5801      1256.0     2   65.00    2               False               False   \n",
       "5802      1353.0     2  110.00    2               False               False   \n",
       "5803      1440.0     2   63.93    3               False               False   \n",
       "5804      2200.0     3   80.00    4               False               False   \n",
       "\n",
       "      7th Phase JP Nagar  8th Phase JP Nagar  9th Phase JP Nagar  AECS Layout  \\\n",
       "0                  False               False               False        False   \n",
       "1                  False               False               False        False   \n",
       "2                  False               False               False        False   \n",
       "3                  False               False               False        False   \n",
       "4                  False               False               False        False   \n",
       "...                  ...                 ...                 ...          ...   \n",
       "5800               False               False               False        False   \n",
       "5801               False               False               False        False   \n",
       "5802               False               False               False        False   \n",
       "5803               False               False               False        False   \n",
       "5804               False               False               False        False   \n",
       "\n",
       "      ...  Tumkur Road  Uttarahalli  Varthur  Vidyaranyapura  Vijayanagar  \\\n",
       "0     ...        False        False    False           False        False   \n",
       "1     ...        False        False    False           False        False   \n",
       "2     ...        False        False    False           False        False   \n",
       "3     ...        False        False    False           False        False   \n",
       "4     ...        False        False    False           False        False   \n",
       "...   ...          ...          ...      ...             ...          ...   \n",
       "5800  ...        False        False    False           False        False   \n",
       "5801  ...        False        False    False           False        False   \n",
       "5802  ...        False        False    False           False        False   \n",
       "5803  ...        False        False    False           False        False   \n",
       "5804  ...        False        False    False           False        False   \n",
       "\n",
       "      Vittasandra  Whitefield  Yelahanka  Yelahanka New Town  Yeshwanthpur  \n",
       "0           False       False      False               False         False  \n",
       "1           False       False      False               False         False  \n",
       "2           False       False      False               False         False  \n",
       "3           False       False      False               False         False  \n",
       "4           False       False      False               False         False  \n",
       "...           ...         ...        ...                 ...           ...  \n",
       "5800        False       False      False               False         False  \n",
       "5801        False       False      False               False         False  \n",
       "5802        False       False      False               False         False  \n",
       "5803        False       False      False               False         False  \n",
       "5804        False       False      False               False         False  \n",
       "\n",
       "[5805 rows x 158 columns]"
      ]
     },
     "execution_count": 47,
     "metadata": {},
     "output_type": "execute_result"
    }
   ],
   "source": [
    "d7"
   ]
  },
  {
   "cell_type": "code",
   "execution_count": 52,
   "metadata": {},
   "outputs": [],
   "source": [
    "x=d7.drop(['price','bath'],axis=1)\n",
    "y=d7['price']"
   ]
  },
  {
   "cell_type": "code",
   "execution_count": 53,
   "metadata": {},
   "outputs": [],
   "source": [
    "x_train,x_test,y_train,y_test=train_test_split(x,y,random_state=43,test_size=0.2)"
   ]
  },
  {
   "cell_type": "code",
   "execution_count": 54,
   "metadata": {},
   "outputs": [
    {
     "data": {
      "text/html": [
       "<style>#sk-container-id-2 {\n",
       "  /* Definition of color scheme common for light and dark mode */\n",
       "  --sklearn-color-text: black;\n",
       "  --sklearn-color-line: gray;\n",
       "  /* Definition of color scheme for unfitted estimators */\n",
       "  --sklearn-color-unfitted-level-0: #fff5e6;\n",
       "  --sklearn-color-unfitted-level-1: #f6e4d2;\n",
       "  --sklearn-color-unfitted-level-2: #ffe0b3;\n",
       "  --sklearn-color-unfitted-level-3: chocolate;\n",
       "  /* Definition of color scheme for fitted estimators */\n",
       "  --sklearn-color-fitted-level-0: #f0f8ff;\n",
       "  --sklearn-color-fitted-level-1: #d4ebff;\n",
       "  --sklearn-color-fitted-level-2: #b3dbfd;\n",
       "  --sklearn-color-fitted-level-3: cornflowerblue;\n",
       "\n",
       "  /* Specific color for light theme */\n",
       "  --sklearn-color-text-on-default-background: var(--sg-text-color, var(--theme-code-foreground, var(--jp-content-font-color1, black)));\n",
       "  --sklearn-color-background: var(--sg-background-color, var(--theme-background, var(--jp-layout-color0, white)));\n",
       "  --sklearn-color-border-box: var(--sg-text-color, var(--theme-code-foreground, var(--jp-content-font-color1, black)));\n",
       "  --sklearn-color-icon: #696969;\n",
       "\n",
       "  @media (prefers-color-scheme: dark) {\n",
       "    /* Redefinition of color scheme for dark theme */\n",
       "    --sklearn-color-text-on-default-background: var(--sg-text-color, var(--theme-code-foreground, var(--jp-content-font-color1, white)));\n",
       "    --sklearn-color-background: var(--sg-background-color, var(--theme-background, var(--jp-layout-color0, #111)));\n",
       "    --sklearn-color-border-box: var(--sg-text-color, var(--theme-code-foreground, var(--jp-content-font-color1, white)));\n",
       "    --sklearn-color-icon: #878787;\n",
       "  }\n",
       "}\n",
       "\n",
       "#sk-container-id-2 {\n",
       "  color: var(--sklearn-color-text);\n",
       "}\n",
       "\n",
       "#sk-container-id-2 pre {\n",
       "  padding: 0;\n",
       "}\n",
       "\n",
       "#sk-container-id-2 input.sk-hidden--visually {\n",
       "  border: 0;\n",
       "  clip: rect(1px 1px 1px 1px);\n",
       "  clip: rect(1px, 1px, 1px, 1px);\n",
       "  height: 1px;\n",
       "  margin: -1px;\n",
       "  overflow: hidden;\n",
       "  padding: 0;\n",
       "  position: absolute;\n",
       "  width: 1px;\n",
       "}\n",
       "\n",
       "#sk-container-id-2 div.sk-dashed-wrapped {\n",
       "  border: 1px dashed var(--sklearn-color-line);\n",
       "  margin: 0 0.4em 0.5em 0.4em;\n",
       "  box-sizing: border-box;\n",
       "  padding-bottom: 0.4em;\n",
       "  background-color: var(--sklearn-color-background);\n",
       "}\n",
       "\n",
       "#sk-container-id-2 div.sk-container {\n",
       "  /* jupyter's `normalize.less` sets `[hidden] { display: none; }`\n",
       "     but bootstrap.min.css set `[hidden] { display: none !important; }`\n",
       "     so we also need the `!important` here to be able to override the\n",
       "     default hidden behavior on the sphinx rendered scikit-learn.org.\n",
       "     See: https://github.com/scikit-learn/scikit-learn/issues/21755 */\n",
       "  display: inline-block !important;\n",
       "  position: relative;\n",
       "}\n",
       "\n",
       "#sk-container-id-2 div.sk-text-repr-fallback {\n",
       "  display: none;\n",
       "}\n",
       "\n",
       "div.sk-parallel-item,\n",
       "div.sk-serial,\n",
       "div.sk-item {\n",
       "  /* draw centered vertical line to link estimators */\n",
       "  background-image: linear-gradient(var(--sklearn-color-text-on-default-background), var(--sklearn-color-text-on-default-background));\n",
       "  background-size: 2px 100%;\n",
       "  background-repeat: no-repeat;\n",
       "  background-position: center center;\n",
       "}\n",
       "\n",
       "/* Parallel-specific style estimator block */\n",
       "\n",
       "#sk-container-id-2 div.sk-parallel-item::after {\n",
       "  content: \"\";\n",
       "  width: 100%;\n",
       "  border-bottom: 2px solid var(--sklearn-color-text-on-default-background);\n",
       "  flex-grow: 1;\n",
       "}\n",
       "\n",
       "#sk-container-id-2 div.sk-parallel {\n",
       "  display: flex;\n",
       "  align-items: stretch;\n",
       "  justify-content: center;\n",
       "  background-color: var(--sklearn-color-background);\n",
       "  position: relative;\n",
       "}\n",
       "\n",
       "#sk-container-id-2 div.sk-parallel-item {\n",
       "  display: flex;\n",
       "  flex-direction: column;\n",
       "}\n",
       "\n",
       "#sk-container-id-2 div.sk-parallel-item:first-child::after {\n",
       "  align-self: flex-end;\n",
       "  width: 50%;\n",
       "}\n",
       "\n",
       "#sk-container-id-2 div.sk-parallel-item:last-child::after {\n",
       "  align-self: flex-start;\n",
       "  width: 50%;\n",
       "}\n",
       "\n",
       "#sk-container-id-2 div.sk-parallel-item:only-child::after {\n",
       "  width: 0;\n",
       "}\n",
       "\n",
       "/* Serial-specific style estimator block */\n",
       "\n",
       "#sk-container-id-2 div.sk-serial {\n",
       "  display: flex;\n",
       "  flex-direction: column;\n",
       "  align-items: center;\n",
       "  background-color: var(--sklearn-color-background);\n",
       "  padding-right: 1em;\n",
       "  padding-left: 1em;\n",
       "}\n",
       "\n",
       "\n",
       "/* Toggleable style: style used for estimator/Pipeline/ColumnTransformer box that is\n",
       "clickable and can be expanded/collapsed.\n",
       "- Pipeline and ColumnTransformer use this feature and define the default style\n",
       "- Estimators will overwrite some part of the style using the `sk-estimator` class\n",
       "*/\n",
       "\n",
       "/* Pipeline and ColumnTransformer style (default) */\n",
       "\n",
       "#sk-container-id-2 div.sk-toggleable {\n",
       "  /* Default theme specific background. It is overwritten whether we have a\n",
       "  specific estimator or a Pipeline/ColumnTransformer */\n",
       "  background-color: var(--sklearn-color-background);\n",
       "}\n",
       "\n",
       "/* Toggleable label */\n",
       "#sk-container-id-2 label.sk-toggleable__label {\n",
       "  cursor: pointer;\n",
       "  display: block;\n",
       "  width: 100%;\n",
       "  margin-bottom: 0;\n",
       "  padding: 0.5em;\n",
       "  box-sizing: border-box;\n",
       "  text-align: center;\n",
       "}\n",
       "\n",
       "#sk-container-id-2 label.sk-toggleable__label-arrow:before {\n",
       "  /* Arrow on the left of the label */\n",
       "  content: \"▸\";\n",
       "  float: left;\n",
       "  margin-right: 0.25em;\n",
       "  color: var(--sklearn-color-icon);\n",
       "}\n",
       "\n",
       "#sk-container-id-2 label.sk-toggleable__label-arrow:hover:before {\n",
       "  color: var(--sklearn-color-text);\n",
       "}\n",
       "\n",
       "/* Toggleable content - dropdown */\n",
       "\n",
       "#sk-container-id-2 div.sk-toggleable__content {\n",
       "  max-height: 0;\n",
       "  max-width: 0;\n",
       "  overflow: hidden;\n",
       "  text-align: left;\n",
       "  /* unfitted */\n",
       "  background-color: var(--sklearn-color-unfitted-level-0);\n",
       "}\n",
       "\n",
       "#sk-container-id-2 div.sk-toggleable__content.fitted {\n",
       "  /* fitted */\n",
       "  background-color: var(--sklearn-color-fitted-level-0);\n",
       "}\n",
       "\n",
       "#sk-container-id-2 div.sk-toggleable__content pre {\n",
       "  margin: 0.2em;\n",
       "  border-radius: 0.25em;\n",
       "  color: var(--sklearn-color-text);\n",
       "  /* unfitted */\n",
       "  background-color: var(--sklearn-color-unfitted-level-0);\n",
       "}\n",
       "\n",
       "#sk-container-id-2 div.sk-toggleable__content.fitted pre {\n",
       "  /* unfitted */\n",
       "  background-color: var(--sklearn-color-fitted-level-0);\n",
       "}\n",
       "\n",
       "#sk-container-id-2 input.sk-toggleable__control:checked~div.sk-toggleable__content {\n",
       "  /* Expand drop-down */\n",
       "  max-height: 200px;\n",
       "  max-width: 100%;\n",
       "  overflow: auto;\n",
       "}\n",
       "\n",
       "#sk-container-id-2 input.sk-toggleable__control:checked~label.sk-toggleable__label-arrow:before {\n",
       "  content: \"▾\";\n",
       "}\n",
       "\n",
       "/* Pipeline/ColumnTransformer-specific style */\n",
       "\n",
       "#sk-container-id-2 div.sk-label input.sk-toggleable__control:checked~label.sk-toggleable__label {\n",
       "  color: var(--sklearn-color-text);\n",
       "  background-color: var(--sklearn-color-unfitted-level-2);\n",
       "}\n",
       "\n",
       "#sk-container-id-2 div.sk-label.fitted input.sk-toggleable__control:checked~label.sk-toggleable__label {\n",
       "  background-color: var(--sklearn-color-fitted-level-2);\n",
       "}\n",
       "\n",
       "/* Estimator-specific style */\n",
       "\n",
       "/* Colorize estimator box */\n",
       "#sk-container-id-2 div.sk-estimator input.sk-toggleable__control:checked~label.sk-toggleable__label {\n",
       "  /* unfitted */\n",
       "  background-color: var(--sklearn-color-unfitted-level-2);\n",
       "}\n",
       "\n",
       "#sk-container-id-2 div.sk-estimator.fitted input.sk-toggleable__control:checked~label.sk-toggleable__label {\n",
       "  /* fitted */\n",
       "  background-color: var(--sklearn-color-fitted-level-2);\n",
       "}\n",
       "\n",
       "#sk-container-id-2 div.sk-label label.sk-toggleable__label,\n",
       "#sk-container-id-2 div.sk-label label {\n",
       "  /* The background is the default theme color */\n",
       "  color: var(--sklearn-color-text-on-default-background);\n",
       "}\n",
       "\n",
       "/* On hover, darken the color of the background */\n",
       "#sk-container-id-2 div.sk-label:hover label.sk-toggleable__label {\n",
       "  color: var(--sklearn-color-text);\n",
       "  background-color: var(--sklearn-color-unfitted-level-2);\n",
       "}\n",
       "\n",
       "/* Label box, darken color on hover, fitted */\n",
       "#sk-container-id-2 div.sk-label.fitted:hover label.sk-toggleable__label.fitted {\n",
       "  color: var(--sklearn-color-text);\n",
       "  background-color: var(--sklearn-color-fitted-level-2);\n",
       "}\n",
       "\n",
       "/* Estimator label */\n",
       "\n",
       "#sk-container-id-2 div.sk-label label {\n",
       "  font-family: monospace;\n",
       "  font-weight: bold;\n",
       "  display: inline-block;\n",
       "  line-height: 1.2em;\n",
       "}\n",
       "\n",
       "#sk-container-id-2 div.sk-label-container {\n",
       "  text-align: center;\n",
       "}\n",
       "\n",
       "/* Estimator-specific */\n",
       "#sk-container-id-2 div.sk-estimator {\n",
       "  font-family: monospace;\n",
       "  border: 1px dotted var(--sklearn-color-border-box);\n",
       "  border-radius: 0.25em;\n",
       "  box-sizing: border-box;\n",
       "  margin-bottom: 0.5em;\n",
       "  /* unfitted */\n",
       "  background-color: var(--sklearn-color-unfitted-level-0);\n",
       "}\n",
       "\n",
       "#sk-container-id-2 div.sk-estimator.fitted {\n",
       "  /* fitted */\n",
       "  background-color: var(--sklearn-color-fitted-level-0);\n",
       "}\n",
       "\n",
       "/* on hover */\n",
       "#sk-container-id-2 div.sk-estimator:hover {\n",
       "  /* unfitted */\n",
       "  background-color: var(--sklearn-color-unfitted-level-2);\n",
       "}\n",
       "\n",
       "#sk-container-id-2 div.sk-estimator.fitted:hover {\n",
       "  /* fitted */\n",
       "  background-color: var(--sklearn-color-fitted-level-2);\n",
       "}\n",
       "\n",
       "/* Specification for estimator info (e.g. \"i\" and \"?\") */\n",
       "\n",
       "/* Common style for \"i\" and \"?\" */\n",
       "\n",
       ".sk-estimator-doc-link,\n",
       "a:link.sk-estimator-doc-link,\n",
       "a:visited.sk-estimator-doc-link {\n",
       "  float: right;\n",
       "  font-size: smaller;\n",
       "  line-height: 1em;\n",
       "  font-family: monospace;\n",
       "  background-color: var(--sklearn-color-background);\n",
       "  border-radius: 1em;\n",
       "  height: 1em;\n",
       "  width: 1em;\n",
       "  text-decoration: none !important;\n",
       "  margin-left: 1ex;\n",
       "  /* unfitted */\n",
       "  border: var(--sklearn-color-unfitted-level-1) 1pt solid;\n",
       "  color: var(--sklearn-color-unfitted-level-1);\n",
       "}\n",
       "\n",
       ".sk-estimator-doc-link.fitted,\n",
       "a:link.sk-estimator-doc-link.fitted,\n",
       "a:visited.sk-estimator-doc-link.fitted {\n",
       "  /* fitted */\n",
       "  border: var(--sklearn-color-fitted-level-1) 1pt solid;\n",
       "  color: var(--sklearn-color-fitted-level-1);\n",
       "}\n",
       "\n",
       "/* On hover */\n",
       "div.sk-estimator:hover .sk-estimator-doc-link:hover,\n",
       ".sk-estimator-doc-link:hover,\n",
       "div.sk-label-container:hover .sk-estimator-doc-link:hover,\n",
       ".sk-estimator-doc-link:hover {\n",
       "  /* unfitted */\n",
       "  background-color: var(--sklearn-color-unfitted-level-3);\n",
       "  color: var(--sklearn-color-background);\n",
       "  text-decoration: none;\n",
       "}\n",
       "\n",
       "div.sk-estimator.fitted:hover .sk-estimator-doc-link.fitted:hover,\n",
       ".sk-estimator-doc-link.fitted:hover,\n",
       "div.sk-label-container:hover .sk-estimator-doc-link.fitted:hover,\n",
       ".sk-estimator-doc-link.fitted:hover {\n",
       "  /* fitted */\n",
       "  background-color: var(--sklearn-color-fitted-level-3);\n",
       "  color: var(--sklearn-color-background);\n",
       "  text-decoration: none;\n",
       "}\n",
       "\n",
       "/* Span, style for the box shown on hovering the info icon */\n",
       ".sk-estimator-doc-link span {\n",
       "  display: none;\n",
       "  z-index: 9999;\n",
       "  position: relative;\n",
       "  font-weight: normal;\n",
       "  right: .2ex;\n",
       "  padding: .5ex;\n",
       "  margin: .5ex;\n",
       "  width: min-content;\n",
       "  min-width: 20ex;\n",
       "  max-width: 50ex;\n",
       "  color: var(--sklearn-color-text);\n",
       "  box-shadow: 2pt 2pt 4pt #999;\n",
       "  /* unfitted */\n",
       "  background: var(--sklearn-color-unfitted-level-0);\n",
       "  border: .5pt solid var(--sklearn-color-unfitted-level-3);\n",
       "}\n",
       "\n",
       ".sk-estimator-doc-link.fitted span {\n",
       "  /* fitted */\n",
       "  background: var(--sklearn-color-fitted-level-0);\n",
       "  border: var(--sklearn-color-fitted-level-3);\n",
       "}\n",
       "\n",
       ".sk-estimator-doc-link:hover span {\n",
       "  display: block;\n",
       "}\n",
       "\n",
       "/* \"?\"-specific style due to the `<a>` HTML tag */\n",
       "\n",
       "#sk-container-id-2 a.estimator_doc_link {\n",
       "  float: right;\n",
       "  font-size: 1rem;\n",
       "  line-height: 1em;\n",
       "  font-family: monospace;\n",
       "  background-color: var(--sklearn-color-background);\n",
       "  border-radius: 1rem;\n",
       "  height: 1rem;\n",
       "  width: 1rem;\n",
       "  text-decoration: none;\n",
       "  /* unfitted */\n",
       "  color: var(--sklearn-color-unfitted-level-1);\n",
       "  border: var(--sklearn-color-unfitted-level-1) 1pt solid;\n",
       "}\n",
       "\n",
       "#sk-container-id-2 a.estimator_doc_link.fitted {\n",
       "  /* fitted */\n",
       "  border: var(--sklearn-color-fitted-level-1) 1pt solid;\n",
       "  color: var(--sklearn-color-fitted-level-1);\n",
       "}\n",
       "\n",
       "/* On hover */\n",
       "#sk-container-id-2 a.estimator_doc_link:hover {\n",
       "  /* unfitted */\n",
       "  background-color: var(--sklearn-color-unfitted-level-3);\n",
       "  color: var(--sklearn-color-background);\n",
       "  text-decoration: none;\n",
       "}\n",
       "\n",
       "#sk-container-id-2 a.estimator_doc_link.fitted:hover {\n",
       "  /* fitted */\n",
       "  background-color: var(--sklearn-color-fitted-level-3);\n",
       "}\n",
       "</style><div id=\"sk-container-id-2\" class=\"sk-top-container\"><div class=\"sk-text-repr-fallback\"><pre>LinearRegression()</pre><b>In a Jupyter environment, please rerun this cell to show the HTML representation or trust the notebook. <br />On GitHub, the HTML representation is unable to render, please try loading this page with nbviewer.org.</b></div><div class=\"sk-container\" hidden><div class=\"sk-item\"><div class=\"sk-estimator fitted sk-toggleable\"><input class=\"sk-toggleable__control sk-hidden--visually\" id=\"sk-estimator-id-2\" type=\"checkbox\" checked><label for=\"sk-estimator-id-2\" class=\"sk-toggleable__label fitted sk-toggleable__label-arrow fitted\">&nbsp;&nbsp;LinearRegression<a class=\"sk-estimator-doc-link fitted\" rel=\"noreferrer\" target=\"_blank\" href=\"https://scikit-learn.org/1.4/modules/generated/sklearn.linear_model.LinearRegression.html\">?<span>Documentation for LinearRegression</span></a><span class=\"sk-estimator-doc-link fitted\">i<span>Fitted</span></span></label><div class=\"sk-toggleable__content fitted\"><pre>LinearRegression()</pre></div> </div></div></div></div>"
      ],
      "text/plain": [
       "LinearRegression()"
      ]
     },
     "execution_count": 54,
     "metadata": {},
     "output_type": "execute_result"
    }
   ],
   "source": [
    "reg=LinearRegression()\n",
    "reg.fit(x_train,y_train)\n"
   ]
  },
  {
   "cell_type": "code",
   "execution_count": 59,
   "metadata": {},
   "outputs": [],
   "source": [
    "y_pred=reg.predict(x_test)"
   ]
  },
  {
   "cell_type": "code",
   "execution_count": 217,
   "metadata": {},
   "outputs": [
    {
     "data": {
      "text/plain": [
       "1198"
      ]
     },
     "execution_count": 217,
     "metadata": {},
     "output_type": "execute_result"
    }
   ],
   "source": [
    "len(y_pred.reshape(-1,1))"
   ]
  },
  {
   "cell_type": "code",
   "execution_count": 218,
   "metadata": {},
   "outputs": [
    {
     "data": {
      "text/plain": [
       "1198"
      ]
     },
     "execution_count": 218,
     "metadata": {},
     "output_type": "execute_result"
    }
   ],
   "source": [
    "len(y_test)\n"
   ]
  },
  {
   "cell_type": "code",
   "execution_count": 219,
   "metadata": {},
   "outputs": [
    {
     "data": {
      "text/plain": [
       "(4790, 156)"
      ]
     },
     "execution_count": 219,
     "metadata": {},
     "output_type": "execute_result"
    }
   ],
   "source": [
    "x_train.shape"
   ]
  },
  {
   "cell_type": "code",
   "execution_count": 220,
   "metadata": {},
   "outputs": [
    {
     "data": {
      "text/plain": [
       "(1198, 156)"
      ]
     },
     "execution_count": 220,
     "metadata": {},
     "output_type": "execute_result"
    }
   ],
   "source": [
    "x_test.shape"
   ]
  },
  {
   "cell_type": "code",
   "execution_count": 60,
   "metadata": {},
   "outputs": [],
   "source": [
    "y_pred=y_pred.reshape(-1,1)"
   ]
  },
  {
   "cell_type": "code",
   "execution_count": 61,
   "metadata": {},
   "outputs": [],
   "source": [
    "y_test=y_test.values.reshape(-1,1)"
   ]
  },
  {
   "cell_type": "code",
   "execution_count": 62,
   "metadata": {},
   "outputs": [
    {
     "data": {
      "text/plain": [
       "array([[62.78],\n",
       "       [84.  ],\n",
       "       [93.  ],\n",
       "       ...,\n",
       "       [33.  ],\n",
       "       [75.  ],\n",
       "       [31.37]])"
      ]
     },
     "execution_count": 62,
     "metadata": {},
     "output_type": "execute_result"
    }
   ],
   "source": [
    "y_test"
   ]
  },
  {
   "cell_type": "code",
   "execution_count": 63,
   "metadata": {},
   "outputs": [
    {
     "data": {
      "text/plain": [
       "((1161, 1), (1161, 156))"
      ]
     },
     "execution_count": 63,
     "metadata": {},
     "output_type": "execute_result"
    }
   ],
   "source": [
    "y_test.shape,x_test.shape"
   ]
  },
  {
   "cell_type": "code",
   "execution_count": 64,
   "metadata": {},
   "outputs": [
    {
     "data": {
      "text/plain": [
       "0.8127874608204588"
      ]
     },
     "execution_count": 64,
     "metadata": {},
     "output_type": "execute_result"
    }
   ],
   "source": [
    "reg.score(x_test,y_test)"
   ]
  },
  {
   "cell_type": "code",
   "execution_count": 65,
   "metadata": {},
   "outputs": [
    {
     "data": {
      "text/plain": [
       "<matplotlib.collections.PathCollection at 0x220820ab610>"
      ]
     },
     "execution_count": 65,
     "metadata": {},
     "output_type": "execute_result"
    },
    {
     "data": {
      "image/png": "[encoded data removed]",
      "text/plain": [
       "<Figure size 640x480 with 1 Axes>"
      ]
     },
     "metadata": {},
     "output_type": "display_data"
    }
   ],
   "source": [
    "plt.scatter(y_pred,y_test)\n"
   ]
  },
  {
   "cell_type": "code",
   "execution_count": 66,
   "metadata": {},
   "outputs": [],
   "source": [
    "reg_knn=KNeighborsRegressor(n_neighbors=20)\n",
    "reg_knn.fit(x_train,y_train)\n",
    "y_pred_knn=reg_knn.predict(x_test)"
   ]
  },
  {
   "cell_type": "code",
   "execution_count": 67,
   "metadata": {},
   "outputs": [
    {
     "data": {
      "text/plain": [
       "0.7271729950764617"
      ]
     },
     "execution_count": 67,
     "metadata": {},
     "output_type": "execute_result"
    }
   ],
   "source": [
    "reg_knn.score(x_test,y_test) "
   ]
  },
  {
   "cell_type": "code",
   "execution_count": 60,
   "metadata": {},
   "outputs": [
    {
     "data": {
      "text/plain": [
       "14.841670179421897"
      ]
     },
     "execution_count": 60,
     "metadata": {},
     "output_type": "execute_result"
    }
   ],
   "source": [
    "mean_absolute_error(y_pred,y_test)"
   ]
  },
  {
   "cell_type": "code",
   "execution_count": 61,
   "metadata": {},
   "outputs": [
    {
     "data": {
      "text/plain": [
       "<matplotlib.collections.PathCollection at 0x1a300c92110>"
      ]
     },
     "execution_count": 61,
     "metadata": {},
     "output_type": "execute_result"
    },
    {
     "data": {
      "image/png": "[encoded data removed]",
      "text/plain": [
       "<Figure size 640x480 with 1 Axes>"
      ]
     },
     "metadata": {},
     "output_type": "display_data"
    }
   ],
   "source": [
    "plt.scatter(y_pred_knn,y_test)"
   ]
  },
  {
   "cell_type": "code",
   "execution_count": 68,
   "metadata": {},
   "outputs": [],
   "source": [
    "from sklearn.tree import DecisionTreeRegressor\n",
    "from sklearn.ensemble import RandomForestRegressor\n",
    "reg_dt=RandomForestRegressor(n_estimators=100)\n",
    "reg_dt.fit(x_train,y_train)\n",
    "y_pred_dt=reg_dt.predict(x_test)"
   ]
  },
  {
   "cell_type": "code",
   "execution_count": 69,
   "metadata": {},
   "outputs": [
    {
     "data": {
      "text/plain": [
       "0.7856279937799646"
      ]
     },
     "execution_count": 69,
     "metadata": {},
     "output_type": "execute_result"
    }
   ],
   "source": [
    "reg_dt.score(x_test,y_test) "
   ]
  },
  {
   "cell_type": "code",
   "execution_count": 230,
   "metadata": {},
   "outputs": [
    {
     "data": {
      "text/plain": [
       "<matplotlib.collections.PathCollection at 0x26a708d8d10>"
      ]
     },
     "execution_count": 230,
     "metadata": {},
     "output_type": "execute_result"
    },
    {
     "data": {
      "image/png": "[encoded data removed]",
      "text/plain": [
       "<Figure size 640x480 with 1 Axes>"
      ]
     },
     "metadata": {},
     "output_type": "display_data"
    }
   ],
   "source": [
    "plt.scatter(y_pred_dt,y_test)"
   ]
  },
  {
   "cell_type": "code",
   "execution_count": null,
   "metadata": {},
   "outputs": [],
   "source": [
    "from sklearn.model_selection import cross_val_score\n",
    "from sklearn.metrics import r2_score,make_scorer\n",
    "r2_scorer = make_scorer(r2_score)\n",
    "scores = cross_val_score(reg_dt, x, y, cv=20, scoring=r2_scorer)\n"
   ]
  },
  {
   "cell_type": "code",
   "execution_count": 70,
   "metadata": {},
   "outputs": [
    {
     "data": {
      "text/plain": [
       "0.5408657325238275"
      ]
     },
     "execution_count": 70,
     "metadata": {},
     "output_type": "execute_result"
    }
   ],
   "source": [
    "from sklearn.ensemble import BaggingRegressor\n",
    "bag_reg=BaggingRegressor(estimator=LinearRegression(),n_estimators=100,max_samples=2,oob_score=True,random_state=0)\n",
    "bag_reg.fit(x_train,y_train)\n",
    "bag_reg.oob_score_\n"
   ]
  },
  {
   "cell_type": "code",
   "execution_count": 73,
   "metadata": {},
   "outputs": [],
   "source": [
    "param_grid = {\n",
    "    'n_estimators': [100, 200, 300, 400, 500]\n",
    "}"
   ]
  },
  {
   "cell_type": "code",
   "execution_count": 71,
   "metadata": {},
   "outputs": [
    {
     "data": {
      "text/plain": [
       "0.8236045309288205"
      ]
     },
     "execution_count": 71,
     "metadata": {},
     "output_type": "execute_result"
    }
   ],
   "source": [
    "from sklearn.ensemble import GradientBoostingRegressor\n",
    "xg=GradientBoostingRegressor(loss=\"squared_error\",n_estimators=500)\n",
    "xg.fit(x_train,y_train)\n",
    "xg.score(x_test,y_test)"
   ]
  },
  {
   "cell_type": "code",
   "execution_count": null,
   "metadata": {},
   "outputs": [],
   "source": [
    "from sklearn.model_selection import GridSearchCV\n",
    "CV=GridSearchCV(estimator=xg,cv=5,param_grid=param_grid)\n",
    "CV.fit(x_train,y_train)"
   ]
  },
  {
   "cell_type": "code",
   "execution_count": 140,
   "metadata": {},
   "outputs": [
    {
     "data": {
      "text/plain": [
       "{'n_estimators': 500}"
      ]
     },
     "execution_count": 140,
     "metadata": {},
     "output_type": "execute_result"
    }
   ],
   "source": [
    "CV.best_params_"
   ]
  },
  {
   "cell_type": "code",
   "execution_count": 62,
   "metadata": {},
   "outputs": [],
   "source": [
    "y_hat=xg.predict(x_test)"
   ]
  },
  {
   "cell_type": "code",
   "execution_count": 63,
   "metadata": {},
   "outputs": [
    {
     "data": {
      "text/plain": [
       "(1161,)"
      ]
     },
     "execution_count": 63,
     "metadata": {},
     "output_type": "execute_result"
    }
   ],
   "source": [
    "y_hat.shape"
   ]
  },
  {
   "cell_type": "code",
   "execution_count": 64,
   "metadata": {},
   "outputs": [
    {
     "data": {
      "text/plain": [
       "(1161, 157)"
      ]
     },
     "execution_count": 64,
     "metadata": {},
     "output_type": "execute_result"
    }
   ],
   "source": [
    "x_test.shape"
   ]
  },
  {
   "cell_type": "code",
   "execution_count": 65,
   "metadata": {},
   "outputs": [],
   "source": [
    "y_hat=y_hat.reshape(-1,1)"
   ]
  },
  {
   "cell_type": "code",
   "execution_count": 66,
   "metadata": {},
   "outputs": [
    {
     "data": {
      "text/plain": [
       "(1161, 1)"
      ]
     },
     "execution_count": 66,
     "metadata": {},
     "output_type": "execute_result"
    }
   ],
   "source": [
    "y_hat.shape"
   ]
  },
  {
   "cell_type": "code",
   "execution_count": 113,
   "metadata": {},
   "outputs": [
    {
     "data": {
      "text/plain": [
       "<matplotlib.collections.PathCollection at 0x1a31a7446d0>"
      ]
     },
     "execution_count": 113,
     "metadata": {},
     "output_type": "execute_result"
    },
    {
     "data": {
      "image/png": "[encoded data removed]",
      "text/plain": [
       "<Figure size 640x480 with 1 Axes>"
      ]
     },
     "metadata": {},
     "output_type": "display_data"
    }
   ],
   "source": [
    "plt.scatter(y_hat,y_test)"
   ]
  },
  {
   "cell_type": "code",
   "execution_count": 840,
   "metadata": {},
   "outputs": [],
   "source": [
    "def predict_price(location,sqft,bath,bhk):    \n",
    "    loc_index = np.where(x.columns==location)[0][0]\n",
    "\n",
    "    x1 = np.zeros(len(x.columns))\n",
    "    x1[0] = sqft\n",
    "    x1[1] = bath\n",
    "    x1[2] = bhk\n",
    "    if loc_index >= 0:\n",
    "        x1[loc_index] = 1\n",
    "\n",
    "    return reg.predict(x1.reshape(-1,157))[0]"
   ]
  },
  {
   "cell_type": "code",
   "execution_count": 841,
   "metadata": {},
   "outputs": [
    {
     "name": "stderr",
     "output_type": "stream",
     "text": [
      "c:\\Users\\choco\\anaconda3\\Lib\\site-packages\\sklearn\\base.py:464: UserWarning: X does not have valid feature names, but LinearRegression was fitted with feature names\n",
      "  warnings.warn(\n"
     ]
    },
    {
     "data": {
      "text/plain": [
       "91.08783309490246"
      ]
     },
     "execution_count": 841,
     "metadata": {},
     "output_type": "execute_result"
    }
   ],
   "source": [
    "predict_price('1st Phase JP Nagar',1000, 2, 2)"
   ]
  },
  {
   "cell_type": "code",
   "execution_count": 842,
   "metadata": {},
   "outputs": [
    {
     "name": "stderr",
     "output_type": "stream",
     "text": [
      "c:\\Users\\choco\\anaconda3\\Lib\\site-packages\\sklearn\\base.py:464: UserWarning: X does not have valid feature names, but LinearRegression was fitted with feature names\n",
      "  warnings.warn(\n"
     ]
    },
    {
     "data": {
      "text/plain": [
       "85.85430844574842"
      ]
     },
     "execution_count": 842,
     "metadata": {},
     "output_type": "execute_result"
    }
   ],
   "source": [
    "predict_price('1st Phase JP Nagar',1000, 3, 3)\n",
    "\n"
   ]
  },
  {
   "cell_type": "code",
   "execution_count": 843,
   "metadata": {},
   "outputs": [
    {
     "name": "stderr",
     "output_type": "stream",
     "text": [
      "c:\\Users\\choco\\anaconda3\\Lib\\site-packages\\sklearn\\base.py:464: UserWarning: X does not have valid feature names, but LinearRegression was fitted with feature names\n",
      "  warnings.warn(\n"
     ]
    },
    {
     "data": {
      "text/plain": [
       "105.35424873262288"
      ]
     },
     "execution_count": 843,
     "metadata": {},
     "output_type": "execute_result"
    }
   ],
   "source": [
    "predict_price('Indira Nagar',1000, 3, 3)\n"
   ]
  },
  {
   "cell_type": "code",
   "execution_count": 116,
   "metadata": {},
   "outputs": [],
   "source": [
    "import pickle\n",
    "with open('banglore_home_prices_model.pickle','wb') as f:\n",
    "    pickle.dump(xg,f)"
   ]
  },
  {
   "cell_type": "code",
   "execution_count": 117,
   "metadata": {},
   "outputs": [],
   "source": [
    "import json\n",
    "columns = {\n",
    "    'data_columns' : [col.lower() for col in x.columns]\n",
    "}\n",
    "with open(\"columns.json\",\"w\") as f:\n",
    "    f.write(json.dumps(columns))"
   ]
  },
  {
   "cell_type": "code",
   "execution_count": 75,
   "metadata": {},
   "outputs": [
    {
     "data": {
      "text/html": [
       "<div>\n",
       "<style scoped>\n",
       "    .dataframe tbody tr th:only-of-type {\n",
       "        vertical-align: middle;\n",
       "    }\n",
       "\n",
       "    .dataframe tbody tr th {\n",
       "        vertical-align: top;\n",
       "    }\n",
       "\n",
       "    .dataframe thead th {\n",
       "        text-align: right;\n",
       "    }\n",
       "</style>\n",
       "<table border=\"1\" class=\"dataframe\">\n",
       "  <thead>\n",
       "    <tr style=\"text-align: right;\">\n",
       "      <th></th>\n",
       "      <th>location</th>\n",
       "      <th>total_sqft</th>\n",
       "      <th>bath</th>\n",
       "      <th>price</th>\n",
       "      <th>bhk</th>\n",
       "      <th>price_sqft</th>\n",
       "    </tr>\n",
       "  </thead>\n",
       "  <tbody>\n",
       "    <tr>\n",
       "      <th>0</th>\n",
       "      <td>1st Phase JP Nagar</td>\n",
       "      <td>2825.0</td>\n",
       "      <td>4</td>\n",
       "      <td>250.00</td>\n",
       "      <td>4</td>\n",
       "      <td>8849.557522</td>\n",
       "    </tr>\n",
       "    <tr>\n",
       "      <th>1</th>\n",
       "      <td>1st Phase JP Nagar</td>\n",
       "      <td>1875.0</td>\n",
       "      <td>3</td>\n",
       "      <td>167.00</td>\n",
       "      <td>3</td>\n",
       "      <td>8906.666667</td>\n",
       "    </tr>\n",
       "    <tr>\n",
       "      <th>2</th>\n",
       "      <td>1st Phase JP Nagar</td>\n",
       "      <td>1394.0</td>\n",
       "      <td>2</td>\n",
       "      <td>100.00</td>\n",
       "      <td>2</td>\n",
       "      <td>7173.601148</td>\n",
       "    </tr>\n",
       "    <tr>\n",
       "      <th>3</th>\n",
       "      <td>1st Phase JP Nagar</td>\n",
       "      <td>1077.0</td>\n",
       "      <td>2</td>\n",
       "      <td>93.00</td>\n",
       "      <td>2</td>\n",
       "      <td>8635.097493</td>\n",
       "    </tr>\n",
       "    <tr>\n",
       "      <th>4</th>\n",
       "      <td>1st Phase JP Nagar</td>\n",
       "      <td>1590.0</td>\n",
       "      <td>3</td>\n",
       "      <td>131.00</td>\n",
       "      <td>3</td>\n",
       "      <td>8238.993711</td>\n",
       "    </tr>\n",
       "    <tr>\n",
       "      <th>...</th>\n",
       "      <td>...</td>\n",
       "      <td>...</td>\n",
       "      <td>...</td>\n",
       "      <td>...</td>\n",
       "      <td>...</td>\n",
       "      <td>...</td>\n",
       "    </tr>\n",
       "    <tr>\n",
       "      <th>5800</th>\n",
       "      <td>others</td>\n",
       "      <td>1000.0</td>\n",
       "      <td>2</td>\n",
       "      <td>49.50</td>\n",
       "      <td>2</td>\n",
       "      <td>4950.000000</td>\n",
       "    </tr>\n",
       "    <tr>\n",
       "      <th>5801</th>\n",
       "      <td>others</td>\n",
       "      <td>1256.0</td>\n",
       "      <td>2</td>\n",
       "      <td>65.00</td>\n",
       "      <td>2</td>\n",
       "      <td>5175.159236</td>\n",
       "    </tr>\n",
       "    <tr>\n",
       "      <th>5802</th>\n",
       "      <td>others</td>\n",
       "      <td>1353.0</td>\n",
       "      <td>2</td>\n",
       "      <td>110.00</td>\n",
       "      <td>2</td>\n",
       "      <td>8130.081301</td>\n",
       "    </tr>\n",
       "    <tr>\n",
       "      <th>5803</th>\n",
       "      <td>others</td>\n",
       "      <td>1440.0</td>\n",
       "      <td>2</td>\n",
       "      <td>63.93</td>\n",
       "      <td>3</td>\n",
       "      <td>4439.583333</td>\n",
       "    </tr>\n",
       "    <tr>\n",
       "      <th>5804</th>\n",
       "      <td>others</td>\n",
       "      <td>2200.0</td>\n",
       "      <td>3</td>\n",
       "      <td>80.00</td>\n",
       "      <td>4</td>\n",
       "      <td>3636.363636</td>\n",
       "    </tr>\n",
       "  </tbody>\n",
       "</table>\n",
       "<p>5805 rows × 6 columns</p>\n",
       "</div>"
      ],
      "text/plain": [
       "                location  total_sqft  bath   price  bhk   price_sqft\n",
       "0     1st Phase JP Nagar      2825.0     4  250.00    4  8849.557522\n",
       "1     1st Phase JP Nagar      1875.0     3  167.00    3  8906.666667\n",
       "2     1st Phase JP Nagar      1394.0     2  100.00    2  7173.601148\n",
       "3     1st Phase JP Nagar      1077.0     2   93.00    2  8635.097493\n",
       "4     1st Phase JP Nagar      1590.0     3  131.00    3  8238.993711\n",
       "...                  ...         ...   ...     ...  ...          ...\n",
       "5800              others      1000.0     2   49.50    2  4950.000000\n",
       "5801              others      1256.0     2   65.00    2  5175.159236\n",
       "5802              others      1353.0     2  110.00    2  8130.081301\n",
       "5803              others      1440.0     2   63.93    3  4439.583333\n",
       "5804              others      2200.0     3   80.00    4  3636.363636\n",
       "\n",
       "[5805 rows x 6 columns]"
      ]
     },
     "execution_count": 75,
     "metadata": {},
     "output_type": "execute_result"
    }
   ],
   "source": [
    "cat_data=df10.copy()\n",
    "cat_data"
   ]
  },
  {
   "cell_type": "code",
   "execution_count": 76,
   "metadata": {},
   "outputs": [],
   "source": [
    "cat_data=cat_data.drop(['price_sqft'],axis=1)"
   ]
  },
  {
   "cell_type": "code",
   "execution_count": 77,
   "metadata": {},
   "outputs": [
    {
     "data": {
      "text/html": [
       "<div>\n",
       "<style scoped>\n",
       "    .dataframe tbody tr th:only-of-type {\n",
       "        vertical-align: middle;\n",
       "    }\n",
       "\n",
       "    .dataframe tbody tr th {\n",
       "        vertical-align: top;\n",
       "    }\n",
       "\n",
       "    .dataframe thead th {\n",
       "        text-align: right;\n",
       "    }\n",
       "</style>\n",
       "<table border=\"1\" class=\"dataframe\">\n",
       "  <thead>\n",
       "    <tr style=\"text-align: right;\">\n",
       "      <th></th>\n",
       "      <th>location</th>\n",
       "      <th>total_sqft</th>\n",
       "      <th>bath</th>\n",
       "      <th>price</th>\n",
       "      <th>bhk</th>\n",
       "    </tr>\n",
       "  </thead>\n",
       "  <tbody>\n",
       "    <tr>\n",
       "      <th>0</th>\n",
       "      <td>1st Phase JP Nagar</td>\n",
       "      <td>2825.0</td>\n",
       "      <td>4</td>\n",
       "      <td>250.00</td>\n",
       "      <td>4</td>\n",
       "    </tr>\n",
       "    <tr>\n",
       "      <th>1</th>\n",
       "      <td>1st Phase JP Nagar</td>\n",
       "      <td>1875.0</td>\n",
       "      <td>3</td>\n",
       "      <td>167.00</td>\n",
       "      <td>3</td>\n",
       "    </tr>\n",
       "    <tr>\n",
       "      <th>2</th>\n",
       "      <td>1st Phase JP Nagar</td>\n",
       "      <td>1394.0</td>\n",
       "      <td>2</td>\n",
       "      <td>100.00</td>\n",
       "      <td>2</td>\n",
       "    </tr>\n",
       "    <tr>\n",
       "      <th>3</th>\n",
       "      <td>1st Phase JP Nagar</td>\n",
       "      <td>1077.0</td>\n",
       "      <td>2</td>\n",
       "      <td>93.00</td>\n",
       "      <td>2</td>\n",
       "    </tr>\n",
       "    <tr>\n",
       "      <th>4</th>\n",
       "      <td>1st Phase JP Nagar</td>\n",
       "      <td>1590.0</td>\n",
       "      <td>3</td>\n",
       "      <td>131.00</td>\n",
       "      <td>3</td>\n",
       "    </tr>\n",
       "    <tr>\n",
       "      <th>...</th>\n",
       "      <td>...</td>\n",
       "      <td>...</td>\n",
       "      <td>...</td>\n",
       "      <td>...</td>\n",
       "      <td>...</td>\n",
       "    </tr>\n",
       "    <tr>\n",
       "      <th>5800</th>\n",
       "      <td>others</td>\n",
       "      <td>1000.0</td>\n",
       "      <td>2</td>\n",
       "      <td>49.50</td>\n",
       "      <td>2</td>\n",
       "    </tr>\n",
       "    <tr>\n",
       "      <th>5801</th>\n",
       "      <td>others</td>\n",
       "      <td>1256.0</td>\n",
       "      <td>2</td>\n",
       "      <td>65.00</td>\n",
       "      <td>2</td>\n",
       "    </tr>\n",
       "    <tr>\n",
       "      <th>5802</th>\n",
       "      <td>others</td>\n",
       "      <td>1353.0</td>\n",
       "      <td>2</td>\n",
       "      <td>110.00</td>\n",
       "      <td>2</td>\n",
       "    </tr>\n",
       "    <tr>\n",
       "      <th>5803</th>\n",
       "      <td>others</td>\n",
       "      <td>1440.0</td>\n",
       "      <td>2</td>\n",
       "      <td>63.93</td>\n",
       "      <td>3</td>\n",
       "    </tr>\n",
       "    <tr>\n",
       "      <th>5804</th>\n",
       "      <td>others</td>\n",
       "      <td>2200.0</td>\n",
       "      <td>3</td>\n",
       "      <td>80.00</td>\n",
       "      <td>4</td>\n",
       "    </tr>\n",
       "  </tbody>\n",
       "</table>\n",
       "<p>5805 rows × 5 columns</p>\n",
       "</div>"
      ],
      "text/plain": [
       "                location  total_sqft  bath   price  bhk\n",
       "0     1st Phase JP Nagar      2825.0     4  250.00    4\n",
       "1     1st Phase JP Nagar      1875.0     3  167.00    3\n",
       "2     1st Phase JP Nagar      1394.0     2  100.00    2\n",
       "3     1st Phase JP Nagar      1077.0     2   93.00    2\n",
       "4     1st Phase JP Nagar      1590.0     3  131.00    3\n",
       "...                  ...         ...   ...     ...  ...\n",
       "5800              others      1000.0     2   49.50    2\n",
       "5801              others      1256.0     2   65.00    2\n",
       "5802              others      1353.0     2  110.00    2\n",
       "5803              others      1440.0     2   63.93    3\n",
       "5804              others      2200.0     3   80.00    4\n",
       "\n",
       "[5805 rows x 5 columns]"
      ]
     },
     "execution_count": 77,
     "metadata": {},
     "output_type": "execute_result"
    }
   ],
   "source": [
    "cat_data"
   ]
  },
  {
   "cell_type": "code",
   "execution_count": 80,
   "metadata": {},
   "outputs": [],
   "source": [
    "cat_x=cat_data.drop(['price','bath'],axis=1)\n",
    "cat_y=cat_data['price']"
   ]
  },
  {
   "cell_type": "code",
   "execution_count": 81,
   "metadata": {},
   "outputs": [],
   "source": [
    "cat_xtrain,cat_xtest,cat_ytrain,xat_ytest=train_test_split(cat_x,cat_y,random_state=23,test_size=0.2)"
   ]
  },
  {
   "cell_type": "code",
   "execution_count": 82,
   "metadata": {},
   "outputs": [
    {
     "name": "stdout",
     "output_type": "stream",
     "text": [
      "0:\tlearn: 53.8546486\ttotal: 157ms\tremaining: 2m 36s\n",
      "1:\tlearn: 52.2005924\ttotal: 159ms\tremaining: 1m 19s\n",
      "2:\tlearn: 50.6753307\ttotal: 163ms\tremaining: 54.3s\n",
      "3:\tlearn: 49.1711800\ttotal: 167ms\tremaining: 41.5s\n",
      "4:\tlearn: 47.7504707\ttotal: 171ms\tremaining: 34.1s\n",
      "5:\tlearn: 46.4743266\ttotal: 174ms\tremaining: 28.8s\n",
      "6:\tlearn: 45.2353450\ttotal: 178ms\tremaining: 25.2s\n",
      "7:\tlearn: 44.0627614\ttotal: 181ms\tremaining: 22.4s\n",
      "8:\tlearn: 42.9663578\ttotal: 185ms\tremaining: 20.4s\n",
      "9:\tlearn: 41.9167164\ttotal: 189ms\tremaining: 18.7s\n",
      "10:\tlearn: 40.9614294\ttotal: 192ms\tremaining: 17.2s\n",
      "11:\tlearn: 40.1166010\ttotal: 195ms\tremaining: 16.1s\n",
      "12:\tlearn: 39.2663496\ttotal: 198ms\tremaining: 15s\n",
      "13:\tlearn: 38.4859339\ttotal: 202ms\tremaining: 14.2s\n",
      "14:\tlearn: 37.7713207\ttotal: 205ms\tremaining: 13.5s\n",
      "15:\tlearn: 37.0923206\ttotal: 210ms\tremaining: 12.9s\n",
      "16:\tlearn: 36.5228510\ttotal: 212ms\tremaining: 12.2s\n",
      "17:\tlearn: 35.9374694\ttotal: 216ms\tremaining: 11.8s\n",
      "18:\tlearn: 35.3896956\ttotal: 220ms\tremaining: 11.3s\n",
      "19:\tlearn: 34.8866206\ttotal: 224ms\tremaining: 11s\n",
      "20:\tlearn: 34.3903990\ttotal: 227ms\tremaining: 10.6s\n",
      "21:\tlearn: 33.9300375\ttotal: 232ms\tremaining: 10.3s\n",
      "22:\tlearn: 33.5794072\ttotal: 235ms\tremaining: 9.96s\n",
      "23:\tlearn: 33.1534505\ttotal: 238ms\tremaining: 9.66s\n",
      "24:\tlearn: 32.7539136\ttotal: 248ms\tremaining: 9.66s\n",
      "25:\tlearn: 32.3788410\ttotal: 251ms\tremaining: 9.39s\n",
      "26:\tlearn: 32.0645563\ttotal: 254ms\tremaining: 9.14s\n",
      "27:\tlearn: 31.7705439\ttotal: 257ms\tremaining: 8.93s\n",
      "28:\tlearn: 31.4857734\ttotal: 260ms\tremaining: 8.71s\n",
      "29:\tlearn: 31.2123542\ttotal: 266ms\tremaining: 8.61s\n",
      "30:\tlearn: 30.9818778\ttotal: 273ms\tremaining: 8.53s\n",
      "31:\tlearn: 30.7279279\ttotal: 276ms\tremaining: 8.35s\n",
      "32:\tlearn: 30.5266281\ttotal: 280ms\tremaining: 8.21s\n",
      "33:\tlearn: 30.3094199\ttotal: 283ms\tremaining: 8.04s\n",
      "34:\tlearn: 30.1145204\ttotal: 287ms\tremaining: 7.91s\n",
      "35:\tlearn: 29.8943934\ttotal: 290ms\tremaining: 7.76s\n",
      "36:\tlearn: 29.7400909\ttotal: 294ms\tremaining: 7.66s\n",
      "37:\tlearn: 29.5754501\ttotal: 297ms\tremaining: 7.52s\n",
      "38:\tlearn: 29.4204036\ttotal: 300ms\tremaining: 7.39s\n",
      "39:\tlearn: 29.2672848\ttotal: 317ms\tremaining: 7.61s\n",
      "40:\tlearn: 29.1425121\ttotal: 320ms\tremaining: 7.49s\n",
      "41:\tlearn: 29.0042453\ttotal: 322ms\tremaining: 7.35s\n",
      "42:\tlearn: 28.8892731\ttotal: 326ms\tremaining: 7.26s\n",
      "43:\tlearn: 28.7907023\ttotal: 329ms\tremaining: 7.14s\n",
      "44:\tlearn: 28.6932427\ttotal: 332ms\tremaining: 7.04s\n",
      "45:\tlearn: 28.6117492\ttotal: 335ms\tremaining: 6.95s\n",
      "46:\tlearn: 28.4992702\ttotal: 339ms\tremaining: 6.86s\n",
      "47:\tlearn: 28.4271897\ttotal: 343ms\tremaining: 6.79s\n",
      "48:\tlearn: 28.3507437\ttotal: 345ms\tremaining: 6.7s\n",
      "49:\tlearn: 28.2852438\ttotal: 349ms\tremaining: 6.62s\n",
      "50:\tlearn: 28.2026459\ttotal: 351ms\tremaining: 6.53s\n",
      "51:\tlearn: 28.1275574\ttotal: 355ms\tremaining: 6.47s\n",
      "52:\tlearn: 28.0547261\ttotal: 358ms\tremaining: 6.4s\n",
      "53:\tlearn: 27.9900208\ttotal: 361ms\tremaining: 6.32s\n",
      "54:\tlearn: 27.9405018\ttotal: 364ms\tremaining: 6.26s\n",
      "55:\tlearn: 27.8611341\ttotal: 367ms\tremaining: 6.19s\n",
      "56:\tlearn: 27.8077872\ttotal: 371ms\tremaining: 6.13s\n",
      "57:\tlearn: 27.7555632\ttotal: 375ms\tremaining: 6.09s\n",
      "58:\tlearn: 27.6842202\ttotal: 380ms\tremaining: 6.07s\n",
      "59:\tlearn: 27.6161596\ttotal: 383ms\tremaining: 6s\n",
      "60:\tlearn: 27.5672553\ttotal: 386ms\tremaining: 5.94s\n",
      "61:\tlearn: 27.4962044\ttotal: 389ms\tremaining: 5.89s\n",
      "62:\tlearn: 27.4614348\ttotal: 395ms\tremaining: 5.87s\n",
      "63:\tlearn: 27.3882899\ttotal: 397ms\tremaining: 5.81s\n",
      "64:\tlearn: 27.3418740\ttotal: 401ms\tremaining: 5.77s\n",
      "65:\tlearn: 27.3009321\ttotal: 405ms\tremaining: 5.72s\n",
      "66:\tlearn: 27.2614897\ttotal: 409ms\tremaining: 5.69s\n",
      "67:\tlearn: 27.2186903\ttotal: 412ms\tremaining: 5.64s\n",
      "68:\tlearn: 27.1828463\ttotal: 414ms\tremaining: 5.58s\n",
      "69:\tlearn: 27.1233097\ttotal: 418ms\tremaining: 5.55s\n",
      "70:\tlearn: 27.0896074\ttotal: 421ms\tremaining: 5.51s\n",
      "71:\tlearn: 27.0403356\ttotal: 425ms\tremaining: 5.48s\n",
      "72:\tlearn: 26.9937101\ttotal: 428ms\tremaining: 5.44s\n",
      "73:\tlearn: 26.9457735\ttotal: 432ms\tremaining: 5.41s\n",
      "74:\tlearn: 26.9019906\ttotal: 435ms\tremaining: 5.36s\n",
      "75:\tlearn: 26.8717088\ttotal: 437ms\tremaining: 5.32s\n",
      "76:\tlearn: 26.8368127\ttotal: 442ms\tremaining: 5.3s\n",
      "77:\tlearn: 26.8069051\ttotal: 445ms\tremaining: 5.25s\n",
      "78:\tlearn: 26.7756099\ttotal: 450ms\tremaining: 5.24s\n",
      "79:\tlearn: 26.7477575\ttotal: 452ms\tremaining: 5.2s\n",
      "80:\tlearn: 26.7184126\ttotal: 457ms\tremaining: 5.18s\n",
      "81:\tlearn: 26.6791513\ttotal: 459ms\tremaining: 5.14s\n",
      "82:\tlearn: 26.6475158\ttotal: 464ms\tremaining: 5.13s\n",
      "83:\tlearn: 26.6199913\ttotal: 467ms\tremaining: 5.09s\n",
      "84:\tlearn: 26.5884122\ttotal: 472ms\tremaining: 5.08s\n",
      "85:\tlearn: 26.5591886\ttotal: 476ms\tremaining: 5.05s\n",
      "86:\tlearn: 26.5325796\ttotal: 480ms\tremaining: 5.03s\n",
      "87:\tlearn: 26.4948379\ttotal: 483ms\tremaining: 5s\n",
      "88:\tlearn: 26.4691909\ttotal: 487ms\tremaining: 4.99s\n",
      "89:\tlearn: 26.4402283\ttotal: 490ms\tremaining: 4.96s\n",
      "90:\tlearn: 26.4185938\ttotal: 494ms\tremaining: 4.93s\n",
      "91:\tlearn: 26.3930551\ttotal: 497ms\tremaining: 4.9s\n",
      "92:\tlearn: 26.3720722\ttotal: 499ms\tremaining: 4.87s\n",
      "93:\tlearn: 26.3519421\ttotal: 504ms\tremaining: 4.85s\n",
      "94:\tlearn: 26.3246798\ttotal: 506ms\tremaining: 4.82s\n",
      "95:\tlearn: 26.3067795\ttotal: 511ms\tremaining: 4.81s\n",
      "96:\tlearn: 26.2639974\ttotal: 514ms\tremaining: 4.78s\n",
      "97:\tlearn: 26.2455926\ttotal: 518ms\tremaining: 4.77s\n",
      "98:\tlearn: 26.2210795\ttotal: 521ms\tremaining: 4.74s\n",
      "99:\tlearn: 26.1983077\ttotal: 523ms\tremaining: 4.71s\n",
      "100:\tlearn: 26.1787282\ttotal: 528ms\tremaining: 4.7s\n",
      "101:\tlearn: 26.1532212\ttotal: 531ms\tremaining: 4.67s\n",
      "102:\tlearn: 26.1279793\ttotal: 535ms\tremaining: 4.66s\n",
      "103:\tlearn: 26.1124385\ttotal: 537ms\tremaining: 4.63s\n",
      "104:\tlearn: 26.0905537\ttotal: 541ms\tremaining: 4.61s\n",
      "105:\tlearn: 26.0688192\ttotal: 543ms\tremaining: 4.58s\n",
      "106:\tlearn: 26.0318102\ttotal: 546ms\tremaining: 4.55s\n",
      "107:\tlearn: 26.0157875\ttotal: 550ms\tremaining: 4.54s\n",
      "108:\tlearn: 25.9927052\ttotal: 553ms\tremaining: 4.52s\n",
      "109:\tlearn: 25.9662527\ttotal: 557ms\tremaining: 4.5s\n",
      "110:\tlearn: 25.9292268\ttotal: 560ms\tremaining: 4.49s\n",
      "111:\tlearn: 25.9072811\ttotal: 565ms\tremaining: 4.48s\n",
      "112:\tlearn: 25.8857818\ttotal: 568ms\tremaining: 4.46s\n",
      "113:\tlearn: 25.8696767\ttotal: 570ms\tremaining: 4.43s\n",
      "114:\tlearn: 25.8488522\ttotal: 574ms\tremaining: 4.42s\n",
      "115:\tlearn: 25.8292653\ttotal: 577ms\tremaining: 4.39s\n",
      "116:\tlearn: 25.8105138\ttotal: 581ms\tremaining: 4.38s\n",
      "117:\tlearn: 25.7968496\ttotal: 584ms\tremaining: 4.36s\n",
      "118:\tlearn: 25.7752763\ttotal: 586ms\tremaining: 4.34s\n",
      "119:\tlearn: 25.7625677\ttotal: 590ms\tremaining: 4.32s\n",
      "120:\tlearn: 25.7457608\ttotal: 592ms\tremaining: 4.3s\n",
      "121:\tlearn: 25.7335673\ttotal: 597ms\tremaining: 4.29s\n",
      "122:\tlearn: 25.7213165\ttotal: 599ms\tremaining: 4.27s\n",
      "123:\tlearn: 25.7038279\ttotal: 603ms\tremaining: 4.26s\n",
      "124:\tlearn: 25.6938534\ttotal: 605ms\tremaining: 4.24s\n",
      "125:\tlearn: 25.6776146\ttotal: 608ms\tremaining: 4.22s\n",
      "126:\tlearn: 25.6573998\ttotal: 612ms\tremaining: 4.21s\n",
      "127:\tlearn: 25.6389655\ttotal: 615ms\tremaining: 4.19s\n",
      "128:\tlearn: 25.6237949\ttotal: 618ms\tremaining: 4.17s\n",
      "129:\tlearn: 25.5832823\ttotal: 621ms\tremaining: 4.15s\n",
      "130:\tlearn: 25.5708807\ttotal: 623ms\tremaining: 4.13s\n",
      "131:\tlearn: 25.5495653\ttotal: 627ms\tremaining: 4.12s\n",
      "132:\tlearn: 25.5353425\ttotal: 630ms\tremaining: 4.11s\n",
      "133:\tlearn: 25.5252445\ttotal: 633ms\tremaining: 4.09s\n",
      "134:\tlearn: 25.5116221\ttotal: 636ms\tremaining: 4.08s\n",
      "135:\tlearn: 25.4968159\ttotal: 639ms\tremaining: 4.06s\n",
      "136:\tlearn: 25.4847127\ttotal: 643ms\tremaining: 4.05s\n",
      "137:\tlearn: 25.4673324\ttotal: 645ms\tremaining: 4.03s\n",
      "138:\tlearn: 25.4545651\ttotal: 647ms\tremaining: 4.01s\n",
      "139:\tlearn: 25.4393112\ttotal: 651ms\tremaining: 4s\n",
      "140:\tlearn: 25.4280677\ttotal: 653ms\tremaining: 3.98s\n",
      "141:\tlearn: 25.4152503\ttotal: 658ms\tremaining: 3.97s\n",
      "142:\tlearn: 25.4026230\ttotal: 660ms\tremaining: 3.96s\n",
      "143:\tlearn: 25.3896551\ttotal: 663ms\tremaining: 3.94s\n",
      "144:\tlearn: 25.3735686\ttotal: 667ms\tremaining: 3.93s\n",
      "145:\tlearn: 25.3586787\ttotal: 669ms\tremaining: 3.91s\n",
      "146:\tlearn: 25.3447081\ttotal: 673ms\tremaining: 3.9s\n",
      "147:\tlearn: 25.3340855\ttotal: 676ms\tremaining: 3.89s\n",
      "148:\tlearn: 25.3183248\ttotal: 678ms\tremaining: 3.87s\n",
      "149:\tlearn: 25.3083892\ttotal: 682ms\tremaining: 3.86s\n",
      "150:\tlearn: 25.2978521\ttotal: 685ms\tremaining: 3.85s\n",
      "151:\tlearn: 25.2853530\ttotal: 690ms\tremaining: 3.85s\n",
      "152:\tlearn: 25.2767739\ttotal: 693ms\tremaining: 3.84s\n",
      "153:\tlearn: 25.2671357\ttotal: 699ms\tremaining: 3.84s\n",
      "154:\tlearn: 25.2578128\ttotal: 701ms\tremaining: 3.82s\n",
      "155:\tlearn: 25.2404437\ttotal: 706ms\tremaining: 3.82s\n",
      "156:\tlearn: 25.2325017\ttotal: 708ms\tremaining: 3.8s\n",
      "157:\tlearn: 25.2209123\ttotal: 713ms\tremaining: 3.8s\n",
      "158:\tlearn: 25.2093993\ttotal: 716ms\tremaining: 3.79s\n",
      "159:\tlearn: 25.1752209\ttotal: 720ms\tremaining: 3.78s\n",
      "160:\tlearn: 25.1674664\ttotal: 723ms\tremaining: 3.77s\n",
      "161:\tlearn: 25.1465169\ttotal: 725ms\tremaining: 3.75s\n",
      "162:\tlearn: 25.1353381\ttotal: 730ms\tremaining: 3.75s\n",
      "163:\tlearn: 25.1174106\ttotal: 735ms\tremaining: 3.75s\n",
      "164:\tlearn: 25.1029369\ttotal: 738ms\tremaining: 3.73s\n",
      "165:\tlearn: 25.0916783\ttotal: 742ms\tremaining: 3.73s\n",
      "166:\tlearn: 25.0775431\ttotal: 745ms\tremaining: 3.72s\n",
      "167:\tlearn: 25.0665949\ttotal: 747ms\tremaining: 3.7s\n",
      "168:\tlearn: 25.0578049\ttotal: 752ms\tremaining: 3.7s\n",
      "169:\tlearn: 25.0455589\ttotal: 754ms\tremaining: 3.68s\n",
      "170:\tlearn: 25.0299688\ttotal: 758ms\tremaining: 3.67s\n",
      "171:\tlearn: 25.0181309\ttotal: 761ms\tremaining: 3.66s\n",
      "172:\tlearn: 25.0058242\ttotal: 764ms\tremaining: 3.65s\n",
      "173:\tlearn: 24.9967314\ttotal: 768ms\tremaining: 3.65s\n",
      "174:\tlearn: 24.9846050\ttotal: 771ms\tremaining: 3.63s\n",
      "175:\tlearn: 24.9648807\ttotal: 775ms\tremaining: 3.63s\n",
      "176:\tlearn: 24.9532780\ttotal: 778ms\tremaining: 3.62s\n",
      "177:\tlearn: 24.9409027\ttotal: 782ms\tremaining: 3.61s\n",
      "178:\tlearn: 24.9247075\ttotal: 784ms\tremaining: 3.6s\n",
      "179:\tlearn: 24.9165966\ttotal: 787ms\tremaining: 3.58s\n",
      "180:\tlearn: 24.9068530\ttotal: 791ms\tremaining: 3.58s\n",
      "181:\tlearn: 24.8967961\ttotal: 794ms\tremaining: 3.57s\n",
      "182:\tlearn: 24.8884695\ttotal: 798ms\tremaining: 3.56s\n",
      "183:\tlearn: 24.8754575\ttotal: 801ms\tremaining: 3.55s\n",
      "184:\tlearn: 24.8665182\ttotal: 805ms\tremaining: 3.55s\n",
      "185:\tlearn: 24.8553933\ttotal: 808ms\tremaining: 3.54s\n",
      "186:\tlearn: 24.8462952\ttotal: 812ms\tremaining: 3.53s\n",
      "187:\tlearn: 24.8344006\ttotal: 815ms\tremaining: 3.52s\n",
      "188:\tlearn: 24.8224311\ttotal: 817ms\tremaining: 3.51s\n",
      "189:\tlearn: 24.8125589\ttotal: 822ms\tremaining: 3.5s\n",
      "190:\tlearn: 24.8036528\ttotal: 824ms\tremaining: 3.49s\n",
      "191:\tlearn: 24.7905392\ttotal: 828ms\tremaining: 3.48s\n",
      "192:\tlearn: 24.7818491\ttotal: 831ms\tremaining: 3.47s\n",
      "193:\tlearn: 24.7731058\ttotal: 833ms\tremaining: 3.46s\n",
      "194:\tlearn: 24.7565168\ttotal: 837ms\tremaining: 3.45s\n",
      "195:\tlearn: 24.7322671\ttotal: 839ms\tremaining: 3.44s\n",
      "196:\tlearn: 24.7236271\ttotal: 842ms\tremaining: 3.43s\n",
      "197:\tlearn: 24.7123049\ttotal: 846ms\tremaining: 3.42s\n",
      "198:\tlearn: 24.6974855\ttotal: 848ms\tremaining: 3.41s\n",
      "199:\tlearn: 24.6897225\ttotal: 852ms\tremaining: 3.41s\n",
      "200:\tlearn: 24.6802927\ttotal: 855ms\tremaining: 3.4s\n",
      "201:\tlearn: 24.6722054\ttotal: 857ms\tremaining: 3.38s\n",
      "202:\tlearn: 24.6636801\ttotal: 861ms\tremaining: 3.38s\n",
      "203:\tlearn: 24.6452078\ttotal: 863ms\tremaining: 3.37s\n",
      "204:\tlearn: 24.6345787\ttotal: 865ms\tremaining: 3.35s\n",
      "205:\tlearn: 24.6164868\ttotal: 869ms\tremaining: 3.35s\n",
      "206:\tlearn: 24.6059026\ttotal: 871ms\tremaining: 3.34s\n",
      "207:\tlearn: 24.5965539\ttotal: 874ms\tremaining: 3.33s\n",
      "208:\tlearn: 24.5869199\ttotal: 880ms\tremaining: 3.33s\n",
      "209:\tlearn: 24.5674225\ttotal: 883ms\tremaining: 3.32s\n",
      "210:\tlearn: 24.5576147\ttotal: 886ms\tremaining: 3.31s\n",
      "211:\tlearn: 24.5497403\ttotal: 888ms\tremaining: 3.3s\n",
      "212:\tlearn: 24.5424886\ttotal: 891ms\tremaining: 3.29s\n",
      "213:\tlearn: 24.5237711\ttotal: 893ms\tremaining: 3.28s\n",
      "214:\tlearn: 24.5165027\ttotal: 895ms\tremaining: 3.27s\n",
      "215:\tlearn: 24.5096570\ttotal: 899ms\tremaining: 3.26s\n",
      "216:\tlearn: 24.4982699\ttotal: 901ms\tremaining: 3.25s\n",
      "217:\tlearn: 24.4892204\ttotal: 903ms\tremaining: 3.24s\n",
      "218:\tlearn: 24.4817121\ttotal: 906ms\tremaining: 3.23s\n",
      "219:\tlearn: 24.4739922\ttotal: 908ms\tremaining: 3.22s\n",
      "220:\tlearn: 24.4665689\ttotal: 911ms\tremaining: 3.21s\n",
      "221:\tlearn: 24.4472426\ttotal: 914ms\tremaining: 3.2s\n",
      "222:\tlearn: 24.4392203\ttotal: 917ms\tremaining: 3.19s\n",
      "223:\tlearn: 24.4312783\ttotal: 919ms\tremaining: 3.18s\n",
      "224:\tlearn: 24.4249080\ttotal: 922ms\tremaining: 3.18s\n",
      "225:\tlearn: 24.4159403\ttotal: 924ms\tremaining: 3.17s\n",
      "226:\tlearn: 24.4065660\ttotal: 927ms\tremaining: 3.15s\n",
      "227:\tlearn: 24.3995753\ttotal: 931ms\tremaining: 3.15s\n",
      "228:\tlearn: 24.3895987\ttotal: 933ms\tremaining: 3.14s\n",
      "229:\tlearn: 24.3821696\ttotal: 936ms\tremaining: 3.13s\n",
      "230:\tlearn: 24.3743902\ttotal: 939ms\tremaining: 3.13s\n",
      "231:\tlearn: 24.3680242\ttotal: 942ms\tremaining: 3.12s\n",
      "232:\tlearn: 24.3598251\ttotal: 945ms\tremaining: 3.11s\n",
      "233:\tlearn: 24.3497461\ttotal: 948ms\tremaining: 3.1s\n",
      "234:\tlearn: 24.3406554\ttotal: 951ms\tremaining: 3.1s\n",
      "235:\tlearn: 24.3334188\ttotal: 955ms\tremaining: 3.09s\n",
      "236:\tlearn: 24.3168233\ttotal: 958ms\tremaining: 3.08s\n",
      "237:\tlearn: 24.3075123\ttotal: 961ms\tremaining: 3.08s\n",
      "238:\tlearn: 24.2980838\ttotal: 964ms\tremaining: 3.07s\n",
      "239:\tlearn: 24.2919386\ttotal: 967ms\tremaining: 3.06s\n",
      "240:\tlearn: 24.2765020\ttotal: 970ms\tremaining: 3.06s\n",
      "241:\tlearn: 24.2701587\ttotal: 973ms\tremaining: 3.05s\n",
      "242:\tlearn: 24.2633691\ttotal: 976ms\tremaining: 3.04s\n",
      "243:\tlearn: 24.2552519\ttotal: 978ms\tremaining: 3.03s\n",
      "244:\tlearn: 24.2486454\ttotal: 980ms\tremaining: 3.02s\n",
      "245:\tlearn: 24.2412135\ttotal: 983ms\tremaining: 3.01s\n",
      "246:\tlearn: 24.2335673\ttotal: 986ms\tremaining: 3s\n",
      "247:\tlearn: 24.2268424\ttotal: 988ms\tremaining: 3s\n",
      "248:\tlearn: 24.2142597\ttotal: 992ms\tremaining: 2.99s\n",
      "249:\tlearn: 24.2085478\ttotal: 994ms\tremaining: 2.98s\n",
      "250:\tlearn: 24.2008488\ttotal: 996ms\tremaining: 2.97s\n",
      "251:\tlearn: 24.1938956\ttotal: 1000ms\tremaining: 2.97s\n",
      "252:\tlearn: 24.1874547\ttotal: 1s\tremaining: 2.96s\n",
      "253:\tlearn: 24.1823768\ttotal: 1s\tremaining: 2.95s\n",
      "254:\tlearn: 24.1767687\ttotal: 1.01s\tremaining: 2.95s\n",
      "255:\tlearn: 24.1710279\ttotal: 1.01s\tremaining: 2.94s\n",
      "256:\tlearn: 24.1648700\ttotal: 1.01s\tremaining: 2.93s\n",
      "257:\tlearn: 24.1603384\ttotal: 1.02s\tremaining: 2.92s\n",
      "258:\tlearn: 24.1559169\ttotal: 1.02s\tremaining: 2.92s\n",
      "259:\tlearn: 24.1453321\ttotal: 1.02s\tremaining: 2.91s\n",
      "260:\tlearn: 24.1333417\ttotal: 1.02s\tremaining: 2.9s\n",
      "261:\tlearn: 24.1172204\ttotal: 1.03s\tremaining: 2.89s\n",
      "262:\tlearn: 24.1120396\ttotal: 1.03s\tremaining: 2.88s\n",
      "263:\tlearn: 24.1049587\ttotal: 1.03s\tremaining: 2.88s\n",
      "264:\tlearn: 24.0984006\ttotal: 1.03s\tremaining: 2.87s\n",
      "265:\tlearn: 24.0924156\ttotal: 1.04s\tremaining: 2.86s\n",
      "266:\tlearn: 24.0788498\ttotal: 1.04s\tremaining: 2.86s\n",
      "267:\tlearn: 24.0742439\ttotal: 1.04s\tremaining: 2.85s\n",
      "268:\tlearn: 24.0679334\ttotal: 1.04s\tremaining: 2.84s\n",
      "269:\tlearn: 24.0612381\ttotal: 1.05s\tremaining: 2.83s\n",
      "270:\tlearn: 24.0537576\ttotal: 1.05s\tremaining: 2.83s\n",
      "271:\tlearn: 24.0404619\ttotal: 1.05s\tremaining: 2.82s\n",
      "272:\tlearn: 24.0303250\ttotal: 1.06s\tremaining: 2.81s\n",
      "273:\tlearn: 24.0179526\ttotal: 1.06s\tremaining: 2.81s\n",
      "274:\tlearn: 24.0127279\ttotal: 1.06s\tremaining: 2.8s\n",
      "275:\tlearn: 24.0056495\ttotal: 1.08s\tremaining: 2.83s\n",
      "276:\tlearn: 24.0015766\ttotal: 1.08s\tremaining: 2.83s\n",
      "277:\tlearn: 23.9911445\ttotal: 1.08s\tremaining: 2.82s\n",
      "278:\tlearn: 23.9815740\ttotal: 1.09s\tremaining: 2.81s\n",
      "279:\tlearn: 23.9736753\ttotal: 1.09s\tremaining: 2.81s\n",
      "280:\tlearn: 23.9685586\ttotal: 1.09s\tremaining: 2.8s\n",
      "281:\tlearn: 23.9619208\ttotal: 1.1s\tremaining: 2.79s\n",
      "282:\tlearn: 23.9564897\ttotal: 1.1s\tremaining: 2.79s\n",
      "283:\tlearn: 23.9463309\ttotal: 1.1s\tremaining: 2.78s\n",
      "284:\tlearn: 23.9379752\ttotal: 1.1s\tremaining: 2.77s\n",
      "285:\tlearn: 23.9330009\ttotal: 1.11s\tremaining: 2.77s\n",
      "286:\tlearn: 23.9294466\ttotal: 1.11s\tremaining: 2.76s\n",
      "287:\tlearn: 23.9250577\ttotal: 1.11s\tremaining: 2.76s\n",
      "288:\tlearn: 23.9191337\ttotal: 1.12s\tremaining: 2.75s\n",
      "289:\tlearn: 23.8968416\ttotal: 1.12s\tremaining: 2.75s\n",
      "290:\tlearn: 23.8920281\ttotal: 1.12s\tremaining: 2.74s\n",
      "291:\tlearn: 23.8871155\ttotal: 1.13s\tremaining: 2.74s\n",
      "292:\tlearn: 23.8820734\ttotal: 1.13s\tremaining: 2.73s\n",
      "293:\tlearn: 23.8778882\ttotal: 1.14s\tremaining: 2.73s\n",
      "294:\tlearn: 23.8737796\ttotal: 1.14s\tremaining: 2.73s\n",
      "295:\tlearn: 23.8690137\ttotal: 1.14s\tremaining: 2.72s\n",
      "296:\tlearn: 23.8657274\ttotal: 1.15s\tremaining: 2.71s\n",
      "297:\tlearn: 23.8604306\ttotal: 1.15s\tremaining: 2.71s\n",
      "298:\tlearn: 23.8487645\ttotal: 1.15s\tremaining: 2.7s\n",
      "299:\tlearn: 23.8379829\ttotal: 1.16s\tremaining: 2.7s\n",
      "300:\tlearn: 23.8335223\ttotal: 1.16s\tremaining: 2.69s\n",
      "301:\tlearn: 23.8231450\ttotal: 1.16s\tremaining: 2.69s\n",
      "302:\tlearn: 23.8176259\ttotal: 1.17s\tremaining: 2.68s\n",
      "303:\tlearn: 23.8100316\ttotal: 1.17s\tremaining: 2.68s\n",
      "304:\tlearn: 23.8018504\ttotal: 1.17s\tremaining: 2.67s\n",
      "305:\tlearn: 23.7970697\ttotal: 1.18s\tremaining: 2.67s\n",
      "306:\tlearn: 23.7936609\ttotal: 1.18s\tremaining: 2.67s\n",
      "307:\tlearn: 23.7889074\ttotal: 1.18s\tremaining: 2.66s\n",
      "308:\tlearn: 23.7797743\ttotal: 1.19s\tremaining: 2.65s\n",
      "309:\tlearn: 23.7750289\ttotal: 1.19s\tremaining: 2.65s\n",
      "310:\tlearn: 23.7711135\ttotal: 1.19s\tremaining: 2.64s\n",
      "311:\tlearn: 23.7670253\ttotal: 1.2s\tremaining: 2.64s\n",
      "312:\tlearn: 23.7627314\ttotal: 1.2s\tremaining: 2.63s\n",
      "313:\tlearn: 23.7586859\ttotal: 1.2s\tremaining: 2.63s\n",
      "314:\tlearn: 23.7556682\ttotal: 1.21s\tremaining: 2.62s\n",
      "315:\tlearn: 23.7521708\ttotal: 1.21s\tremaining: 2.62s\n",
      "316:\tlearn: 23.7489254\ttotal: 1.21s\tremaining: 2.61s\n",
      "317:\tlearn: 23.7444452\ttotal: 1.22s\tremaining: 2.61s\n",
      "318:\tlearn: 23.7370191\ttotal: 1.22s\tremaining: 2.6s\n",
      "319:\tlearn: 23.7266400\ttotal: 1.22s\tremaining: 2.6s\n",
      "320:\tlearn: 23.7179007\ttotal: 1.23s\tremaining: 2.59s\n",
      "321:\tlearn: 23.7123801\ttotal: 1.23s\tremaining: 2.59s\n",
      "322:\tlearn: 23.6835964\ttotal: 1.23s\tremaining: 2.58s\n",
      "323:\tlearn: 23.6775583\ttotal: 1.24s\tremaining: 2.58s\n",
      "324:\tlearn: 23.6736609\ttotal: 1.24s\tremaining: 2.57s\n",
      "325:\tlearn: 23.6671903\ttotal: 1.24s\tremaining: 2.57s\n",
      "326:\tlearn: 23.6621445\ttotal: 1.25s\tremaining: 2.56s\n",
      "327:\tlearn: 23.6557801\ttotal: 1.25s\tremaining: 2.56s\n",
      "328:\tlearn: 23.6513454\ttotal: 1.25s\tremaining: 2.55s\n",
      "329:\tlearn: 23.6485112\ttotal: 1.25s\tremaining: 2.55s\n",
      "330:\tlearn: 23.6446457\ttotal: 1.26s\tremaining: 2.54s\n",
      "331:\tlearn: 23.6404131\ttotal: 1.26s\tremaining: 2.54s\n",
      "332:\tlearn: 23.6344611\ttotal: 1.26s\tremaining: 2.53s\n",
      "333:\tlearn: 23.6320032\ttotal: 1.27s\tremaining: 2.53s\n",
      "334:\tlearn: 23.6253952\ttotal: 1.27s\tremaining: 2.52s\n",
      "335:\tlearn: 23.6195724\ttotal: 1.27s\tremaining: 2.52s\n",
      "336:\tlearn: 23.6137956\ttotal: 1.28s\tremaining: 2.51s\n",
      "337:\tlearn: 23.6056183\ttotal: 1.28s\tremaining: 2.51s\n",
      "338:\tlearn: 23.6017536\ttotal: 1.28s\tremaining: 2.5s\n",
      "339:\tlearn: 23.5961257\ttotal: 1.29s\tremaining: 2.5s\n",
      "340:\tlearn: 23.5921453\ttotal: 1.29s\tremaining: 2.5s\n",
      "341:\tlearn: 23.5885921\ttotal: 1.3s\tremaining: 2.5s\n",
      "342:\tlearn: 23.5854138\ttotal: 1.3s\tremaining: 2.49s\n",
      "343:\tlearn: 23.5793786\ttotal: 1.31s\tremaining: 2.49s\n",
      "344:\tlearn: 23.5748193\ttotal: 1.31s\tremaining: 2.49s\n",
      "345:\tlearn: 23.5712712\ttotal: 1.31s\tremaining: 2.48s\n",
      "346:\tlearn: 23.5683341\ttotal: 1.32s\tremaining: 2.48s\n",
      "347:\tlearn: 23.5629281\ttotal: 1.32s\tremaining: 2.48s\n",
      "348:\tlearn: 23.5604061\ttotal: 1.32s\tremaining: 2.47s\n",
      "349:\tlearn: 23.5573535\ttotal: 1.33s\tremaining: 2.47s\n",
      "350:\tlearn: 23.5522035\ttotal: 1.33s\tremaining: 2.46s\n",
      "351:\tlearn: 23.5490392\ttotal: 1.34s\tremaining: 2.46s\n",
      "352:\tlearn: 23.5434154\ttotal: 1.34s\tremaining: 2.46s\n",
      "353:\tlearn: 23.5411048\ttotal: 1.34s\tremaining: 2.45s\n",
      "354:\tlearn: 23.5171060\ttotal: 1.35s\tremaining: 2.45s\n",
      "355:\tlearn: 23.5082347\ttotal: 1.35s\tremaining: 2.44s\n",
      "356:\tlearn: 23.5048798\ttotal: 1.35s\tremaining: 2.44s\n",
      "357:\tlearn: 23.4981372\ttotal: 1.35s\tremaining: 2.43s\n",
      "358:\tlearn: 23.4941002\ttotal: 1.36s\tremaining: 2.42s\n",
      "359:\tlearn: 23.4908675\ttotal: 1.36s\tremaining: 2.42s\n",
      "360:\tlearn: 23.4865997\ttotal: 1.36s\tremaining: 2.41s\n",
      "361:\tlearn: 23.4640626\ttotal: 1.36s\tremaining: 2.41s\n",
      "362:\tlearn: 23.4607766\ttotal: 1.37s\tremaining: 2.4s\n",
      "363:\tlearn: 23.4558803\ttotal: 1.37s\tremaining: 2.4s\n",
      "364:\tlearn: 23.4528992\ttotal: 1.37s\tremaining: 2.39s\n",
      "365:\tlearn: 23.4498092\ttotal: 1.38s\tremaining: 2.39s\n",
      "366:\tlearn: 23.4478866\ttotal: 1.38s\tremaining: 2.38s\n",
      "367:\tlearn: 23.4388542\ttotal: 1.38s\tremaining: 2.38s\n",
      "368:\tlearn: 23.4315306\ttotal: 1.39s\tremaining: 2.37s\n",
      "369:\tlearn: 23.4276478\ttotal: 1.39s\tremaining: 2.36s\n",
      "370:\tlearn: 23.4230299\ttotal: 1.39s\tremaining: 2.36s\n",
      "371:\tlearn: 23.4139481\ttotal: 1.39s\tremaining: 2.35s\n",
      "372:\tlearn: 23.4090462\ttotal: 1.4s\tremaining: 2.35s\n",
      "373:\tlearn: 23.4045797\ttotal: 1.4s\tremaining: 2.34s\n",
      "374:\tlearn: 23.4011464\ttotal: 1.4s\tremaining: 2.34s\n",
      "375:\tlearn: 23.3978334\ttotal: 1.41s\tremaining: 2.33s\n",
      "376:\tlearn: 23.3913237\ttotal: 1.41s\tremaining: 2.33s\n",
      "377:\tlearn: 23.3847849\ttotal: 1.41s\tremaining: 2.32s\n",
      "378:\tlearn: 23.3771507\ttotal: 1.42s\tremaining: 2.32s\n",
      "379:\tlearn: 23.3724284\ttotal: 1.42s\tremaining: 2.31s\n",
      "380:\tlearn: 23.3645016\ttotal: 1.42s\tremaining: 2.31s\n",
      "381:\tlearn: 23.3610280\ttotal: 1.42s\tremaining: 2.3s\n",
      "382:\tlearn: 23.3584763\ttotal: 1.43s\tremaining: 2.3s\n",
      "383:\tlearn: 23.3525774\ttotal: 1.43s\tremaining: 2.29s\n",
      "384:\tlearn: 23.3485069\ttotal: 1.43s\tremaining: 2.29s\n",
      "385:\tlearn: 23.3431773\ttotal: 1.44s\tremaining: 2.28s\n",
      "386:\tlearn: 23.3286465\ttotal: 1.44s\tremaining: 2.28s\n",
      "387:\tlearn: 23.3251955\ttotal: 1.44s\tremaining: 2.27s\n",
      "388:\tlearn: 23.3214765\ttotal: 1.44s\tremaining: 2.27s\n",
      "389:\tlearn: 23.3112300\ttotal: 1.45s\tremaining: 2.27s\n",
      "390:\tlearn: 23.3082210\ttotal: 1.45s\tremaining: 2.26s\n",
      "391:\tlearn: 23.3048297\ttotal: 1.45s\tremaining: 2.25s\n",
      "392:\tlearn: 23.3014570\ttotal: 1.46s\tremaining: 2.25s\n",
      "393:\tlearn: 23.2951741\ttotal: 1.46s\tremaining: 2.24s\n",
      "394:\tlearn: 23.2928462\ttotal: 1.46s\tremaining: 2.24s\n",
      "395:\tlearn: 23.2905080\ttotal: 1.47s\tremaining: 2.24s\n",
      "396:\tlearn: 23.2707273\ttotal: 1.47s\tremaining: 2.23s\n",
      "397:\tlearn: 23.2641158\ttotal: 1.47s\tremaining: 2.23s\n",
      "398:\tlearn: 23.2567133\ttotal: 1.47s\tremaining: 2.22s\n",
      "399:\tlearn: 23.2529502\ttotal: 1.48s\tremaining: 2.22s\n",
      "400:\tlearn: 23.2458725\ttotal: 1.48s\tremaining: 2.21s\n",
      "401:\tlearn: 23.2428068\ttotal: 1.48s\tremaining: 2.21s\n",
      "402:\tlearn: 23.2396936\ttotal: 1.49s\tremaining: 2.21s\n",
      "403:\tlearn: 23.2373690\ttotal: 1.5s\tremaining: 2.21s\n",
      "404:\tlearn: 23.2348074\ttotal: 1.5s\tremaining: 2.2s\n",
      "405:\tlearn: 23.2317838\ttotal: 1.5s\tremaining: 2.2s\n",
      "406:\tlearn: 23.2277029\ttotal: 1.5s\tremaining: 2.19s\n",
      "407:\tlearn: 23.2162828\ttotal: 1.51s\tremaining: 2.19s\n",
      "408:\tlearn: 23.2082328\ttotal: 1.51s\tremaining: 2.18s\n",
      "409:\tlearn: 23.2046588\ttotal: 1.51s\tremaining: 2.18s\n",
      "410:\tlearn: 23.2010451\ttotal: 1.51s\tremaining: 2.17s\n",
      "411:\tlearn: 23.1954720\ttotal: 1.52s\tremaining: 2.17s\n",
      "412:\tlearn: 23.1915242\ttotal: 1.52s\tremaining: 2.16s\n",
      "413:\tlearn: 23.1881022\ttotal: 1.52s\tremaining: 2.15s\n",
      "414:\tlearn: 23.1685147\ttotal: 1.52s\tremaining: 2.15s\n",
      "415:\tlearn: 23.1591175\ttotal: 1.53s\tremaining: 2.15s\n",
      "416:\tlearn: 23.1553743\ttotal: 1.53s\tremaining: 2.14s\n",
      "417:\tlearn: 23.1527375\ttotal: 1.53s\tremaining: 2.14s\n",
      "418:\tlearn: 23.1330323\ttotal: 1.54s\tremaining: 2.13s\n",
      "419:\tlearn: 23.1161286\ttotal: 1.54s\tremaining: 2.13s\n",
      "420:\tlearn: 23.1135127\ttotal: 1.54s\tremaining: 2.12s\n",
      "421:\tlearn: 23.1108270\ttotal: 1.54s\tremaining: 2.12s\n",
      "422:\tlearn: 23.1077101\ttotal: 1.55s\tremaining: 2.11s\n",
      "423:\tlearn: 23.1014009\ttotal: 1.55s\tremaining: 2.11s\n",
      "424:\tlearn: 23.0958862\ttotal: 1.55s\tremaining: 2.1s\n",
      "425:\tlearn: 23.0938230\ttotal: 1.55s\tremaining: 2.1s\n",
      "426:\tlearn: 23.0834634\ttotal: 1.56s\tremaining: 2.09s\n",
      "427:\tlearn: 23.0773595\ttotal: 1.56s\tremaining: 2.09s\n",
      "428:\tlearn: 23.0711442\ttotal: 1.56s\tremaining: 2.08s\n",
      "429:\tlearn: 23.0528279\ttotal: 1.57s\tremaining: 2.08s\n",
      "430:\tlearn: 23.0478744\ttotal: 1.57s\tremaining: 2.07s\n",
      "431:\tlearn: 23.0453205\ttotal: 1.57s\tremaining: 2.07s\n",
      "432:\tlearn: 23.0424226\ttotal: 1.57s\tremaining: 2.06s\n",
      "433:\tlearn: 23.0375384\ttotal: 1.58s\tremaining: 2.06s\n",
      "434:\tlearn: 23.0346401\ttotal: 1.58s\tremaining: 2.05s\n",
      "435:\tlearn: 23.0312549\ttotal: 1.58s\tremaining: 2.05s\n",
      "436:\tlearn: 23.0260270\ttotal: 1.59s\tremaining: 2.04s\n",
      "437:\tlearn: 23.0216018\ttotal: 1.59s\tremaining: 2.04s\n",
      "438:\tlearn: 23.0199428\ttotal: 1.59s\tremaining: 2.03s\n",
      "439:\tlearn: 23.0182977\ttotal: 1.59s\tremaining: 2.03s\n",
      "440:\tlearn: 23.0166916\ttotal: 1.6s\tremaining: 2.02s\n",
      "441:\tlearn: 23.0126966\ttotal: 1.6s\tremaining: 2.02s\n",
      "442:\tlearn: 23.0076823\ttotal: 1.6s\tremaining: 2.01s\n",
      "443:\tlearn: 23.0040676\ttotal: 1.6s\tremaining: 2.01s\n",
      "444:\tlearn: 23.0013913\ttotal: 1.61s\tremaining: 2s\n",
      "445:\tlearn: 22.9971519\ttotal: 1.61s\tremaining: 2s\n",
      "446:\tlearn: 22.9947591\ttotal: 1.61s\tremaining: 2s\n",
      "447:\tlearn: 22.9853371\ttotal: 1.61s\tremaining: 1.99s\n",
      "448:\tlearn: 22.9810193\ttotal: 1.62s\tremaining: 1.99s\n",
      "449:\tlearn: 22.9750318\ttotal: 1.62s\tremaining: 1.98s\n",
      "450:\tlearn: 22.9692473\ttotal: 1.63s\tremaining: 1.98s\n",
      "451:\tlearn: 22.9672163\ttotal: 1.63s\tremaining: 1.98s\n",
      "452:\tlearn: 22.9640953\ttotal: 1.63s\tremaining: 1.97s\n",
      "453:\tlearn: 22.9488728\ttotal: 1.64s\tremaining: 1.97s\n",
      "454:\tlearn: 22.9452164\ttotal: 1.64s\tremaining: 1.96s\n",
      "455:\tlearn: 22.9405175\ttotal: 1.64s\tremaining: 1.96s\n",
      "456:\tlearn: 22.9372471\ttotal: 1.64s\tremaining: 1.95s\n",
      "457:\tlearn: 22.9349690\ttotal: 1.65s\tremaining: 1.95s\n",
      "458:\tlearn: 22.9286500\ttotal: 1.65s\tremaining: 1.94s\n",
      "459:\tlearn: 22.9264835\ttotal: 1.65s\tremaining: 1.94s\n",
      "460:\tlearn: 22.9221629\ttotal: 1.66s\tremaining: 1.94s\n",
      "461:\tlearn: 22.9187393\ttotal: 1.66s\tremaining: 1.93s\n",
      "462:\tlearn: 22.9149488\ttotal: 1.66s\tremaining: 1.93s\n",
      "463:\tlearn: 22.9118063\ttotal: 1.66s\tremaining: 1.92s\n",
      "464:\tlearn: 22.9098288\ttotal: 1.66s\tremaining: 1.92s\n",
      "465:\tlearn: 22.9072394\ttotal: 1.67s\tremaining: 1.91s\n",
      "466:\tlearn: 22.9025691\ttotal: 1.67s\tremaining: 1.9s\n",
      "467:\tlearn: 22.8976725\ttotal: 1.67s\tremaining: 1.9s\n",
      "468:\tlearn: 22.8948314\ttotal: 1.67s\tremaining: 1.89s\n",
      "469:\tlearn: 22.8893779\ttotal: 1.68s\tremaining: 1.89s\n",
      "470:\tlearn: 22.8830586\ttotal: 1.68s\tremaining: 1.88s\n",
      "471:\tlearn: 22.8800700\ttotal: 1.68s\tremaining: 1.88s\n",
      "472:\tlearn: 22.8780077\ttotal: 1.68s\tremaining: 1.88s\n",
      "473:\tlearn: 22.8745071\ttotal: 1.69s\tremaining: 1.87s\n",
      "474:\tlearn: 22.8716054\ttotal: 1.69s\tremaining: 1.86s\n",
      "475:\tlearn: 22.8666968\ttotal: 1.69s\tremaining: 1.86s\n",
      "476:\tlearn: 22.8643982\ttotal: 1.69s\tremaining: 1.86s\n",
      "477:\tlearn: 22.8597702\ttotal: 1.7s\tremaining: 1.85s\n",
      "478:\tlearn: 22.8577335\ttotal: 1.7s\tremaining: 1.85s\n",
      "479:\tlearn: 22.8561148\ttotal: 1.7s\tremaining: 1.84s\n",
      "480:\tlearn: 22.8494775\ttotal: 1.7s\tremaining: 1.84s\n",
      "481:\tlearn: 22.8477271\ttotal: 1.71s\tremaining: 1.83s\n",
      "482:\tlearn: 22.8346971\ttotal: 1.71s\tremaining: 1.83s\n",
      "483:\tlearn: 22.8290515\ttotal: 1.71s\tremaining: 1.82s\n",
      "484:\tlearn: 22.8271947\ttotal: 1.71s\tremaining: 1.82s\n",
      "485:\tlearn: 22.8240682\ttotal: 1.72s\tremaining: 1.81s\n",
      "486:\tlearn: 22.8206958\ttotal: 1.72s\tremaining: 1.81s\n",
      "487:\tlearn: 22.8159426\ttotal: 1.72s\tremaining: 1.81s\n",
      "488:\tlearn: 22.8130458\ttotal: 1.73s\tremaining: 1.8s\n",
      "489:\tlearn: 22.8092623\ttotal: 1.73s\tremaining: 1.8s\n",
      "490:\tlearn: 22.7917054\ttotal: 1.73s\tremaining: 1.79s\n",
      "491:\tlearn: 22.7893901\ttotal: 1.74s\tremaining: 1.79s\n",
      "492:\tlearn: 22.7871567\ttotal: 1.74s\tremaining: 1.79s\n",
      "493:\tlearn: 22.7810595\ttotal: 1.75s\tremaining: 1.79s\n",
      "494:\tlearn: 22.7726378\ttotal: 1.75s\tremaining: 1.78s\n",
      "495:\tlearn: 22.7703448\ttotal: 1.75s\tremaining: 1.78s\n",
      "496:\tlearn: 22.7683132\ttotal: 1.75s\tremaining: 1.77s\n",
      "497:\tlearn: 22.7657691\ttotal: 1.76s\tremaining: 1.77s\n",
      "498:\tlearn: 22.7617396\ttotal: 1.76s\tremaining: 1.77s\n",
      "499:\tlearn: 22.7596963\ttotal: 1.76s\tremaining: 1.76s\n",
      "500:\tlearn: 22.7574648\ttotal: 1.76s\tremaining: 1.76s\n",
      "501:\tlearn: 22.7555025\ttotal: 1.77s\tremaining: 1.75s\n",
      "502:\tlearn: 22.7529515\ttotal: 1.77s\tremaining: 1.75s\n",
      "503:\tlearn: 22.7480141\ttotal: 1.77s\tremaining: 1.75s\n",
      "504:\tlearn: 22.7451393\ttotal: 1.78s\tremaining: 1.74s\n",
      "505:\tlearn: 22.7416648\ttotal: 1.78s\tremaining: 1.74s\n",
      "506:\tlearn: 22.7396546\ttotal: 1.78s\tremaining: 1.73s\n",
      "507:\tlearn: 22.7384755\ttotal: 1.78s\tremaining: 1.73s\n",
      "508:\tlearn: 22.7352268\ttotal: 1.79s\tremaining: 1.73s\n",
      "509:\tlearn: 22.7333416\ttotal: 1.79s\tremaining: 1.72s\n",
      "510:\tlearn: 22.7306413\ttotal: 1.79s\tremaining: 1.72s\n",
      "511:\tlearn: 22.7280219\ttotal: 1.8s\tremaining: 1.71s\n",
      "512:\tlearn: 22.7269366\ttotal: 1.8s\tremaining: 1.71s\n",
      "513:\tlearn: 22.7253585\ttotal: 1.8s\tremaining: 1.7s\n",
      "514:\tlearn: 22.7218948\ttotal: 1.8s\tremaining: 1.7s\n",
      "515:\tlearn: 22.7197698\ttotal: 1.81s\tremaining: 1.7s\n",
      "516:\tlearn: 22.7183981\ttotal: 1.81s\tremaining: 1.69s\n",
      "517:\tlearn: 22.7153099\ttotal: 1.81s\tremaining: 1.69s\n",
      "518:\tlearn: 22.7120024\ttotal: 1.81s\tremaining: 1.68s\n",
      "519:\tlearn: 22.7097378\ttotal: 1.82s\tremaining: 1.68s\n",
      "520:\tlearn: 22.7045068\ttotal: 1.82s\tremaining: 1.67s\n",
      "521:\tlearn: 22.7029152\ttotal: 1.82s\tremaining: 1.67s\n",
      "522:\tlearn: 22.7005767\ttotal: 1.82s\tremaining: 1.66s\n",
      "523:\tlearn: 22.6962020\ttotal: 1.83s\tremaining: 1.66s\n",
      "524:\tlearn: 22.6916507\ttotal: 1.83s\tremaining: 1.66s\n",
      "525:\tlearn: 22.6844202\ttotal: 1.83s\tremaining: 1.65s\n",
      "526:\tlearn: 22.6823988\ttotal: 1.83s\tremaining: 1.65s\n",
      "527:\tlearn: 22.6690555\ttotal: 1.84s\tremaining: 1.64s\n",
      "528:\tlearn: 22.6634858\ttotal: 1.84s\tremaining: 1.64s\n",
      "529:\tlearn: 22.6607279\ttotal: 1.84s\tremaining: 1.63s\n",
      "530:\tlearn: 22.6560364\ttotal: 1.85s\tremaining: 1.63s\n",
      "531:\tlearn: 22.6484620\ttotal: 1.85s\tremaining: 1.63s\n",
      "532:\tlearn: 22.6476447\ttotal: 1.85s\tremaining: 1.62s\n",
      "533:\tlearn: 22.6396859\ttotal: 1.85s\tremaining: 1.62s\n",
      "534:\tlearn: 22.6354659\ttotal: 1.86s\tremaining: 1.61s\n",
      "535:\tlearn: 22.6342507\ttotal: 1.86s\tremaining: 1.61s\n",
      "536:\tlearn: 22.6298089\ttotal: 1.86s\tremaining: 1.6s\n",
      "537:\tlearn: 22.6263619\ttotal: 1.86s\tremaining: 1.6s\n",
      "538:\tlearn: 22.6245224\ttotal: 1.87s\tremaining: 1.6s\n",
      "539:\tlearn: 22.6216795\ttotal: 1.87s\tremaining: 1.59s\n",
      "540:\tlearn: 22.6155487\ttotal: 1.87s\tremaining: 1.59s\n",
      "541:\tlearn: 22.6144562\ttotal: 1.87s\tremaining: 1.58s\n",
      "542:\tlearn: 22.6119917\ttotal: 1.88s\tremaining: 1.58s\n",
      "543:\tlearn: 22.6060498\ttotal: 1.88s\tremaining: 1.57s\n",
      "544:\tlearn: 22.5850624\ttotal: 1.88s\tremaining: 1.57s\n",
      "545:\tlearn: 22.5820930\ttotal: 1.88s\tremaining: 1.56s\n",
      "546:\tlearn: 22.5772977\ttotal: 1.89s\tremaining: 1.56s\n",
      "547:\tlearn: 22.5761184\ttotal: 1.89s\tremaining: 1.56s\n",
      "548:\tlearn: 22.5745134\ttotal: 1.89s\tremaining: 1.55s\n",
      "549:\tlearn: 22.5711632\ttotal: 1.89s\tremaining: 1.55s\n",
      "550:\tlearn: 22.5686031\ttotal: 1.9s\tremaining: 1.54s\n",
      "551:\tlearn: 22.5654566\ttotal: 1.9s\tremaining: 1.54s\n",
      "552:\tlearn: 22.5631961\ttotal: 1.9s\tremaining: 1.54s\n",
      "553:\tlearn: 22.5615126\ttotal: 1.9s\tremaining: 1.53s\n",
      "554:\tlearn: 22.5600350\ttotal: 1.91s\tremaining: 1.53s\n",
      "555:\tlearn: 22.5562584\ttotal: 1.91s\tremaining: 1.52s\n",
      "556:\tlearn: 22.5520525\ttotal: 1.91s\tremaining: 1.52s\n",
      "557:\tlearn: 22.5485128\ttotal: 1.91s\tremaining: 1.51s\n",
      "558:\tlearn: 22.5470818\ttotal: 1.92s\tremaining: 1.51s\n",
      "559:\tlearn: 22.5424010\ttotal: 1.92s\tremaining: 1.51s\n",
      "560:\tlearn: 22.5407226\ttotal: 1.92s\tremaining: 1.5s\n",
      "561:\tlearn: 22.5384179\ttotal: 1.92s\tremaining: 1.5s\n",
      "562:\tlearn: 22.5344876\ttotal: 1.93s\tremaining: 1.49s\n",
      "563:\tlearn: 22.5326695\ttotal: 1.93s\tremaining: 1.49s\n",
      "564:\tlearn: 22.5301963\ttotal: 1.93s\tremaining: 1.49s\n",
      "565:\tlearn: 22.5281613\ttotal: 1.93s\tremaining: 1.48s\n",
      "566:\tlearn: 22.5260016\ttotal: 1.94s\tremaining: 1.48s\n",
      "567:\tlearn: 22.5221903\ttotal: 1.94s\tremaining: 1.48s\n",
      "568:\tlearn: 22.5175992\ttotal: 1.94s\tremaining: 1.47s\n",
      "569:\tlearn: 22.5157645\ttotal: 1.94s\tremaining: 1.47s\n",
      "570:\tlearn: 22.5043759\ttotal: 1.95s\tremaining: 1.46s\n",
      "571:\tlearn: 22.5033149\ttotal: 1.95s\tremaining: 1.46s\n",
      "572:\tlearn: 22.5004774\ttotal: 1.95s\tremaining: 1.46s\n",
      "573:\tlearn: 22.4983845\ttotal: 1.96s\tremaining: 1.45s\n",
      "574:\tlearn: 22.4967429\ttotal: 1.96s\tremaining: 1.45s\n",
      "575:\tlearn: 22.4929684\ttotal: 1.96s\tremaining: 1.45s\n",
      "576:\tlearn: 22.4916075\ttotal: 1.97s\tremaining: 1.44s\n",
      "577:\tlearn: 22.4898782\ttotal: 1.97s\tremaining: 1.44s\n",
      "578:\tlearn: 22.4774935\ttotal: 1.97s\tremaining: 1.43s\n",
      "579:\tlearn: 22.4729250\ttotal: 1.98s\tremaining: 1.43s\n",
      "580:\tlearn: 22.4710975\ttotal: 1.99s\tremaining: 1.43s\n",
      "581:\tlearn: 22.4670871\ttotal: 1.99s\tremaining: 1.43s\n",
      "582:\tlearn: 22.4474570\ttotal: 1.99s\tremaining: 1.43s\n",
      "583:\tlearn: 22.4460309\ttotal: 2s\tremaining: 1.42s\n",
      "584:\tlearn: 22.4445742\ttotal: 2s\tremaining: 1.42s\n",
      "585:\tlearn: 22.4378554\ttotal: 2s\tremaining: 1.42s\n",
      "586:\tlearn: 22.4356114\ttotal: 2.01s\tremaining: 1.41s\n",
      "587:\tlearn: 22.4308086\ttotal: 2.01s\tremaining: 1.41s\n",
      "588:\tlearn: 22.4270561\ttotal: 2.02s\tremaining: 1.41s\n",
      "589:\tlearn: 22.4256843\ttotal: 2.02s\tremaining: 1.4s\n",
      "590:\tlearn: 22.4229808\ttotal: 2.02s\tremaining: 1.4s\n",
      "591:\tlearn: 22.4168209\ttotal: 2.03s\tremaining: 1.4s\n",
      "592:\tlearn: 22.4142971\ttotal: 2.03s\tremaining: 1.39s\n",
      "593:\tlearn: 22.4084928\ttotal: 2.03s\tremaining: 1.39s\n",
      "594:\tlearn: 22.4047182\ttotal: 2.04s\tremaining: 1.39s\n",
      "595:\tlearn: 22.4003921\ttotal: 2.04s\tremaining: 1.38s\n",
      "596:\tlearn: 22.3964811\ttotal: 2.04s\tremaining: 1.38s\n",
      "597:\tlearn: 22.3942582\ttotal: 2.04s\tremaining: 1.38s\n",
      "598:\tlearn: 22.3920703\ttotal: 2.05s\tremaining: 1.37s\n",
      "599:\tlearn: 22.3735939\ttotal: 2.05s\tremaining: 1.37s\n",
      "600:\tlearn: 22.3693631\ttotal: 2.06s\tremaining: 1.36s\n",
      "601:\tlearn: 22.3670670\ttotal: 2.06s\tremaining: 1.36s\n",
      "602:\tlearn: 22.3641684\ttotal: 2.06s\tremaining: 1.36s\n",
      "603:\tlearn: 22.3618689\ttotal: 2.06s\tremaining: 1.35s\n",
      "604:\tlearn: 22.3585310\ttotal: 2.07s\tremaining: 1.35s\n",
      "605:\tlearn: 22.3488613\ttotal: 2.07s\tremaining: 1.34s\n",
      "606:\tlearn: 22.3470823\ttotal: 2.07s\tremaining: 1.34s\n",
      "607:\tlearn: 22.3454932\ttotal: 2.08s\tremaining: 1.34s\n",
      "608:\tlearn: 22.3413487\ttotal: 2.08s\tremaining: 1.33s\n",
      "609:\tlearn: 22.3399533\ttotal: 2.08s\tremaining: 1.33s\n",
      "610:\tlearn: 22.3362026\ttotal: 2.08s\tremaining: 1.33s\n",
      "611:\tlearn: 22.3346975\ttotal: 2.09s\tremaining: 1.32s\n",
      "612:\tlearn: 22.3319380\ttotal: 2.09s\tremaining: 1.32s\n",
      "613:\tlearn: 22.3278868\ttotal: 2.09s\tremaining: 1.31s\n",
      "614:\tlearn: 22.3250688\ttotal: 2.09s\tremaining: 1.31s\n",
      "615:\tlearn: 22.3226009\ttotal: 2.1s\tremaining: 1.31s\n",
      "616:\tlearn: 22.3158427\ttotal: 2.1s\tremaining: 1.3s\n",
      "617:\tlearn: 22.3142007\ttotal: 2.1s\tremaining: 1.3s\n",
      "618:\tlearn: 22.3104880\ttotal: 2.1s\tremaining: 1.29s\n",
      "619:\tlearn: 22.3080262\ttotal: 2.11s\tremaining: 1.29s\n",
      "620:\tlearn: 22.3061382\ttotal: 2.11s\tremaining: 1.29s\n",
      "621:\tlearn: 22.3047958\ttotal: 2.11s\tremaining: 1.28s\n",
      "622:\tlearn: 22.2993961\ttotal: 2.12s\tremaining: 1.28s\n",
      "623:\tlearn: 22.2941546\ttotal: 2.12s\tremaining: 1.28s\n",
      "624:\tlearn: 22.2919258\ttotal: 2.12s\tremaining: 1.27s\n",
      "625:\tlearn: 22.2726399\ttotal: 2.12s\tremaining: 1.27s\n",
      "626:\tlearn: 22.2667572\ttotal: 2.13s\tremaining: 1.27s\n",
      "627:\tlearn: 22.2641524\ttotal: 2.13s\tremaining: 1.26s\n",
      "628:\tlearn: 22.2595423\ttotal: 2.13s\tremaining: 1.26s\n",
      "629:\tlearn: 22.2571983\ttotal: 2.14s\tremaining: 1.25s\n",
      "630:\tlearn: 22.2550061\ttotal: 2.14s\tremaining: 1.25s\n",
      "631:\tlearn: 22.2510600\ttotal: 2.14s\tremaining: 1.25s\n",
      "632:\tlearn: 22.2418920\ttotal: 2.15s\tremaining: 1.24s\n",
      "633:\tlearn: 22.2408453\ttotal: 2.15s\tremaining: 1.24s\n",
      "634:\tlearn: 22.2360111\ttotal: 2.15s\tremaining: 1.24s\n",
      "635:\tlearn: 22.2344451\ttotal: 2.15s\tremaining: 1.23s\n",
      "636:\tlearn: 22.2329739\ttotal: 2.15s\tremaining: 1.23s\n",
      "637:\tlearn: 22.2315327\ttotal: 2.16s\tremaining: 1.22s\n",
      "638:\tlearn: 22.2278300\ttotal: 2.16s\tremaining: 1.22s\n",
      "639:\tlearn: 22.2268445\ttotal: 2.16s\tremaining: 1.22s\n",
      "640:\tlearn: 22.2254374\ttotal: 2.16s\tremaining: 1.21s\n",
      "641:\tlearn: 22.2238957\ttotal: 2.17s\tremaining: 1.21s\n",
      "642:\tlearn: 22.2229624\ttotal: 2.17s\tremaining: 1.2s\n",
      "643:\tlearn: 22.2212521\ttotal: 2.17s\tremaining: 1.2s\n",
      "644:\tlearn: 22.2202056\ttotal: 2.17s\tremaining: 1.2s\n",
      "645:\tlearn: 22.2186085\ttotal: 2.18s\tremaining: 1.19s\n",
      "646:\tlearn: 22.2147828\ttotal: 2.18s\tremaining: 1.19s\n",
      "647:\tlearn: 22.2127564\ttotal: 2.18s\tremaining: 1.18s\n",
      "648:\tlearn: 22.2115859\ttotal: 2.18s\tremaining: 1.18s\n",
      "649:\tlearn: 22.2088608\ttotal: 2.19s\tremaining: 1.18s\n",
      "650:\tlearn: 22.2064893\ttotal: 2.19s\tremaining: 1.17s\n",
      "651:\tlearn: 22.2020003\ttotal: 2.19s\tremaining: 1.17s\n",
      "652:\tlearn: 22.2005753\ttotal: 2.19s\tremaining: 1.17s\n",
      "653:\tlearn: 22.1973935\ttotal: 2.19s\tremaining: 1.16s\n",
      "654:\tlearn: 22.1951154\ttotal: 2.2s\tremaining: 1.16s\n",
      "655:\tlearn: 22.1925929\ttotal: 2.2s\tremaining: 1.15s\n",
      "656:\tlearn: 22.1916957\ttotal: 2.2s\tremaining: 1.15s\n",
      "657:\tlearn: 22.1864274\ttotal: 2.21s\tremaining: 1.15s\n",
      "658:\tlearn: 22.1843375\ttotal: 2.21s\tremaining: 1.14s\n",
      "659:\tlearn: 22.1749350\ttotal: 2.21s\tremaining: 1.14s\n",
      "660:\tlearn: 22.1722984\ttotal: 2.21s\tremaining: 1.13s\n",
      "661:\tlearn: 22.1705765\ttotal: 2.21s\tremaining: 1.13s\n",
      "662:\tlearn: 22.1663875\ttotal: 2.22s\tremaining: 1.13s\n",
      "663:\tlearn: 22.1643509\ttotal: 2.22s\tremaining: 1.12s\n",
      "664:\tlearn: 22.1618061\ttotal: 2.22s\tremaining: 1.12s\n",
      "665:\tlearn: 22.1603435\ttotal: 2.22s\tremaining: 1.11s\n",
      "666:\tlearn: 22.1565961\ttotal: 2.23s\tremaining: 1.11s\n",
      "667:\tlearn: 22.1552826\ttotal: 2.23s\tremaining: 1.11s\n",
      "668:\tlearn: 22.1526246\ttotal: 2.23s\tremaining: 1.1s\n",
      "669:\tlearn: 22.1515607\ttotal: 2.23s\tremaining: 1.1s\n",
      "670:\tlearn: 22.1423904\ttotal: 2.24s\tremaining: 1.1s\n",
      "671:\tlearn: 22.1370511\ttotal: 2.24s\tremaining: 1.09s\n",
      "672:\tlearn: 22.1323827\ttotal: 2.24s\tremaining: 1.09s\n",
      "673:\tlearn: 22.1310514\ttotal: 2.24s\tremaining: 1.08s\n",
      "674:\tlearn: 22.1262488\ttotal: 2.25s\tremaining: 1.08s\n",
      "675:\tlearn: 22.1252232\ttotal: 2.25s\tremaining: 1.08s\n",
      "676:\tlearn: 22.1209698\ttotal: 2.25s\tremaining: 1.07s\n",
      "677:\tlearn: 22.1140406\ttotal: 2.25s\tremaining: 1.07s\n",
      "678:\tlearn: 22.1093917\ttotal: 2.26s\tremaining: 1.07s\n",
      "679:\tlearn: 22.1085588\ttotal: 2.26s\tremaining: 1.06s\n",
      "680:\tlearn: 22.1077921\ttotal: 2.26s\tremaining: 1.06s\n",
      "681:\tlearn: 22.1051923\ttotal: 2.26s\tremaining: 1.05s\n",
      "682:\tlearn: 22.1032814\ttotal: 2.27s\tremaining: 1.05s\n",
      "683:\tlearn: 22.1008716\ttotal: 2.27s\tremaining: 1.05s\n",
      "684:\tlearn: 22.0994045\ttotal: 2.27s\tremaining: 1.04s\n",
      "685:\tlearn: 22.0981953\ttotal: 2.27s\tremaining: 1.04s\n",
      "686:\tlearn: 22.0965673\ttotal: 2.28s\tremaining: 1.04s\n",
      "687:\tlearn: 22.0952829\ttotal: 2.28s\tremaining: 1.03s\n",
      "688:\tlearn: 22.0940144\ttotal: 2.28s\tremaining: 1.03s\n",
      "689:\tlearn: 22.0923511\ttotal: 2.28s\tremaining: 1.02s\n",
      "690:\tlearn: 22.0883694\ttotal: 2.29s\tremaining: 1.02s\n",
      "691:\tlearn: 22.0854563\ttotal: 2.29s\tremaining: 1.02s\n",
      "692:\tlearn: 22.0754224\ttotal: 2.29s\tremaining: 1.01s\n",
      "693:\tlearn: 22.0738375\ttotal: 2.29s\tremaining: 1.01s\n",
      "694:\tlearn: 22.0714046\ttotal: 2.29s\tremaining: 1.01s\n",
      "695:\tlearn: 22.0703883\ttotal: 2.3s\tremaining: 1s\n",
      "696:\tlearn: 22.0660657\ttotal: 2.3s\tremaining: 1s\n",
      "697:\tlearn: 22.0620175\ttotal: 2.3s\tremaining: 996ms\n",
      "698:\tlearn: 22.0599433\ttotal: 2.31s\tremaining: 993ms\n",
      "699:\tlearn: 22.0571258\ttotal: 2.31s\tremaining: 989ms\n",
      "700:\tlearn: 22.0547328\ttotal: 2.31s\tremaining: 986ms\n",
      "701:\tlearn: 22.0521913\ttotal: 2.31s\tremaining: 983ms\n",
      "702:\tlearn: 22.0510673\ttotal: 2.32s\tremaining: 979ms\n",
      "703:\tlearn: 22.0498080\ttotal: 2.32s\tremaining: 976ms\n",
      "704:\tlearn: 22.0424485\ttotal: 2.32s\tremaining: 972ms\n",
      "705:\tlearn: 22.0398052\ttotal: 2.33s\tremaining: 968ms\n",
      "706:\tlearn: 22.0389993\ttotal: 2.33s\tremaining: 965ms\n",
      "707:\tlearn: 22.0366001\ttotal: 2.33s\tremaining: 961ms\n",
      "708:\tlearn: 22.0339936\ttotal: 2.33s\tremaining: 957ms\n",
      "709:\tlearn: 22.0318524\ttotal: 2.33s\tremaining: 954ms\n",
      "710:\tlearn: 22.0261774\ttotal: 2.34s\tremaining: 951ms\n",
      "711:\tlearn: 22.0226045\ttotal: 2.34s\tremaining: 947ms\n",
      "712:\tlearn: 22.0192101\ttotal: 2.34s\tremaining: 944ms\n",
      "713:\tlearn: 22.0173011\ttotal: 2.35s\tremaining: 940ms\n",
      "714:\tlearn: 22.0159109\ttotal: 2.35s\tremaining: 937ms\n",
      "715:\tlearn: 22.0110343\ttotal: 2.35s\tremaining: 933ms\n",
      "716:\tlearn: 22.0097694\ttotal: 2.35s\tremaining: 930ms\n",
      "717:\tlearn: 22.0084913\ttotal: 2.36s\tremaining: 926ms\n",
      "718:\tlearn: 22.0062968\ttotal: 2.36s\tremaining: 923ms\n",
      "719:\tlearn: 22.0038439\ttotal: 2.36s\tremaining: 919ms\n",
      "720:\tlearn: 22.0006728\ttotal: 2.37s\tremaining: 916ms\n",
      "721:\tlearn: 21.9977845\ttotal: 2.37s\tremaining: 912ms\n",
      "722:\tlearn: 21.9843258\ttotal: 2.37s\tremaining: 909ms\n",
      "723:\tlearn: 21.9821481\ttotal: 2.37s\tremaining: 905ms\n",
      "724:\tlearn: 21.9796669\ttotal: 2.38s\tremaining: 902ms\n",
      "725:\tlearn: 21.9781573\ttotal: 2.38s\tremaining: 898ms\n",
      "726:\tlearn: 21.9742916\ttotal: 2.38s\tremaining: 895ms\n",
      "727:\tlearn: 21.9698095\ttotal: 2.38s\tremaining: 891ms\n",
      "728:\tlearn: 21.9671799\ttotal: 2.39s\tremaining: 888ms\n",
      "729:\tlearn: 21.9639547\ttotal: 2.39s\tremaining: 884ms\n",
      "730:\tlearn: 21.9628280\ttotal: 2.39s\tremaining: 881ms\n",
      "731:\tlearn: 21.9471478\ttotal: 2.4s\tremaining: 877ms\n",
      "732:\tlearn: 21.9438553\ttotal: 2.4s\tremaining: 874ms\n",
      "733:\tlearn: 21.9411744\ttotal: 2.4s\tremaining: 870ms\n",
      "734:\tlearn: 21.9393004\ttotal: 2.4s\tremaining: 867ms\n",
      "735:\tlearn: 21.9359192\ttotal: 2.41s\tremaining: 863ms\n",
      "736:\tlearn: 21.9343574\ttotal: 2.41s\tremaining: 860ms\n",
      "737:\tlearn: 21.9311546\ttotal: 2.41s\tremaining: 856ms\n",
      "738:\tlearn: 21.9205204\ttotal: 2.42s\tremaining: 853ms\n",
      "739:\tlearn: 21.9171008\ttotal: 2.42s\tremaining: 850ms\n",
      "740:\tlearn: 21.9161689\ttotal: 2.42s\tremaining: 846ms\n",
      "741:\tlearn: 21.9142910\ttotal: 2.42s\tremaining: 843ms\n",
      "742:\tlearn: 21.9097643\ttotal: 2.43s\tremaining: 839ms\n",
      "743:\tlearn: 21.9081031\ttotal: 2.43s\tremaining: 836ms\n",
      "744:\tlearn: 21.9053766\ttotal: 2.43s\tremaining: 832ms\n",
      "745:\tlearn: 21.9026572\ttotal: 2.43s\tremaining: 829ms\n",
      "746:\tlearn: 21.9012986\ttotal: 2.44s\tremaining: 826ms\n",
      "747:\tlearn: 21.8976197\ttotal: 2.44s\tremaining: 822ms\n",
      "748:\tlearn: 21.8958046\ttotal: 2.44s\tremaining: 819ms\n",
      "749:\tlearn: 21.8889298\ttotal: 2.44s\tremaining: 815ms\n",
      "750:\tlearn: 21.8879307\ttotal: 2.45s\tremaining: 812ms\n",
      "751:\tlearn: 21.8733377\ttotal: 2.45s\tremaining: 808ms\n",
      "752:\tlearn: 21.8707476\ttotal: 2.45s\tremaining: 805ms\n",
      "753:\tlearn: 21.8651374\ttotal: 2.46s\tremaining: 802ms\n",
      "754:\tlearn: 21.8592157\ttotal: 2.46s\tremaining: 798ms\n",
      "755:\tlearn: 21.8571502\ttotal: 2.46s\tremaining: 795ms\n",
      "756:\tlearn: 21.8560321\ttotal: 2.46s\tremaining: 791ms\n",
      "757:\tlearn: 21.8537551\ttotal: 2.47s\tremaining: 788ms\n",
      "758:\tlearn: 21.8523279\ttotal: 2.47s\tremaining: 784ms\n",
      "759:\tlearn: 21.8512401\ttotal: 2.47s\tremaining: 781ms\n",
      "760:\tlearn: 21.8500007\ttotal: 2.47s\tremaining: 777ms\n",
      "761:\tlearn: 21.8493214\ttotal: 2.48s\tremaining: 774ms\n",
      "762:\tlearn: 21.8467764\ttotal: 2.48s\tremaining: 770ms\n",
      "763:\tlearn: 21.8439986\ttotal: 2.48s\tremaining: 767ms\n",
      "764:\tlearn: 21.8414189\ttotal: 2.48s\tremaining: 764ms\n",
      "765:\tlearn: 21.8400947\ttotal: 2.49s\tremaining: 760ms\n",
      "766:\tlearn: 21.8389800\ttotal: 2.49s\tremaining: 756ms\n",
      "767:\tlearn: 21.8365731\ttotal: 2.49s\tremaining: 753ms\n",
      "768:\tlearn: 21.8349998\ttotal: 2.49s\tremaining: 749ms\n",
      "769:\tlearn: 21.8339861\ttotal: 2.5s\tremaining: 746ms\n",
      "770:\tlearn: 21.8322316\ttotal: 2.5s\tremaining: 742ms\n",
      "771:\tlearn: 21.8304456\ttotal: 2.5s\tremaining: 739ms\n",
      "772:\tlearn: 21.8282372\ttotal: 2.5s\tremaining: 736ms\n",
      "773:\tlearn: 21.8267570\ttotal: 2.51s\tremaining: 732ms\n",
      "774:\tlearn: 21.8255525\ttotal: 2.51s\tremaining: 729ms\n",
      "775:\tlearn: 21.8243645\ttotal: 2.51s\tremaining: 726ms\n",
      "776:\tlearn: 21.8236042\ttotal: 2.52s\tremaining: 722ms\n",
      "777:\tlearn: 21.8222470\ttotal: 2.52s\tremaining: 719ms\n",
      "778:\tlearn: 21.8194392\ttotal: 2.52s\tremaining: 715ms\n",
      "779:\tlearn: 21.8183349\ttotal: 2.52s\tremaining: 712ms\n",
      "780:\tlearn: 21.8136744\ttotal: 2.53s\tremaining: 708ms\n",
      "781:\tlearn: 21.8127002\ttotal: 2.53s\tremaining: 705ms\n",
      "782:\tlearn: 21.8116380\ttotal: 2.54s\tremaining: 703ms\n",
      "783:\tlearn: 21.8103823\ttotal: 2.54s\tremaining: 699ms\n",
      "784:\tlearn: 21.8070845\ttotal: 2.54s\tremaining: 696ms\n",
      "785:\tlearn: 21.8047425\ttotal: 2.54s\tremaining: 692ms\n",
      "786:\tlearn: 21.8038820\ttotal: 2.54s\tremaining: 689ms\n",
      "787:\tlearn: 21.8009497\ttotal: 2.55s\tremaining: 685ms\n",
      "788:\tlearn: 21.7993043\ttotal: 2.55s\tremaining: 682ms\n",
      "789:\tlearn: 21.7979824\ttotal: 2.55s\tremaining: 679ms\n",
      "790:\tlearn: 21.7958859\ttotal: 2.56s\tremaining: 675ms\n",
      "791:\tlearn: 21.7949807\ttotal: 2.56s\tremaining: 672ms\n",
      "792:\tlearn: 21.7933742\ttotal: 2.56s\tremaining: 668ms\n",
      "793:\tlearn: 21.7869849\ttotal: 2.56s\tremaining: 665ms\n",
      "794:\tlearn: 21.7769136\ttotal: 2.56s\tremaining: 662ms\n",
      "795:\tlearn: 21.7750241\ttotal: 2.57s\tremaining: 658ms\n",
      "796:\tlearn: 21.7724529\ttotal: 2.57s\tremaining: 655ms\n",
      "797:\tlearn: 21.7704222\ttotal: 2.57s\tremaining: 651ms\n",
      "798:\tlearn: 21.7680715\ttotal: 2.58s\tremaining: 648ms\n",
      "799:\tlearn: 21.7667316\ttotal: 2.58s\tremaining: 644ms\n",
      "800:\tlearn: 21.7650079\ttotal: 2.58s\tremaining: 641ms\n",
      "801:\tlearn: 21.7613346\ttotal: 2.58s\tremaining: 638ms\n",
      "802:\tlearn: 21.7588765\ttotal: 2.58s\tremaining: 634ms\n",
      "803:\tlearn: 21.7564891\ttotal: 2.59s\tremaining: 631ms\n",
      "804:\tlearn: 21.7539681\ttotal: 2.59s\tremaining: 627ms\n",
      "805:\tlearn: 21.7520643\ttotal: 2.59s\tremaining: 624ms\n",
      "806:\tlearn: 21.7503026\ttotal: 2.6s\tremaining: 621ms\n",
      "807:\tlearn: 21.7491194\ttotal: 2.6s\tremaining: 617ms\n",
      "808:\tlearn: 21.7477703\ttotal: 2.6s\tremaining: 614ms\n",
      "809:\tlearn: 21.7450227\ttotal: 2.6s\tremaining: 611ms\n",
      "810:\tlearn: 21.7381570\ttotal: 2.6s\tremaining: 607ms\n",
      "811:\tlearn: 21.7353692\ttotal: 2.61s\tremaining: 604ms\n",
      "812:\tlearn: 21.7327382\ttotal: 2.61s\tremaining: 600ms\n",
      "813:\tlearn: 21.7316033\ttotal: 2.61s\tremaining: 597ms\n",
      "814:\tlearn: 21.7237961\ttotal: 2.62s\tremaining: 594ms\n",
      "815:\tlearn: 21.7221814\ttotal: 2.62s\tremaining: 590ms\n",
      "816:\tlearn: 21.7200963\ttotal: 2.62s\tremaining: 587ms\n",
      "817:\tlearn: 21.7174663\ttotal: 2.62s\tremaining: 584ms\n",
      "818:\tlearn: 21.7165439\ttotal: 2.63s\tremaining: 580ms\n",
      "819:\tlearn: 21.7090834\ttotal: 2.63s\tremaining: 577ms\n",
      "820:\tlearn: 21.7080263\ttotal: 2.63s\tremaining: 573ms\n",
      "821:\tlearn: 21.7059448\ttotal: 2.63s\tremaining: 570ms\n",
      "822:\tlearn: 21.7040920\ttotal: 2.63s\tremaining: 567ms\n",
      "823:\tlearn: 21.7029894\ttotal: 2.64s\tremaining: 563ms\n",
      "824:\tlearn: 21.6986780\ttotal: 2.64s\tremaining: 560ms\n",
      "825:\tlearn: 21.6943131\ttotal: 2.64s\tremaining: 557ms\n",
      "826:\tlearn: 21.6921049\ttotal: 2.64s\tremaining: 553ms\n",
      "827:\tlearn: 21.6888924\ttotal: 2.65s\tremaining: 550ms\n",
      "828:\tlearn: 21.6875772\ttotal: 2.65s\tremaining: 547ms\n",
      "829:\tlearn: 21.6858766\ttotal: 2.65s\tremaining: 543ms\n",
      "830:\tlearn: 21.6826729\ttotal: 2.65s\tremaining: 540ms\n",
      "831:\tlearn: 21.6817600\ttotal: 2.66s\tremaining: 537ms\n",
      "832:\tlearn: 21.6798947\ttotal: 2.66s\tremaining: 533ms\n",
      "833:\tlearn: 21.6782066\ttotal: 2.66s\tremaining: 530ms\n",
      "834:\tlearn: 21.6739438\ttotal: 2.67s\tremaining: 527ms\n",
      "835:\tlearn: 21.6721699\ttotal: 2.67s\tremaining: 524ms\n",
      "836:\tlearn: 21.6683481\ttotal: 2.67s\tremaining: 521ms\n",
      "837:\tlearn: 21.6654965\ttotal: 2.68s\tremaining: 517ms\n",
      "838:\tlearn: 21.6637287\ttotal: 2.68s\tremaining: 514ms\n",
      "839:\tlearn: 21.6597976\ttotal: 2.68s\tremaining: 511ms\n",
      "840:\tlearn: 21.6589351\ttotal: 2.68s\tremaining: 508ms\n",
      "841:\tlearn: 21.6573181\ttotal: 2.69s\tremaining: 504ms\n",
      "842:\tlearn: 21.6559129\ttotal: 2.69s\tremaining: 501ms\n",
      "843:\tlearn: 21.6461928\ttotal: 2.69s\tremaining: 497ms\n",
      "844:\tlearn: 21.6408345\ttotal: 2.69s\tremaining: 494ms\n",
      "845:\tlearn: 21.6397029\ttotal: 2.69s\tremaining: 491ms\n",
      "846:\tlearn: 21.6336750\ttotal: 2.7s\tremaining: 487ms\n",
      "847:\tlearn: 21.6310003\ttotal: 2.7s\tremaining: 484ms\n",
      "848:\tlearn: 21.6254535\ttotal: 2.7s\tremaining: 481ms\n",
      "849:\tlearn: 21.6246256\ttotal: 2.71s\tremaining: 478ms\n",
      "850:\tlearn: 21.6231334\ttotal: 2.71s\tremaining: 474ms\n",
      "851:\tlearn: 21.6222191\ttotal: 2.71s\tremaining: 471ms\n",
      "852:\tlearn: 21.6207005\ttotal: 2.71s\tremaining: 468ms\n",
      "853:\tlearn: 21.6201068\ttotal: 2.72s\tremaining: 464ms\n",
      "854:\tlearn: 21.6126119\ttotal: 2.72s\tremaining: 461ms\n",
      "855:\tlearn: 21.6104583\ttotal: 2.72s\tremaining: 458ms\n",
      "856:\tlearn: 21.6093341\ttotal: 2.72s\tremaining: 455ms\n",
      "857:\tlearn: 21.6084913\ttotal: 2.73s\tremaining: 451ms\n",
      "858:\tlearn: 21.6077295\ttotal: 2.73s\tremaining: 448ms\n",
      "859:\tlearn: 21.6056984\ttotal: 2.73s\tremaining: 445ms\n",
      "860:\tlearn: 21.6041135\ttotal: 2.73s\tremaining: 441ms\n",
      "861:\tlearn: 21.6032601\ttotal: 2.74s\tremaining: 438ms\n",
      "862:\tlearn: 21.6020353\ttotal: 2.74s\tremaining: 435ms\n",
      "863:\tlearn: 21.6012614\ttotal: 2.74s\tremaining: 431ms\n",
      "864:\tlearn: 21.5974176\ttotal: 2.74s\tremaining: 428ms\n",
      "865:\tlearn: 21.5960497\ttotal: 2.75s\tremaining: 425ms\n",
      "866:\tlearn: 21.5947303\ttotal: 2.75s\tremaining: 422ms\n",
      "867:\tlearn: 21.5920770\ttotal: 2.75s\tremaining: 418ms\n",
      "868:\tlearn: 21.5892980\ttotal: 2.75s\tremaining: 415ms\n",
      "869:\tlearn: 21.5814271\ttotal: 2.76s\tremaining: 412ms\n",
      "870:\tlearn: 21.5792582\ttotal: 2.76s\tremaining: 409ms\n",
      "871:\tlearn: 21.5748909\ttotal: 2.76s\tremaining: 405ms\n",
      "872:\tlearn: 21.5615668\ttotal: 2.76s\tremaining: 402ms\n",
      "873:\tlearn: 21.5588172\ttotal: 2.77s\tremaining: 399ms\n",
      "874:\tlearn: 21.5479101\ttotal: 2.77s\tremaining: 395ms\n",
      "875:\tlearn: 21.5457855\ttotal: 2.77s\tremaining: 392ms\n",
      "876:\tlearn: 21.5435858\ttotal: 2.77s\tremaining: 389ms\n",
      "877:\tlearn: 21.5418163\ttotal: 2.77s\tremaining: 386ms\n",
      "878:\tlearn: 21.5393986\ttotal: 2.78s\tremaining: 382ms\n",
      "879:\tlearn: 21.5316552\ttotal: 2.78s\tremaining: 379ms\n",
      "880:\tlearn: 21.5287831\ttotal: 2.78s\tremaining: 376ms\n",
      "881:\tlearn: 21.5270433\ttotal: 2.79s\tremaining: 373ms\n",
      "882:\tlearn: 21.5260653\ttotal: 2.79s\tremaining: 369ms\n",
      "883:\tlearn: 21.5237888\ttotal: 2.79s\tremaining: 366ms\n",
      "884:\tlearn: 21.5221858\ttotal: 2.79s\tremaining: 363ms\n",
      "885:\tlearn: 21.5188019\ttotal: 2.79s\tremaining: 360ms\n",
      "886:\tlearn: 21.5165551\ttotal: 2.8s\tremaining: 356ms\n",
      "887:\tlearn: 21.5140077\ttotal: 2.8s\tremaining: 353ms\n",
      "888:\tlearn: 21.5123581\ttotal: 2.8s\tremaining: 350ms\n",
      "889:\tlearn: 21.5115967\ttotal: 2.8s\tremaining: 347ms\n",
      "890:\tlearn: 21.5105872\ttotal: 2.81s\tremaining: 343ms\n",
      "891:\tlearn: 21.5072638\ttotal: 2.81s\tremaining: 340ms\n",
      "892:\tlearn: 21.5056975\ttotal: 2.81s\tremaining: 337ms\n",
      "893:\tlearn: 21.5034362\ttotal: 2.81s\tremaining: 334ms\n",
      "894:\tlearn: 21.5004618\ttotal: 2.82s\tremaining: 330ms\n",
      "895:\tlearn: 21.4990711\ttotal: 2.82s\tremaining: 327ms\n",
      "896:\tlearn: 21.4980726\ttotal: 2.82s\tremaining: 324ms\n",
      "897:\tlearn: 21.4965459\ttotal: 2.82s\tremaining: 321ms\n",
      "898:\tlearn: 21.4918628\ttotal: 2.83s\tremaining: 317ms\n",
      "899:\tlearn: 21.4856675\ttotal: 2.83s\tremaining: 314ms\n",
      "900:\tlearn: 21.4841478\ttotal: 2.83s\tremaining: 311ms\n",
      "901:\tlearn: 21.4816038\ttotal: 2.83s\tremaining: 308ms\n",
      "902:\tlearn: 21.4800037\ttotal: 2.83s\tremaining: 305ms\n",
      "903:\tlearn: 21.4792585\ttotal: 2.84s\tremaining: 301ms\n",
      "904:\tlearn: 21.4768532\ttotal: 2.84s\tremaining: 298ms\n",
      "905:\tlearn: 21.4744506\ttotal: 2.84s\tremaining: 295ms\n",
      "906:\tlearn: 21.4736316\ttotal: 2.85s\tremaining: 292ms\n",
      "907:\tlearn: 21.4726298\ttotal: 2.85s\tremaining: 289ms\n",
      "908:\tlearn: 21.4708512\ttotal: 2.85s\tremaining: 286ms\n",
      "909:\tlearn: 21.4667798\ttotal: 2.85s\tremaining: 282ms\n",
      "910:\tlearn: 21.4658943\ttotal: 2.86s\tremaining: 279ms\n",
      "911:\tlearn: 21.4652651\ttotal: 2.86s\tremaining: 276ms\n",
      "912:\tlearn: 21.4646728\ttotal: 2.86s\tremaining: 273ms\n",
      "913:\tlearn: 21.4637643\ttotal: 2.87s\tremaining: 270ms\n",
      "914:\tlearn: 21.4600823\ttotal: 2.87s\tremaining: 267ms\n",
      "915:\tlearn: 21.4572865\ttotal: 2.87s\tremaining: 263ms\n",
      "916:\tlearn: 21.4566347\ttotal: 2.88s\tremaining: 260ms\n",
      "917:\tlearn: 21.4552486\ttotal: 2.88s\tremaining: 257ms\n",
      "918:\tlearn: 21.4541291\ttotal: 2.88s\tremaining: 254ms\n",
      "919:\tlearn: 21.4521409\ttotal: 2.88s\tremaining: 251ms\n",
      "920:\tlearn: 21.4514069\ttotal: 2.89s\tremaining: 248ms\n",
      "921:\tlearn: 21.4498094\ttotal: 2.89s\tremaining: 244ms\n",
      "922:\tlearn: 21.4486858\ttotal: 2.89s\tremaining: 241ms\n",
      "923:\tlearn: 21.4465033\ttotal: 2.89s\tremaining: 238ms\n",
      "924:\tlearn: 21.4450561\ttotal: 2.9s\tremaining: 235ms\n",
      "925:\tlearn: 21.4428298\ttotal: 2.9s\tremaining: 232ms\n",
      "926:\tlearn: 21.4406215\ttotal: 2.91s\tremaining: 229ms\n",
      "927:\tlearn: 21.4401125\ttotal: 2.91s\tremaining: 226ms\n",
      "928:\tlearn: 21.4283390\ttotal: 2.91s\tremaining: 223ms\n",
      "929:\tlearn: 21.4254442\ttotal: 2.91s\tremaining: 219ms\n",
      "930:\tlearn: 21.4241365\ttotal: 2.92s\tremaining: 216ms\n",
      "931:\tlearn: 21.4183008\ttotal: 2.92s\tremaining: 213ms\n",
      "932:\tlearn: 21.4113875\ttotal: 2.92s\tremaining: 210ms\n",
      "933:\tlearn: 21.4094203\ttotal: 2.93s\tremaining: 207ms\n",
      "934:\tlearn: 21.4072304\ttotal: 2.93s\tremaining: 204ms\n",
      "935:\tlearn: 21.4063510\ttotal: 2.93s\tremaining: 200ms\n",
      "936:\tlearn: 21.4040832\ttotal: 2.94s\tremaining: 198ms\n",
      "937:\tlearn: 21.4000172\ttotal: 2.94s\tremaining: 194ms\n",
      "938:\tlearn: 21.3993799\ttotal: 2.94s\tremaining: 191ms\n",
      "939:\tlearn: 21.3971531\ttotal: 2.95s\tremaining: 188ms\n",
      "940:\tlearn: 21.3956242\ttotal: 2.95s\tremaining: 185ms\n",
      "941:\tlearn: 21.3929557\ttotal: 2.95s\tremaining: 182ms\n",
      "942:\tlearn: 21.3911686\ttotal: 2.96s\tremaining: 179ms\n",
      "943:\tlearn: 21.3893597\ttotal: 2.96s\tremaining: 176ms\n",
      "944:\tlearn: 21.3875233\ttotal: 2.96s\tremaining: 172ms\n",
      "945:\tlearn: 21.3858294\ttotal: 2.96s\tremaining: 169ms\n",
      "946:\tlearn: 21.3780099\ttotal: 2.97s\tremaining: 166ms\n",
      "947:\tlearn: 21.3758915\ttotal: 2.97s\tremaining: 163ms\n",
      "948:\tlearn: 21.3752217\ttotal: 2.97s\tremaining: 160ms\n",
      "949:\tlearn: 21.3741697\ttotal: 2.98s\tremaining: 157ms\n",
      "950:\tlearn: 21.3729559\ttotal: 2.98s\tremaining: 153ms\n",
      "951:\tlearn: 21.3711675\ttotal: 2.98s\tremaining: 150ms\n",
      "952:\tlearn: 21.3687592\ttotal: 2.98s\tremaining: 147ms\n",
      "953:\tlearn: 21.3674468\ttotal: 2.99s\tremaining: 144ms\n",
      "954:\tlearn: 21.3646001\ttotal: 2.99s\tremaining: 141ms\n",
      "955:\tlearn: 21.3612872\ttotal: 2.99s\tremaining: 138ms\n",
      "956:\tlearn: 21.3605134\ttotal: 2.99s\tremaining: 135ms\n",
      "957:\tlearn: 21.3571172\ttotal: 3s\tremaining: 131ms\n",
      "958:\tlearn: 21.3554901\ttotal: 3s\tremaining: 128ms\n",
      "959:\tlearn: 21.3527856\ttotal: 3s\tremaining: 125ms\n",
      "960:\tlearn: 21.3503369\ttotal: 3s\tremaining: 122ms\n",
      "961:\tlearn: 21.3495304\ttotal: 3.01s\tremaining: 119ms\n",
      "962:\tlearn: 21.3483250\ttotal: 3.01s\tremaining: 116ms\n",
      "963:\tlearn: 21.3463141\ttotal: 3.01s\tremaining: 113ms\n",
      "964:\tlearn: 21.3454571\ttotal: 3.02s\tremaining: 109ms\n",
      "965:\tlearn: 21.3445123\ttotal: 3.02s\tremaining: 106ms\n",
      "966:\tlearn: 21.3415475\ttotal: 3.02s\tremaining: 103ms\n",
      "967:\tlearn: 21.3409187\ttotal: 3.02s\tremaining: 99.9ms\n",
      "968:\tlearn: 21.3376545\ttotal: 3.02s\tremaining: 96.8ms\n",
      "969:\tlearn: 21.3305279\ttotal: 3.03s\tremaining: 93.6ms\n",
      "970:\tlearn: 21.3291978\ttotal: 3.03s\tremaining: 90.5ms\n",
      "971:\tlearn: 21.3272645\ttotal: 3.03s\tremaining: 87.4ms\n",
      "972:\tlearn: 21.3209630\ttotal: 3.04s\tremaining: 84.2ms\n",
      "973:\tlearn: 21.3196666\ttotal: 3.04s\tremaining: 81.1ms\n",
      "974:\tlearn: 21.3168276\ttotal: 3.04s\tremaining: 78ms\n",
      "975:\tlearn: 21.3159146\ttotal: 3.04s\tremaining: 74.8ms\n",
      "976:\tlearn: 21.3128802\ttotal: 3.05s\tremaining: 71.7ms\n",
      "977:\tlearn: 21.3120012\ttotal: 3.05s\tremaining: 68.6ms\n",
      "978:\tlearn: 21.3111705\ttotal: 3.05s\tremaining: 65.5ms\n",
      "979:\tlearn: 21.3098174\ttotal: 3.05s\tremaining: 62.3ms\n",
      "980:\tlearn: 21.3089117\ttotal: 3.06s\tremaining: 59.2ms\n",
      "981:\tlearn: 21.3083058\ttotal: 3.06s\tremaining: 56.1ms\n",
      "982:\tlearn: 21.3065600\ttotal: 3.06s\tremaining: 53ms\n",
      "983:\tlearn: 21.3047554\ttotal: 3.06s\tremaining: 49.8ms\n",
      "984:\tlearn: 21.3041991\ttotal: 3.08s\tremaining: 46.9ms\n",
      "985:\tlearn: 21.3018675\ttotal: 3.08s\tremaining: 43.7ms\n",
      "986:\tlearn: 21.3010551\ttotal: 3.08s\tremaining: 40.6ms\n",
      "987:\tlearn: 21.2999332\ttotal: 3.08s\tremaining: 37.5ms\n",
      "988:\tlearn: 21.2971585\ttotal: 3.09s\tremaining: 34.3ms\n",
      "989:\tlearn: 21.2961399\ttotal: 3.09s\tremaining: 31.2ms\n",
      "990:\tlearn: 21.2933697\ttotal: 3.09s\tremaining: 28.1ms\n",
      "991:\tlearn: 21.2926762\ttotal: 3.1s\tremaining: 25ms\n",
      "992:\tlearn: 21.2912859\ttotal: 3.1s\tremaining: 21.9ms\n",
      "993:\tlearn: 21.2886910\ttotal: 3.1s\tremaining: 18.7ms\n",
      "994:\tlearn: 21.2881239\ttotal: 3.11s\tremaining: 15.6ms\n",
      "995:\tlearn: 21.2860876\ttotal: 3.11s\tremaining: 12.5ms\n",
      "996:\tlearn: 21.2845356\ttotal: 3.11s\tremaining: 9.36ms\n",
      "997:\tlearn: 21.2825189\ttotal: 3.11s\tremaining: 6.24ms\n",
      "998:\tlearn: 21.2814396\ttotal: 3.12s\tremaining: 3.12ms\n",
      "999:\tlearn: 21.2791580\ttotal: 3.12s\tremaining: 0us\n"
     ]
    },
    {
     "data": {
      "text/plain": [
       "<catboost.core.CatBoostRegressor at 0x220821933d0>"
      ]
     },
     "execution_count": 82,
     "metadata": {},
     "output_type": "execute_result"
    }
   ],
   "source": [
    "from catboost import CatBoostRegressor\n",
    "cat_model=CatBoostRegressor(learning_rate=0.05)\n",
    "cat_model.fit(x_train,y_train)"
   ]
  },
  {
   "cell_type": "code",
   "execution_count": 83,
   "metadata": {},
   "outputs": [
    {
     "data": {
      "text/plain": [
       "0.8347092683151283"
      ]
     },
     "execution_count": 83,
     "metadata": {},
     "output_type": "execute_result"
    }
   ],
   "source": [
    "cat_model.score(x_test,y_test)"
   ]
  },
  {
   "cell_type": "code",
   "execution_count": 251,
   "metadata": {},
   "outputs": [
    {
     "data": {
      "text/plain": [
       "45.407030723120414"
      ]
     },
     "execution_count": 251,
     "metadata": {},
     "output_type": "execute_result"
    }
   ],
   "source": [
    "n=cat_model.predict(np.array(x_test)[0])\n",
    "n"
   ]
  },
  {
   "cell_type": "code",
   "execution_count": 252,
   "metadata": {},
   "outputs": [
    {
     "name": "stderr",
     "output_type": "stream",
     "text": [
      "c:\\Users\\choco\\AppData\\Local\\Programs\\Python\\Python311\\Lib\\site-packages\\sklearn\\base.py:493: UserWarning: X does not have valid feature names, but GradientBoostingRegressor was fitted with feature names\n",
      "  warnings.warn(\n"
     ]
    },
    {
     "data": {
      "text/plain": [
       "array([46.08602527])"
      ]
     },
     "execution_count": 252,
     "metadata": {},
     "output_type": "execute_result"
    }
   ],
   "source": [
    "m=xg.predict(np.array(x_test)[0].reshape(-1,157))\n",
    "m"
   ]
  },
  {
   "cell_type": "code",
   "execution_count": 250,
   "metadata": {},
   "outputs": [
    {
     "data": {
      "text/plain": [
       "array([45.746528])"
      ]
     },
     "execution_count": 250,
     "metadata": {},
     "output_type": "execute_result"
    }
   ],
   "source": [
    "(n+m)/2"
   ]
  },
  {
   "cell_type": "code",
   "execution_count": null,
   "metadata": {},
   "outputs": [],
   "source": []
  }
 ],
 "metadata": {
  "kernelspec": {
   "display_name": "base",
   "language": "python",
   "name": "python3"
  },
  "language_info": {
   "codemirror_mode": {
    "name": "ipython",
    "version": 3
   },
   "file_extension": ".py",
   "mimetype": "text/x-python",
   "name": "python",
   "nbconvert_exporter": "python",
   "pygments_lexer": "ipython3",
   "version": "3.11.8"
  }
 },
 "nbformat": 4,
 "nbformat_minor": 2
}
